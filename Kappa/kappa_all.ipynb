{
 "cells": [
  {
   "attachments": {},
   "cell_type": "markdown",
   "metadata": {},
   "source": [
    "## Experience on all mice to determine kappa coefficient. "
   ]
  },
  {
   "attachments": {},
   "cell_type": "markdown",
   "metadata": {},
   "source": [
    "This experiment is about comparing the prediction made by the balanced random forest model, the SVM models and the expert's annotations"
   ]
  },
  {
   "cell_type": "code",
   "execution_count": 13,
   "metadata": {},
   "outputs": [],
   "source": [
    "# imports\n",
    "import pandas as pd\n",
    "import numpy as np\n",
    "import matplotlib.pyplot as plt\n",
    "import seaborn as sns\n",
    "import sklearn.metrics as metrics\n",
    "from sklearn.metrics import confusion_matrix\n",
    "from sklearn.preprocessing import StandardScaler\n",
    "from sklearn.ensemble import RandomForestClassifier\n",
    "\n",
    "import sys\n",
    "sys.path.append('../Library')\n",
    "import breedManip as breedManip\n",
    "import dataProcessing as dataProcessing\n",
    "import breeds as breeds\n",
    "import splitData as splitData\n",
    "\n",
    "import pickle\n",
    "import os"
   ]
  },
  {
   "cell_type": "code",
   "execution_count": 14,
   "metadata": {},
   "outputs": [],
   "source": [
    "# use pickle to load the model already trained\n",
    "with open('/home/magali.egger/workspace/TBproject/Travail_Bachelor/Data/rfc_kappa.pkl', 'rb') as f:\n",
    "    rfc = pickle.load(f)"
   ]
  },
  {
   "attachments": {},
   "cell_type": "markdown",
   "metadata": {},
   "source": [
    "#### Prepare the data frame"
   ]
  },
  {
   "cell_type": "code",
   "execution_count": 15,
   "metadata": {},
   "outputs": [],
   "source": [
    "with open('/home/magali.egger/workspace/TBproject/Travail_Bachelor/Data/df_simplify.pkl', 'rb') as f:\n",
    "    df = pickle.load(f)"
   ]
  },
  {
   "cell_type": "code",
   "execution_count": 16,
   "metadata": {},
   "outputs": [],
   "source": [
    "df = df[(df['day'] == 0) | (df['day'] == 1)]\n",
    "df = df.drop(columns=['mouse'])\n",
    "df = df.drop(columns=['breed'])"
   ]
  },
  {
   "cell_type": "code",
   "execution_count": 17,
   "metadata": {},
   "outputs": [],
   "source": [
    "# split the features and the labels of the df\n",
    "features = df.drop(columns=['state', 'rawState'])\n",
    "svm = df['rawState']\n",
    "\n",
    "with open('/home/magali.egger/workspace/TBproject/Travail_Bachelor/Data/scaler_class_all.pkl', 'rb') as f:\n",
    "    scaler = pickle.load(f)\n",
    "features = scaler.transform(features)\n"
   ]
  },
  {
   "attachments": {},
   "cell_type": "markdown",
   "metadata": {},
   "source": [
    "#### Prepare the different predictions"
   ]
  },
  {
   "cell_type": "code",
   "execution_count": 18,
   "metadata": {},
   "outputs": [],
   "source": [
    "# compute the prediction\n",
    "prediction = rfc.predict(features)\n",
    "pred = np.argmax(prediction, axis=1)"
   ]
  },
  {
   "attachments": {},
   "cell_type": "markdown",
   "metadata": {},
   "source": [
    "#### Calculate the kappa coefficient of the random forest model vs the SVM model"
   ]
  },
  {
   "cell_type": "code",
   "execution_count": 23,
   "metadata": {},
   "outputs": [
    {
     "name": "stdout",
     "output_type": "stream",
     "text": [
      "0.707246297703118\n"
     ]
    }
   ],
   "source": [
    "\n",
    "kappa = metrics.cohen_kappa_score(svm, pred)\n",
    "print(kappa)"
   ]
  },
  {
   "cell_type": "code",
   "execution_count": 24,
   "metadata": {},
   "outputs": [
    {
     "name": "stdout",
     "output_type": "stream",
     "text": [
      "[[4431822      23  295214]\n",
      " [ 509000    7665  101486]\n",
      " [ 749660     303 4551153]]\n",
      "              precision    recall  f1-score   support\n",
      "\n",
      "           n       0.78      0.94      0.85   4727059\n",
      "           r       0.96      0.01      0.02    618151\n",
      "           w       0.92      0.86      0.89   5301116\n",
      "\n",
      "    accuracy                           0.84  10646326\n",
      "   macro avg       0.89      0.60      0.59  10646326\n",
      "weighted avg       0.86      0.84      0.82  10646326\n",
      "\n"
     ]
    },
    {
     "data": {
      "image/png": "[encoded data removed]",
      "text/plain": [
       "<Figure size 640x480 with 2 Axes>"
      ]
     },
     "metadata": {},
     "output_type": "display_data"
    }
   ],
   "source": [
    "cm = np.array(confusion_matrix(svm, pred))\n",
    "print(cm)\n",
    "\n",
    "cm = np.array(confusion_matrix(svm, pred, normalize='true')) # normalize = 'true' or 'pred'\n",
    "confusion = pd.DataFrame(cm, index=['n', 'r', 'w'], columns=['n(pred)', 'r(pred)', 'w(pred)'])\n",
    "\n",
    "print(metrics.classification_report(svm, pred, target_names=['n','r','w'], zero_division=0))\n",
    "\n",
    "sns.heatmap(confusion, annot=True, cmap=\"Blues\", fmt='.2f')\n",
    "plt.title(f'Confusion matrix (normalize = true)')\n",
    "plt.show()"
   ]
  },
  {
   "cell_type": "code",
   "execution_count": null,
   "metadata": {},
   "outputs": [],
   "source": []
  }
 ],
 "metadata": {
  "kernelspec": {
   "display_name": "tb",
   "language": "python",
   "name": "tb"
  },
  "language_info": {
   "codemirror_mode": {
    "name": "ipython",
    "version": 3
   },
   "file_extension": ".py",
   "mimetype": "text/x-python",
   "name": "python",
   "nbconvert_exporter": "python",
   "pygments_lexer": "ipython3",
   "version": "3.10.9"
  },
  "orig_nbformat": 4
 },
 "nbformat": 4,
 "nbformat_minor": 2
}
