{
 "cells": [
  {
   "attachments": {},
   "cell_type": "markdown",
   "metadata": {},
   "source": [
    "## Model for calculating kappa coefficient"
   ]
  },
  {
   "attachments": {},
   "cell_type": "markdown",
   "metadata": {},
   "source": [
    "This notebook is used to calculate the kappa coefficient to compare the svm model and the random forest model. The difference with the other full classification model is that only the labels originally mark as 'w', 'n' and 'r' are used. The other labels are not taken into account."
   ]
  },
  {
   "cell_type": "code",
   "execution_count": 1,
   "metadata": {},
   "outputs": [
    {
     "name": "stderr",
     "output_type": "stream",
     "text": [
      "2023-07-14 14:52:18.049645: I tensorflow/tsl/cuda/cudart_stub.cc:28] Could not find cuda drivers on your machine, GPU will not be used.\n",
      "2023-07-14 14:52:18.125255: I tensorflow/tsl/cuda/cudart_stub.cc:28] Could not find cuda drivers on your machine, GPU will not be used.\n",
      "2023-07-14 14:52:19.301561: W tensorflow/compiler/tf2tensorrt/utils/py_utils.cc:38] TF-TRT Warning: Could not find TensorRT\n",
      "Intel(R) Extension for Scikit-learn* enabled (https://github.com/intel/scikit-learn-intelex)\n"
     ]
    },
    {
     "data": {
      "text/plain": [
       "<module 'splitData' from '/mnt/remote/workspaces/magali.egger/TBproject/Travail_Bachelor/Kappa/../Library/splitData.py'>"
      ]
     },
     "execution_count": 1,
     "metadata": {},
     "output_type": "execute_result"
    }
   ],
   "source": [
    "import pandas as pd\n",
    "import numpy as np\n",
    "import matplotlib.pyplot as plt\n",
    "import seaborn as sns\n",
    "import tensorflow as tf\n",
    "import pickle\n",
    "from sklearn.ensemble import RandomForestClassifier\n",
    "from sklearn.metrics import confusion_matrix, classification_report\n",
    "\n",
    "import sys\n",
    "sys.path.append('../Library')\n",
    "\n",
    "import breedManip as breedManip\n",
    "import dataProcessing as dataProcessing\n",
    "import breeds as breeds\n",
    "import splitData as splitData\n",
    "\n",
    "import importlib\n",
    "importlib.reload(splitData)"
   ]
  },
  {
   "attachments": {},
   "cell_type": "markdown",
   "metadata": {},
   "source": [
    "#### Preparation of the data"
   ]
  },
  {
   "cell_type": "code",
   "execution_count": 2,
   "metadata": {},
   "outputs": [],
   "source": [
    "with open('/home/magali.egger/workspace/TBproject/Travail_Bachelor/Data/df_artifacts_free.pkl', 'rb') as f:\n",
    "    df = pickle.load(f)"
   ]
  },
  {
   "cell_type": "code",
   "execution_count": 3,
   "metadata": {},
   "outputs": [],
   "source": [
    "df = df[df['day']== 2]\n",
    "df['breed'] = df['mouse'].apply(lambda x: breedManip.getBreedIndex(breedManip.getBreedOfMouse(x)))"
   ]
  },
  {
   "cell_type": "code",
   "execution_count": 4,
   "metadata": {},
   "outputs": [],
   "source": [
    "# keep only the rawState with the value n,r,w\n",
    "df = df[df['rawState'].isin(['n','r','w'])]"
   ]
  },
  {
   "cell_type": "code",
   "execution_count": 5,
   "metadata": {},
   "outputs": [
    {
     "data": {
      "text/html": [
       "<div>\n",
       "<style scoped>\n",
       "    .dataframe tbody tr th:only-of-type {\n",
       "        vertical-align: middle;\n",
       "    }\n",
       "\n",
       "    .dataframe tbody tr th {\n",
       "        vertical-align: top;\n",
       "    }\n",
       "\n",
       "    .dataframe thead th {\n",
       "        text-align: right;\n",
       "    }\n",
       "</style>\n",
       "<table border=\"1\" class=\"dataframe\">\n",
       "  <thead>\n",
       "    <tr style=\"text-align: right;\">\n",
       "      <th></th>\n",
       "      <th>Unnamed: 0</th>\n",
       "      <th>rawState</th>\n",
       "      <th>state</th>\n",
       "      <th>EEGv</th>\n",
       "      <th>EMGv</th>\n",
       "      <th>epoch</th>\n",
       "      <th>day</th>\n",
       "      <th>spectral_flatness</th>\n",
       "      <th>spectral_centroid</th>\n",
       "      <th>spectral_entropy</th>\n",
       "      <th>...</th>\n",
       "      <th>EMGv_max100</th>\n",
       "      <th>EEGv_log</th>\n",
       "      <th>EMGv_log</th>\n",
       "      <th>bias</th>\n",
       "      <th>EEGv^2</th>\n",
       "      <th>EEGv^3</th>\n",
       "      <th>EMGv^2</th>\n",
       "      <th>EMGv^3</th>\n",
       "      <th>mouse</th>\n",
       "      <th>breed</th>\n",
       "    </tr>\n",
       "  </thead>\n",
       "  <tbody>\n",
       "    <tr>\n",
       "      <th>42018</th>\n",
       "      <td>43200</td>\n",
       "      <td>w</td>\n",
       "      <td>w</td>\n",
       "      <td>2.561793e-09</td>\n",
       "      <td>2.476193e-10</td>\n",
       "      <td>43200</td>\n",
       "      <td>2</td>\n",
       "      <td>0.156645</td>\n",
       "      <td>15.654199</td>\n",
       "      <td>-6.416485</td>\n",
       "      <td>...</td>\n",
       "      <td>6.798730e-10</td>\n",
       "      <td>-19.782559</td>\n",
       "      <td>-22.119129</td>\n",
       "      <td>1</td>\n",
       "      <td>6.562781e-18</td>\n",
       "      <td>1.681248e-26</td>\n",
       "      <td>6.131530e-20</td>\n",
       "      <td>1.518285e-29</td>\n",
       "      <td>09003</td>\n",
       "      <td>34</td>\n",
       "    </tr>\n",
       "    <tr>\n",
       "      <th>42019</th>\n",
       "      <td>43201</td>\n",
       "      <td>w</td>\n",
       "      <td>w</td>\n",
       "      <td>2.890715e-09</td>\n",
       "      <td>1.768662e-10</td>\n",
       "      <td>43201</td>\n",
       "      <td>2</td>\n",
       "      <td>0.146992</td>\n",
       "      <td>15.432471</td>\n",
       "      <td>-5.647920</td>\n",
       "      <td>...</td>\n",
       "      <td>6.798730e-10</td>\n",
       "      <td>-19.661762</td>\n",
       "      <td>-22.455627</td>\n",
       "      <td>1</td>\n",
       "      <td>8.356233e-18</td>\n",
       "      <td>2.415549e-26</td>\n",
       "      <td>3.128167e-20</td>\n",
       "      <td>5.532671e-30</td>\n",
       "      <td>09003</td>\n",
       "      <td>34</td>\n",
       "    </tr>\n",
       "    <tr>\n",
       "      <th>42020</th>\n",
       "      <td>43202</td>\n",
       "      <td>w</td>\n",
       "      <td>w</td>\n",
       "      <td>2.657057e-09</td>\n",
       "      <td>1.719997e-10</td>\n",
       "      <td>43202</td>\n",
       "      <td>2</td>\n",
       "      <td>0.096660</td>\n",
       "      <td>11.455600</td>\n",
       "      <td>-5.618493</td>\n",
       "      <td>...</td>\n",
       "      <td>6.798730e-10</td>\n",
       "      <td>-19.746047</td>\n",
       "      <td>-22.483528</td>\n",
       "      <td>1</td>\n",
       "      <td>7.059955e-18</td>\n",
       "      <td>1.875871e-26</td>\n",
       "      <td>2.958391e-20</td>\n",
       "      <td>5.088426e-30</td>\n",
       "      <td>09003</td>\n",
       "      <td>34</td>\n",
       "    </tr>\n",
       "    <tr>\n",
       "      <th>42021</th>\n",
       "      <td>43203</td>\n",
       "      <td>w</td>\n",
       "      <td>w</td>\n",
       "      <td>3.102465e-09</td>\n",
       "      <td>1.463278e-10</td>\n",
       "      <td>43203</td>\n",
       "      <td>2</td>\n",
       "      <td>0.085641</td>\n",
       "      <td>10.517584</td>\n",
       "      <td>-5.388146</td>\n",
       "      <td>...</td>\n",
       "      <td>6.798730e-10</td>\n",
       "      <td>-19.591069</td>\n",
       "      <td>-22.645172</td>\n",
       "      <td>1</td>\n",
       "      <td>9.625289e-18</td>\n",
       "      <td>2.986212e-26</td>\n",
       "      <td>2.141181e-20</td>\n",
       "      <td>3.133143e-30</td>\n",
       "      <td>09003</td>\n",
       "      <td>34</td>\n",
       "    </tr>\n",
       "    <tr>\n",
       "      <th>42022</th>\n",
       "      <td>43204</td>\n",
       "      <td>w</td>\n",
       "      <td>w</td>\n",
       "      <td>3.150835e-09</td>\n",
       "      <td>1.709445e-10</td>\n",
       "      <td>43204</td>\n",
       "      <td>2</td>\n",
       "      <td>0.098589</td>\n",
       "      <td>10.449326</td>\n",
       "      <td>-5.478330</td>\n",
       "      <td>...</td>\n",
       "      <td>6.798730e-10</td>\n",
       "      <td>-19.575598</td>\n",
       "      <td>-22.489682</td>\n",
       "      <td>1</td>\n",
       "      <td>9.927761e-18</td>\n",
       "      <td>3.128074e-26</td>\n",
       "      <td>2.922202e-20</td>\n",
       "      <td>4.995344e-30</td>\n",
       "      <td>09003</td>\n",
       "      <td>34</td>\n",
       "    </tr>\n",
       "  </tbody>\n",
       "</table>\n",
       "<p>5 rows × 88 columns</p>\n",
       "</div>"
      ],
      "text/plain": [
       "       Unnamed: 0 rawState state          EEGv          EMGv  epoch  day  \\\n",
       "42018       43200        w     w  2.561793e-09  2.476193e-10  43200    2   \n",
       "42019       43201        w     w  2.890715e-09  1.768662e-10  43201    2   \n",
       "42020       43202        w     w  2.657057e-09  1.719997e-10  43202    2   \n",
       "42021       43203        w     w  3.102465e-09  1.463278e-10  43203    2   \n",
       "42022       43204        w     w  3.150835e-09  1.709445e-10  43204    2   \n",
       "\n",
       "       spectral_flatness  spectral_centroid  spectral_entropy  ...  \\\n",
       "42018           0.156645          15.654199         -6.416485  ...   \n",
       "42019           0.146992          15.432471         -5.647920  ...   \n",
       "42020           0.096660          11.455600         -5.618493  ...   \n",
       "42021           0.085641          10.517584         -5.388146  ...   \n",
       "42022           0.098589          10.449326         -5.478330  ...   \n",
       "\n",
       "        EMGv_max100   EEGv_log   EMGv_log  bias        EEGv^2        EEGv^3  \\\n",
       "42018  6.798730e-10 -19.782559 -22.119129     1  6.562781e-18  1.681248e-26   \n",
       "42019  6.798730e-10 -19.661762 -22.455627     1  8.356233e-18  2.415549e-26   \n",
       "42020  6.798730e-10 -19.746047 -22.483528     1  7.059955e-18  1.875871e-26   \n",
       "42021  6.798730e-10 -19.591069 -22.645172     1  9.625289e-18  2.986212e-26   \n",
       "42022  6.798730e-10 -19.575598 -22.489682     1  9.927761e-18  3.128074e-26   \n",
       "\n",
       "             EMGv^2        EMGv^3  mouse  breed  \n",
       "42018  6.131530e-20  1.518285e-29  09003     34  \n",
       "42019  3.128167e-20  5.532671e-30  09003     34  \n",
       "42020  2.958391e-20  5.088426e-30  09003     34  \n",
       "42021  2.141181e-20  3.133143e-30  09003     34  \n",
       "42022  2.922202e-20  4.995344e-30  09003     34  \n",
       "\n",
       "[5 rows x 88 columns]"
      ]
     },
     "execution_count": 5,
     "metadata": {},
     "output_type": "execute_result"
    }
   ],
   "source": [
    "df.head()"
   ]
  },
  {
   "cell_type": "code",
   "execution_count": 6,
   "metadata": {},
   "outputs": [],
   "source": [
    "selected_breeds = breedManip.selectAllBreedsOfSizeNOrMore(4)\n",
    "id_selected_breeds = [breedManip.getBreedIndex(b) for b in selected_breeds]\n",
    "df = df[df['breed'].isin(id_selected_breeds)]"
   ]
  },
  {
   "cell_type": "code",
   "execution_count": 7,
   "metadata": {},
   "outputs": [],
   "source": [
    "df_train, df_test = splitData.split_data_breeds(df, 30)"
   ]
  },
  {
   "cell_type": "code",
   "execution_count": 8,
   "metadata": {},
   "outputs": [],
   "source": [
    "df_train = df_train.drop(columns=['mouse'])\n",
    "df_test = df_test.drop(columns=['mouse'])\n",
    "df_train = df_train.drop(columns=['breed'])\n",
    "df_test = df_test.drop(columns=['breed'])"
   ]
  },
  {
   "cell_type": "code",
   "execution_count": 9,
   "metadata": {},
   "outputs": [],
   "source": [
    "x_train, x_test, y_train, y_test, le = splitData.encode_scale_data(df_train, df_test, 13, cat_matrix=True)"
   ]
  },
  {
   "attachments": {},
   "cell_type": "markdown",
   "metadata": {},
   "source": [
    "#### Training of the model"
   ]
  },
  {
   "cell_type": "code",
   "execution_count": 10,
   "metadata": {},
   "outputs": [],
   "source": [
    "rfc = RandomForestClassifier(random_state=13, class_weight=\"balanced\", n_jobs=-1)\n",
    "rfc.fit(x_train, y_train)\n",
    "y_pred = rfc.predict(x_test)"
   ]
  },
  {
   "cell_type": "code",
   "execution_count": 11,
   "metadata": {},
   "outputs": [],
   "source": [
    "with open('/home/magali.egger/workspace/TBproject/Travail_Bachelor/Data/rfc_kappa.pkl', 'wb') as f:\n",
    "    pickle.dump(rfc, f)"
   ]
  },
  {
   "cell_type": "code",
   "execution_count": 12,
   "metadata": {},
   "outputs": [
    {
     "name": "stdout",
     "output_type": "stream",
     "text": [
      "[[266248   1185   7859]\n",
      " [  8240  27741   2091]\n",
      " [ 14935   1171 430298]]\n"
     ]
    },
    {
     "name": "stdout",
     "output_type": "stream",
     "text": [
      "              precision    recall  f1-score   support\n",
      "\n",
      "           n       0.92      0.97      0.94    275292\n",
      "           r       0.92      0.73      0.81     38072\n",
      "           w       0.98      0.96      0.97    446404\n",
      "\n",
      "    accuracy                           0.95    759768\n",
      "   macro avg       0.94      0.89      0.91    759768\n",
      "weighted avg       0.95      0.95      0.95    759768\n",
      "\n"
     ]
    },
    {
     "data": {
      "image/png": "[encoded data removed]",
      "text/plain": [
       "<Figure size 640x480 with 2 Axes>"
      ]
     },
     "metadata": {},
     "output_type": "display_data"
    }
   ],
   "source": [
    "test = np.argmax(y_test, axis=1)\n",
    "pred = np.argmax(y_pred, axis=1)\n",
    "\n",
    "cm = np.array(confusion_matrix(test, pred))\n",
    "print(cm)\n",
    "\n",
    "cm = np.array(confusion_matrix(test, pred, normalize='true')) # normalize = 'true' or 'pred'\n",
    "confusion = pd.DataFrame(cm, index=le.classes_, columns=le.classes_ + ' (pred)')\n",
    "\n",
    "\n",
    "print(classification_report(test, pred, target_names=le.classes_, zero_division=0))\n",
    "\n",
    "sns.heatmap(confusion, annot=True, cmap=\"Blues\", fmt='.2f')\n",
    "plt.title(f'Confusion matrix (normalize = true)')\n",
    "plt.show()"
   ]
  },
  {
   "cell_type": "code",
   "execution_count": null,
   "metadata": {},
   "outputs": [],
   "source": []
  }
 ],
 "metadata": {
  "kernelspec": {
   "display_name": "tb",
   "language": "python",
   "name": "tb"
  },
  "language_info": {
   "codemirror_mode": {
    "name": "ipython",
    "version": 3
   },
   "file_extension": ".py",
   "mimetype": "text/x-python",
   "name": "python",
   "nbconvert_exporter": "python",
   "pygments_lexer": "ipython3",
   "version": "3.10.9"
  },
  "orig_nbformat": 4
 },
 "nbformat": 4,
 "nbformat_minor": 2
}
