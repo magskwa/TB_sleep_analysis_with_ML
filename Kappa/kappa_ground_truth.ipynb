{
 "cells": [
  {
   "attachments": {},
   "cell_type": "markdown",
   "metadata": {},
   "source": [
    "## Experience of determine kappa coefficient smv and random forest vs ground truth"
   ]
  },
  {
   "attachments": {},
   "cell_type": "markdown",
   "metadata": {},
   "source": [
    "This notebook is used to determine the kappa coefficient of the smv and random forest models vs the ground truth."
   ]
  },
  {
   "cell_type": "code",
   "execution_count": 87,
   "metadata": {},
   "outputs": [],
   "source": [
    "# imports\n",
    "import pandas as pd\n",
    "import numpy as np\n",
    "import matplotlib.pyplot as plt\n",
    "import seaborn as sns\n",
    "import sklearn.metrics as metrics\n",
    "from sklearn.metrics import confusion_matrix\n",
    "from sklearn.preprocessing import StandardScaler\n",
    "from sklearn.ensemble import RandomForestClassifier\n",
    "from sklearn.metrics import classification_report, confusion_matrix\n",
    "\n",
    "import sys\n",
    "sys.path.append('../Library')\n",
    "import breedManip as breedManip\n",
    "import dataProcessing as dataProcessing\n",
    "import breeds as breeds\n",
    "import splitData as splitData\n",
    "\n",
    "import pickle\n",
    "import os"
   ]
  },
  {
   "attachments": {},
   "cell_type": "markdown",
   "metadata": {},
   "source": [
    "#### Prepare the dataframe"
   ]
  },
  {
   "attachments": {},
   "cell_type": "markdown",
   "metadata": {},
   "source": [
    "We will build a dataframe with the feature to compute the random forest prediction, the rawState who represent the svm result and add a column with the ground truth."
   ]
  },
  {
   "cell_type": "code",
   "execution_count": 88,
   "metadata": {},
   "outputs": [],
   "source": [
    "with open('/home/magali.egger/shared-projects/mice_UNIL/Data/rfc_best.pkl', 'rb') as f:\n",
    "    rfc = pickle.load(f)"
   ]
  },
  {
   "cell_type": "code",
   "execution_count": 89,
   "metadata": {},
   "outputs": [],
   "source": [
    "with open('/home/magali.egger/shared-projects/mice_UNIL/Data/df_simplify_labels.pkl', 'rb') as f:\n",
    "    df = pickle.load(f)"
   ]
  },
  {
   "cell_type": "code",
   "execution_count": 90,
   "metadata": {},
   "outputs": [],
   "source": [
    "wierd_labels = ['8', 's', 'a', 'j', '1', '2', '3']\n",
    "df = df[~df['label'].isin(wierd_labels)]"
   ]
  },
  {
   "cell_type": "code",
   "execution_count": 91,
   "metadata": {},
   "outputs": [],
   "source": [
    "df = df[df['day'] == 0]"
   ]
  },
  {
   "attachments": {},
   "cell_type": "markdown",
   "metadata": {},
   "source": [
    "#### Prepare the random forest prediction"
   ]
  },
  {
   "cell_type": "code",
   "execution_count": 92,
   "metadata": {},
   "outputs": [],
   "source": [
    "df = df.drop(columns=['mouse'])\n",
    "df = df.drop(columns=['breed'])"
   ]
  },
  {
   "cell_type": "code",
   "execution_count": 93,
   "metadata": {},
   "outputs": [],
   "source": [
    "features = df.drop(columns=['state', 'rawState', 'label'])\n",
    "\n",
    "with open('/home/magali.egger/shared-projects/mice_UNIL/Data/scaler_best.pkl', 'rb') as f:\n",
    "   scaler = pickle.load(f)\n",
    "\n",
    "features = scaler.transform(features)"
   ]
  },
  {
   "cell_type": "code",
   "execution_count": 94,
   "metadata": {},
   "outputs": [],
   "source": [
    "prediction = rfc.predict(features)\n",
    "pred = np.argmax(prediction, axis=1)"
   ]
  },
  {
   "cell_type": "code",
   "execution_count": 95,
   "metadata": {},
   "outputs": [
    {
     "name": "stdout",
     "output_type": "stream",
     "text": [
      "366272\n",
      "19653\n",
      "376708\n"
     ]
    }
   ],
   "source": [
    "pred = pred.tolist()\n",
    "\n",
    "print(pred.count(0))\n",
    "print(pred.count(1))\n",
    "print(pred.count(2))"
   ]
  },
  {
   "attachments": {},
   "cell_type": "markdown",
   "metadata": {},
   "source": [
    "#### Prepare the smv prediction"
   ]
  },
  {
   "cell_type": "code",
   "execution_count": 96,
   "metadata": {},
   "outputs": [],
   "source": [
    "def convert(states):\n",
    "    res = []\n",
    "    for state in states:\n",
    "        if state == 'n' or state == '5' or state=='2':\n",
    "            res.append(0)\n",
    "        elif state == 'r' or state=='6' or state=='3':\n",
    "            res.append(1)\n",
    "        elif state == 'w' or state=='4' or state=='1' or state=='9':\n",
    "            res.append(2)\n",
    "    return res"
   ]
  },
  {
   "cell_type": "code",
   "execution_count": 97,
   "metadata": {},
   "outputs": [],
   "source": [
    "svm_labels = df['rawState']\n",
    "svm = convert(svm_labels)"
   ]
  },
  {
   "cell_type": "code",
   "execution_count": 98,
   "metadata": {},
   "outputs": [
    {
     "name": "stdout",
     "output_type": "stream",
     "text": [
      "358102\n",
      "46302\n",
      "358229\n"
     ]
    }
   ],
   "source": [
    "print(svm.count(0))\n",
    "print(svm.count(1))\n",
    "print(svm.count(2))"
   ]
  },
  {
   "attachments": {},
   "cell_type": "markdown",
   "metadata": {},
   "source": [
    "#### Prepare the ground truth"
   ]
  },
  {
   "cell_type": "code",
   "execution_count": 99,
   "metadata": {},
   "outputs": [
    {
     "data": {
      "text/plain": [
       "w    364982\n",
       "n    351100\n",
       "r     44320\n",
       "5      1418\n",
       "4       446\n",
       "9       241\n",
       "6       126\n",
       "Name: label, dtype: int64"
      ]
     },
     "execution_count": 99,
     "metadata": {},
     "output_type": "execute_result"
    }
   ],
   "source": [
    "df['label'].value_counts()"
   ]
  },
  {
   "attachments": {},
   "cell_type": "markdown",
   "metadata": {},
   "source": [
    "The labels 8 doesn't mean anything, we will remove them."
   ]
  },
  {
   "cell_type": "code",
   "execution_count": 100,
   "metadata": {},
   "outputs": [],
   "source": [
    "gt_labels = df['label']\n",
    "gt = convert(df['label'])"
   ]
  },
  {
   "cell_type": "code",
   "execution_count": 101,
   "metadata": {},
   "outputs": [
    {
     "name": "stdout",
     "output_type": "stream",
     "text": [
      "352518\n",
      "44446\n",
      "365669\n"
     ]
    }
   ],
   "source": [
    "print(gt.count(0))\n",
    "print(gt.count(1))\n",
    "print(gt.count(2))"
   ]
  },
  {
   "attachments": {},
   "cell_type": "markdown",
   "metadata": {},
   "source": [
    "#### Comparaison SVM vs ground truth"
   ]
  },
  {
   "cell_type": "code",
   "execution_count": 102,
   "metadata": {},
   "outputs": [
    {
     "data": {
      "text/plain": [
       "0.8661135447393773"
      ]
     },
     "execution_count": 102,
     "metadata": {},
     "output_type": "execute_result"
    }
   ],
   "source": [
    "# kappa coefficient\n",
    "from sklearn.metrics import cohen_kappa_score\n",
    "cohen_kappa_score(gt, svm)"
   ]
  },
  {
   "cell_type": "code",
   "execution_count": 103,
   "metadata": {},
   "outputs": [
    {
     "name": "stdout",
     "output_type": "stream",
     "text": [
      "[[331526   4561  16431]\n",
      " [  4227  36471   3748]\n",
      " [ 22349   5270 338050]]\n"
     ]
    },
    {
     "name": "stdout",
     "output_type": "stream",
     "text": [
      "              precision    recall  f1-score   support\n",
      "\n",
      "           n       0.93      0.94      0.93    352518\n",
      "           r       0.79      0.82      0.80     44446\n",
      "           w       0.94      0.92      0.93    365669\n",
      "\n",
      "    accuracy                           0.93    762633\n",
      "   macro avg       0.89      0.90      0.89    762633\n",
      "weighted avg       0.93      0.93      0.93    762633\n",
      "\n"
     ]
    },
    {
     "data": {
      "image/png": "[encoded data removed]",
      "text/plain": [
       "<Figure size 640x480 with 2 Axes>"
      ]
     },
     "metadata": {},
     "output_type": "display_data"
    }
   ],
   "source": [
    "cm = np.array(confusion_matrix(gt, svm))\n",
    "print(cm)\n",
    "\n",
    "cm = np.array(confusion_matrix(gt, svm, normalize='true')) \n",
    "confusion = pd.DataFrame(cm, index=['n','r','w'], columns=['n(svm)','r(svm)','w(svm)'])\n",
    "\n",
    "print(classification_report(gt, svm, target_names=['n','r','w'], zero_division=0))\n",
    "\n",
    "sns.heatmap(confusion, annot=True, cmap=\"Blues\", fmt='.2f')\n",
    "plt.title(f'Confusion matrix (normalize = true)')\n",
    "plt.show()"
   ]
  },
  {
   "attachments": {},
   "cell_type": "markdown",
   "metadata": {},
   "source": [
    "#### Comparaison Random Forest vs ground truth"
   ]
  },
  {
   "cell_type": "code",
   "execution_count": 104,
   "metadata": {},
   "outputs": [
    {
     "data": {
      "text/plain": [
       "0.790245828020345"
      ]
     },
     "execution_count": 104,
     "metadata": {},
     "output_type": "execute_result"
    }
   ],
   "source": [
    "# kappa coefficient\n",
    "from sklearn.metrics import cohen_kappa_score\n",
    "cohen_kappa_score(gt, pred)"
   ]
  },
  {
   "cell_type": "code",
   "execution_count": 105,
   "metadata": {},
   "outputs": [
    {
     "name": "stdout",
     "output_type": "stream",
     "text": [
      "[[321769   2126  28623]\n",
      " [ 18789  16055   9602]\n",
      " [ 25714   1472 338483]]\n",
      "              precision    recall  f1-score   support\n",
      "\n",
      "           n       0.88      0.91      0.90    352518\n",
      "           r       0.82      0.36      0.50     44446\n",
      "           w       0.90      0.93      0.91    365669\n",
      "\n",
      "    accuracy                           0.89    762633\n",
      "   macro avg       0.86      0.73      0.77    762633\n",
      "weighted avg       0.88      0.89      0.88    762633\n",
      "\n"
     ]
    },
    {
     "data": {
      "image/png": "[encoded data removed]",
      "text/plain": [
       "<Figure size 640x480 with 2 Axes>"
      ]
     },
     "metadata": {},
     "output_type": "display_data"
    }
   ],
   "source": [
    "cm = np.array(confusion_matrix(gt, pred))\n",
    "print(cm)\n",
    "\n",
    "cm = np.array(confusion_matrix(gt, pred, normalize='true')) \n",
    "confusion = pd.DataFrame(cm, index=['n','r','w'], columns=['n(pred)','r(pred)','w(pred)'])\n",
    "\n",
    "print(classification_report(gt, pred, target_names=['n','r','w'], zero_division=0))\n",
    "\n",
    "sns.heatmap(confusion, annot=True, cmap=\"Blues\", fmt='.2f')\n",
    "plt.title(f'Confusion matrix (normalize = true)')\n",
    "plt.show()"
   ]
  },
  {
   "attachments": {},
   "cell_type": "markdown",
   "metadata": {},
   "source": [
    "#### Comparaison of the balanced random forest classifier vs the svm"
   ]
  },
  {
   "cell_type": "code",
   "execution_count": 106,
   "metadata": {},
   "outputs": [
    {
     "data": {
      "text/plain": [
       "0.7762054440909644"
      ]
     },
     "execution_count": 106,
     "metadata": {},
     "output_type": "execute_result"
    }
   ],
   "source": [
    "from sklearn.metrics import cohen_kappa_score\n",
    "cohen_kappa_score(svm, pred)"
   ]
  },
  {
   "cell_type": "code",
   "execution_count": 107,
   "metadata": {},
   "outputs": [
    {
     "name": "stdout",
     "output_type": "stream",
     "text": [
      "[[323010   1986  33106]\n",
      " [ 19107  15450  11745]\n",
      " [ 24155   2217 331857]]\n",
      "              precision    recall  f1-score   support\n",
      "\n",
      "           n       0.88      0.90      0.89    358102\n",
      "           r       0.79      0.33      0.47     46302\n",
      "           w       0.88      0.93      0.90    358229\n",
      "\n",
      "    accuracy                           0.88    762633\n",
      "   macro avg       0.85      0.72      0.75    762633\n",
      "weighted avg       0.88      0.88      0.87    762633\n",
      "\n"
     ]
    },
    {
     "data": {
      "image/png": "[encoded data removed]",
      "text/plain": [
       "<Figure size 640x480 with 2 Axes>"
      ]
     },
     "metadata": {},
     "output_type": "display_data"
    }
   ],
   "source": [
    "cm = np.array(confusion_matrix(svm, pred))\n",
    "print(cm)\n",
    "\n",
    "cm = np.array(confusion_matrix(svm, pred, normalize='true')) \n",
    "confusion = pd.DataFrame(cm, index=['n(svm)','r(svm)','w(svm)'], columns=['n(pred)','r(pred)','w(pred)'])\n",
    "\n",
    "print(classification_report(svm, pred, target_names=['n','r','w'], zero_division=0))\n",
    "\n",
    "sns.heatmap(confusion, annot=True, cmap=\"Blues\", fmt='.2f')\n",
    "plt.title(f'Confusion matrix (normalize = true)')\n",
    "plt.show()"
   ]
  }
 ],
 "metadata": {
  "kernelspec": {
   "display_name": "tb",
   "language": "python",
   "name": "tb"
  },
  "language_info": {
   "codemirror_mode": {
    "name": "ipython",
    "version": 3
   },
   "file_extension": ".py",
   "mimetype": "text/x-python",
   "name": "python",
   "nbconvert_exporter": "python",
   "pygments_lexer": "ipython3",
   "version": "3.10.9"
  },
  "orig_nbformat": 4
 },
 "nbformat": 4,
 "nbformat_minor": 2
}
