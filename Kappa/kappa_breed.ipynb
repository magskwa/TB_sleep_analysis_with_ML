{
 "cells": [
  {
   "cell_type": "code",
   "execution_count": 1,
   "metadata": {},
   "outputs": [
    {
     "name": "stderr",
     "output_type": "stream",
     "text": [
      "2023-06-12 11:13:55.046256: I tensorflow/tsl/cuda/cudart_stub.cc:28] Could not find cuda drivers on your machine, GPU will not be used.\n",
      "2023-06-12 11:13:55.128350: I tensorflow/tsl/cuda/cudart_stub.cc:28] Could not find cuda drivers on your machine, GPU will not be used.\n",
      "2023-06-12 11:13:56.789833: W tensorflow/compiler/tf2tensorrt/utils/py_utils.cc:38] TF-TRT Warning: Could not find TensorRT\n"
     ]
    },
    {
     "data": {
      "text/plain": [
       "<module 'breedManip' from '/mnt/remote/workspaces/magali.egger/TBproject/Travail_Bachelor/Kappa/../Library/breedManip.py'>"
      ]
     },
     "execution_count": 1,
     "metadata": {},
     "output_type": "execute_result"
    }
   ],
   "source": [
    "import sys\n",
    "sys.path.append('../Library')\n",
    "import breedManip as breedManip\n",
    "import dataProcessing as dataProcessing\n",
    "import breeds as breeds\n",
    "import splitData as splitData\n",
    "import importlib\n",
    "importlib.reload(breedManip)"
   ]
  },
  {
   "cell_type": "code",
   "execution_count": 2,
   "metadata": {},
   "outputs": [
    {
     "name": "stdout",
     "output_type": "stream",
     "text": [
      "Number of breeds: 42\n"
     ]
    }
   ],
   "source": [
    "# count the number of breeds in breeds.py\n",
    "print(f\"Number of breeds: {len(breeds.breeds.keys())}\")"
   ]
  },
  {
   "cell_type": "code",
   "execution_count": 3,
   "metadata": {},
   "outputs": [],
   "source": [
    "\n",
    "breed_kappa = [(0.4462067402832628  ,  \"c57bl6\"), (0.5045776517209577  ,  \"dba2\"), (0.6540919381175201  ,  \"bxd_f1\"), (0.4761904071501132  ,  \"dxb_f1\"), (0.5293072298012615  ,  \"bxd_005\"), (0.1627151112934514  ,  \"bxd_029\"), (0.40325534182234646  ,  \"bxd_029_tlr4\"), (0.23315707809762587  ,  \"bxd_032\"), (0.4797527115454415  ,  \"bxd_043\"), (0.2643248221469596  ,  \"bxd_044\"), (0.5908580938166815  ,  \"bxd_045\"), (0.0748548125672871  ,  \"bxd_048\"), (0.17500525087283791  ,  \"bxd_049\"), (0.47023446299894345  ,  \"bxd_050\"), (0.19384893578585172  ,  \"bxd_051\"), (-0.04943845781495271  ,  \"bxd_055\"), (0.34538242745242165  ,  \"bxd_056\"), (0.40530499929018016  ,  \"bxd_061\"), (0.37520232838121836  ,  \"bxd_063\"), (0.39958188208673506  ,  \"bxd_064\"), (0.32358771357039784  ,  \"bxd_065\"), (0.5150197822303191  ,  \"bxd_066\"), (0.47255272065484133  ,  \"bxd_067\"), (0.003758637522896846  ,  \"bxd_070\"), (0.29198476249762995  ,  \"bxd_071\"), (0.4778415545541822  ,  \"bxd_073\"), (0.20655026423268752  ,  \"bxd_075\"), (0.6105676132679023  ,  \"bxd_079\"), \n",
    "(0.35403657264142496  ,  \"bxd_081\"), (0.5865359502742528  ,  \"bxd_083\"), (0.524637873683254  ,  \"bxd_084\"), (0.3496802758132811  ,  \"bxd_085\"), (0.09011354487577417  ,  \"bxd_087\"), (0.5274123278280844  ,  \"bxd_089\"), (0.5360423104703678  ,  \"bxd_090\"), (0.3182973325435019  ,  \"bxd_095\"), (0.6276916823672954  ,  \"bxd_096\"), (0.43745890678339117  ,  \"bxd_097\"), (0.5718615483332463  ,  \"bxd_098\"), (0.5113962567182021  ,  \"bxd_100\"), (0.5753259379546682  ,  \"bxd_101\"), (0.5503594118182338  ,  \"bxd_103\")]\n"
   ]
  },
  {
   "cell_type": "code",
   "execution_count": 5,
   "metadata": {},
   "outputs": [
    {
     "data": {
      "text/plain": [
       "[(0.1627151112934514, 'bxd_029'),\n",
       " (0.23315707809762587, 'bxd_032'),\n",
       " (0.2643248221469596, 'bxd_044'),\n",
       " (0.0748548125672871, 'bxd_048'),\n",
       " (0.17500525087283791, 'bxd_049'),\n",
       " (0.19384893578585172, 'bxd_051'),\n",
       " (-0.04943845781495271, 'bxd_055'),\n",
       " (0.003758637522896846, 'bxd_070'),\n",
       " (0.29198476249762995, 'bxd_071'),\n",
       " (0.20655026423268752, 'bxd_075'),\n",
       " (0.09011354487577417, 'bxd_087')]"
      ]
     },
     "execution_count": 5,
     "metadata": {},
     "output_type": "execute_result"
    }
   ],
   "source": [
    "breed_kappa_filtered = [breed for breed in breed_kappa if breed[0] < 0.3]\n",
    "breed_kappa_filtered"
   ]
  },
  {
   "cell_type": "code",
   "execution_count": 6,
   "metadata": {},
   "outputs": [
    {
     "data": {
      "text/plain": [
       "[(0.1627151112934514, 'bxd_029', 8),\n",
       " (0.23315707809762587, 'bxd_032', 7),\n",
       " (0.2643248221469596, 'bxd_044', 5),\n",
       " (0.0748548125672871, 'bxd_048', 6),\n",
       " (0.17500525087283791, 'bxd_049', 6),\n",
       " (0.19384893578585172, 'bxd_051', 7),\n",
       " (-0.04943845781495271, 'bxd_055', 5),\n",
       " (0.003758637522896846, 'bxd_070', 5),\n",
       " (0.29198476249762995, 'bxd_071', 5),\n",
       " (0.20655026423268752, 'bxd_075', 7),\n",
       " (0.09011354487577417, 'bxd_087', 6)]"
      ]
     },
     "execution_count": 6,
     "metadata": {},
     "output_type": "execute_result"
    }
   ],
   "source": [
    "# for each breed add the size of the breed\n",
    "breed_kappa_filtered = [(breed[0], breed[1], len(breeds.breeds[breed[1]])) for breed in breed_kappa_filtered]\n",
    "breed_kappa_filtered"
   ]
  },
  {
   "cell_type": "code",
   "execution_count": 7,
   "metadata": {},
   "outputs": [
    {
     "data": {
      "text/plain": [
       "[(0.6540919381175201, 'bxd_f1', 5),\n",
       " (0.6276916823672954, 'bxd_096', 7),\n",
       " (0.6105676132679023, 'bxd_079', 2),\n",
       " (0.5908580938166815, 'bxd_045', 6),\n",
       " (0.5865359502742528, 'bxd_083', 6),\n",
       " (0.5753259379546682, 'bxd_101', 2),\n",
       " (0.5718615483332463, 'bxd_098', 6),\n",
       " (0.5503594118182338, 'bxd_103', 6),\n",
       " (0.5360423104703678, 'bxd_090', 6),\n",
       " (0.5293072298012615, 'bxd_005', 6),\n",
       " (0.5274123278280844, 'bxd_089', 6),\n",
       " (0.524637873683254, 'bxd_084', 5),\n",
       " (0.5150197822303191, 'bxd_066', 6),\n",
       " (0.5113962567182021, 'bxd_100', 7),\n",
       " (0.5045776517209577, 'dba2', 10),\n",
       " (0.4797527115454415, 'bxd_043', 7),\n",
       " (0.4778415545541822, 'bxd_073', 6),\n",
       " (0.4761904071501132, 'dxb_f1', 7),\n",
       " (0.47255272065484133, 'bxd_067', 6),\n",
       " (0.47023446299894345, 'bxd_050', 4),\n",
       " (0.4462067402832628, 'c57bl6', 12),\n",
       " (0.43745890678339117, 'bxd_097', 6),\n",
       " (0.40530499929018016, 'bxd_061', 6),\n",
       " (0.40325534182234646, 'bxd_029_tlr4', 7),\n",
       " (0.39958188208673506, 'bxd_064', 6),\n",
       " (0.37520232838121836, 'bxd_063', 6),\n",
       " (0.35403657264142496, 'bxd_081', 6),\n",
       " (0.3496802758132811, 'bxd_085', 3),\n",
       " (0.34538242745242165, 'bxd_056', 7),\n",
       " (0.32358771357039784, 'bxd_065', 6),\n",
       " (0.3182973325435019, 'bxd_095', 7),\n",
       " (0.29198476249762995, 'bxd_071', 5),\n",
       " (0.2643248221469596, 'bxd_044', 5),\n",
       " (0.23315707809762587, 'bxd_032', 7),\n",
       " (0.20655026423268752, 'bxd_075', 7),\n",
       " (0.19384893578585172, 'bxd_051', 7),\n",
       " (0.17500525087283791, 'bxd_049', 6),\n",
       " (0.1627151112934514, 'bxd_029', 8),\n",
       " (0.09011354487577417, 'bxd_087', 6),\n",
       " (0.0748548125672871, 'bxd_048', 6),\n",
       " (0.003758637522896846, 'bxd_070', 5),\n",
       " (-0.04943845781495271, 'bxd_055', 5)]"
      ]
     },
     "execution_count": 7,
     "metadata": {},
     "output_type": "execute_result"
    }
   ],
   "source": [
    "# breed_kappa sorted by size \n",
    "breed_kappa = sorted(breed_kappa, key=lambda x: x[0], reverse=True)\n",
    "\n",
    "# for each breed add the size of the breed\n",
    "breed_kappa = [(breed[0], breed[1], len(breeds.breeds[breed[1]])) for breed in breed_kappa]\n",
    "\n",
    "breed_kappa"
   ]
  },
  {
   "cell_type": "code",
   "execution_count": null,
   "metadata": {},
   "outputs": [],
   "source": []
  }
 ],
 "metadata": {
  "kernelspec": {
   "display_name": "tb",
   "language": "python",
   "name": "tb"
  },
  "language_info": {
   "codemirror_mode": {
    "name": "ipython",
    "version": 3
   },
   "file_extension": ".py",
   "mimetype": "text/x-python",
   "name": "python",
   "nbconvert_exporter": "python",
   "pygments_lexer": "ipython3",
   "version": "3.10.9"
  },
  "orig_nbformat": 4
 },
 "nbformat": 4,
 "nbformat_minor": 2
}
