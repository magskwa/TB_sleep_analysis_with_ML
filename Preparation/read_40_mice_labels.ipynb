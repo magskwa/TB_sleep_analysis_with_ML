{
 "cells": [
  {
   "attachments": {},
   "cell_type": "markdown",
   "metadata": {},
   "source": [
    "## Tool to read the labels of the 42 mice annotated by the expert"
   ]
  },
  {
   "attachments": {},
   "cell_type": "markdown",
   "metadata": {},
   "source": [
    "The labels for each mice are stored in txt files. The goal of this notebook is to read the labels and store them in a dataframe."
   ]
  },
  {
   "cell_type": "code",
   "execution_count": 2,
   "metadata": {},
   "outputs": [
    {
     "name": "stderr",
     "output_type": "stream",
     "text": [
      "Intel(R) Extension for Scikit-learn* enabled (https://github.com/intel/scikit-learn-intelex)\n",
      "2023-07-23 17:02:42.659871: I tensorflow/tsl/cuda/cudart_stub.cc:28] Could not find cuda drivers on your machine, GPU will not be used.\n",
      "2023-07-23 17:02:42.735463: I tensorflow/tsl/cuda/cudart_stub.cc:28] Could not find cuda drivers on your machine, GPU will not be used.\n",
      "2023-07-23 17:02:43.900833: W tensorflow/compiler/tf2tensorrt/utils/py_utils.cc:38] TF-TRT Warning: Could not find TensorRT\n"
     ]
    }
   ],
   "source": [
    "import pandas as pd\n",
    "import numpy as np\n",
    "import matplotlib.pyplot as plt\n",
    "import seaborn as sns\n",
    "import sklearn.metrics as metrics\n",
    "\n",
    "import sys\n",
    "sys.path.append('../Library')\n",
    "import breedManip as breedManip\n",
    "import dataProcessing as dataProcessing\n",
    "import breeds as breeds\n",
    "import splitData as splitData\n",
    "\n",
    "import pickle\n",
    "import os"
   ]
  },
  {
   "cell_type": "code",
   "execution_count": 8,
   "metadata": {},
   "outputs": [],
   "source": [
    "folder = \"/home/magali.egger/shared-projects/mice_UNIL/BXD envoie/TXT_files/\"\n",
    "mice_annotated = ['BL601', 'BL602', 'BL606', 'BL609', '1D203', '2D203', '1D204', '1D206', '00505', '04501', '04502', '04504', '04505', '04506', '04508', '04801', '04802', '04803', '04804', '04805', '04806', '05001', '05002', '05003', '05004', '05005', '05006', '07901', '07902', '08405', '08502', '08503', '08901', '08902', '09001', '09003', '09004', '09005', '09006', '09007', '10101', '10102']"
   ]
  },
  {
   "cell_type": "code",
   "execution_count": null,
   "metadata": {},
   "outputs": [],
   "source": [
    "# create a dataframe with three columns (epoch, mouse, label)\n",
    "df_labels = pd.DataFrame(columns=['epoch', 'mouse', 'label'])\n",
    "\n",
    "for mouse in mice_annotated:\n",
    "    file = folder + mouse + \".txt\"\n",
    "    df_mouse = pd.read_csv(file, sep=\"\\t\", header=None)\n",
    "    df_mouse.columns = ['label']\n",
    "    df_mouse['mouse'] = mouse\n",
    "    df_mouse['epoch'] = df_mouse.index\n",
    "    df_labels = df_labels.append(df_mouse) # type: ignore"
   ]
  },
  {
   "cell_type": "code",
   "execution_count": 30,
   "metadata": {},
   "outputs": [
    {
     "data": {
      "text/plain": [
       "w    1642790\n",
       "n    1424139\n",
       "1     300856\n",
       "r     191709\n",
       "2      40776\n",
       "3      11509\n",
       "5       6185\n",
       "8       5533\n",
       "4       3267\n",
       "9        954\n",
       "6        622\n",
       "s        457\n",
       "a          2\n",
       "j          1\n",
       "Name: label, dtype: int64"
      ]
     },
     "execution_count": 30,
     "metadata": {},
     "output_type": "execute_result"
    }
   ],
   "source": [
    "df_labels['label'].value_counts()"
   ]
  },
  {
   "cell_type": "code",
   "execution_count": 31,
   "metadata": {},
   "outputs": [
    {
     "data": {
      "text/html": [
       "<div>\n",
       "<style scoped>\n",
       "    .dataframe tbody tr th:only-of-type {\n",
       "        vertical-align: middle;\n",
       "    }\n",
       "\n",
       "    .dataframe tbody tr th {\n",
       "        vertical-align: top;\n",
       "    }\n",
       "\n",
       "    .dataframe thead th {\n",
       "        text-align: right;\n",
       "    }\n",
       "</style>\n",
       "<table border=\"1\" class=\"dataframe\">\n",
       "  <thead>\n",
       "    <tr style=\"text-align: right;\">\n",
       "      <th></th>\n",
       "      <th>epoch</th>\n",
       "      <th>mouse</th>\n",
       "      <th>label</th>\n",
       "    </tr>\n",
       "  </thead>\n",
       "  <tbody>\n",
       "    <tr>\n",
       "      <th>0</th>\n",
       "      <td>0</td>\n",
       "      <td>BL601</td>\n",
       "      <td>w</td>\n",
       "    </tr>\n",
       "    <tr>\n",
       "      <th>1</th>\n",
       "      <td>1</td>\n",
       "      <td>BL601</td>\n",
       "      <td>w</td>\n",
       "    </tr>\n",
       "    <tr>\n",
       "      <th>2</th>\n",
       "      <td>2</td>\n",
       "      <td>BL601</td>\n",
       "      <td>w</td>\n",
       "    </tr>\n",
       "    <tr>\n",
       "      <th>3</th>\n",
       "      <td>3</td>\n",
       "      <td>BL601</td>\n",
       "      <td>w</td>\n",
       "    </tr>\n",
       "    <tr>\n",
       "      <th>4</th>\n",
       "      <td>4</td>\n",
       "      <td>BL601</td>\n",
       "      <td>w</td>\n",
       "    </tr>\n",
       "  </tbody>\n",
       "</table>\n",
       "</div>"
      ],
      "text/plain": [
       "  epoch  mouse label\n",
       "0     0  BL601     w\n",
       "1     1  BL601     w\n",
       "2     2  BL601     w\n",
       "3     3  BL601     w\n",
       "4     4  BL601     w"
      ]
     },
     "execution_count": 31,
     "metadata": {},
     "output_type": "execute_result"
    }
   ],
   "source": [
    "df_labels.head()"
   ]
  },
  {
   "cell_type": "code",
   "execution_count": 32,
   "metadata": {},
   "outputs": [
    {
     "data": {
      "text/html": [
       "<div>\n",
       "<style scoped>\n",
       "    .dataframe tbody tr th:only-of-type {\n",
       "        vertical-align: middle;\n",
       "    }\n",
       "\n",
       "    .dataframe tbody tr th {\n",
       "        vertical-align: top;\n",
       "    }\n",
       "\n",
       "    .dataframe thead th {\n",
       "        text-align: right;\n",
       "    }\n",
       "</style>\n",
       "<table border=\"1\" class=\"dataframe\">\n",
       "  <thead>\n",
       "    <tr style=\"text-align: right;\">\n",
       "      <th></th>\n",
       "      <th>epoch</th>\n",
       "      <th>mouse</th>\n",
       "      <th>label</th>\n",
       "    </tr>\n",
       "  </thead>\n",
       "  <tbody>\n",
       "    <tr>\n",
       "      <th>count</th>\n",
       "      <td>3628800</td>\n",
       "      <td>3628800</td>\n",
       "      <td>3628800</td>\n",
       "    </tr>\n",
       "    <tr>\n",
       "      <th>unique</th>\n",
       "      <td>86400</td>\n",
       "      <td>42</td>\n",
       "      <td>14</td>\n",
       "    </tr>\n",
       "    <tr>\n",
       "      <th>top</th>\n",
       "      <td>0</td>\n",
       "      <td>BL601</td>\n",
       "      <td>w</td>\n",
       "    </tr>\n",
       "    <tr>\n",
       "      <th>freq</th>\n",
       "      <td>42</td>\n",
       "      <td>86400</td>\n",
       "      <td>1642790</td>\n",
       "    </tr>\n",
       "  </tbody>\n",
       "</table>\n",
       "</div>"
      ],
      "text/plain": [
       "          epoch    mouse    label\n",
       "count   3628800  3628800  3628800\n",
       "unique    86400       42       14\n",
       "top           0    BL601        w\n",
       "freq         42    86400  1642790"
      ]
     },
     "execution_count": 32,
     "metadata": {},
     "output_type": "execute_result"
    }
   ],
   "source": [
    "df_labels.describe()"
   ]
  },
  {
   "cell_type": "code",
   "execution_count": 33,
   "metadata": {},
   "outputs": [],
   "source": [
    "with open('/home/magali.egger/workspace/TBproject/Travail_Bachelor/Data/df_labels.pkl', 'wb') as f:\n",
    "    pickle.dump(df_labels, f)"
   ]
  },
  {
   "cell_type": "code",
   "execution_count": 4,
   "metadata": {},
   "outputs": [],
   "source": [
    "with open('/home/magali.egger/shared-projects/mice_UNIL/Data/df_labels.pkl', 'rb') as f:\n",
    "    df_labels = pickle.load(f)"
   ]
  },
  {
   "attachments": {},
   "cell_type": "markdown",
   "metadata": {},
   "source": [
    "Explore the mice and their breeds from the mice annotated by the expert."
   ]
  },
  {
   "cell_type": "code",
   "execution_count": 34,
   "metadata": {},
   "outputs": [
    {
     "name": "stdout",
     "output_type": "stream",
     "text": [
      "05005\n",
      "05006\n"
     ]
    }
   ],
   "source": [
    "mice_data = breedManip.getAllmiceInAllBreeds()\n",
    "\n",
    "# display the mice that are new from the 42 annotated mice\n",
    "for mouse in mice_annotated:\n",
    "    if mouse not in mice_data:\n",
    "        print(mouse)"
   ]
  },
  {
   "cell_type": "code",
   "execution_count": 35,
   "metadata": {},
   "outputs": [
    {
     "name": "stdout",
     "output_type": "stream",
     "text": [
      "Breeds of the 42 annotated mice {'bxd_050', 'c57bl6', 'bxd_079', 'bxd_084', 'bxd_090', 'bxd_101', 'bxd_085', 'bxd_048', 'bxd_005', 'dba2', 'bxd_089', 'bxd_045'}\n"
     ]
    }
   ],
   "source": [
    "# get all the breeds of the mice : breedManip.getBreedOfMouse(mouse)\n",
    "breeds = []\n",
    "new_mice = ['05005', '05006']\n",
    "for mouse in mice_annotated:\n",
    "    if mouse not in new_mice:\n",
    "        breeds.append(breedManip.getBreedOfMouse(mouse))\n",
    "\n",
    "print(\"Breeds of the 42 annotated mice\", set(breeds))"
   ]
  },
  {
   "attachments": {},
   "cell_type": "markdown",
   "metadata": {},
   "source": [
    "#### Creation of a dataframe that merge the features and the labels of the 42 mice annotated by the expert"
   ]
  },
  {
   "cell_type": "code",
   "execution_count": 6,
   "metadata": {},
   "outputs": [],
   "source": [
    "# get the df_simplify \n",
    "with open('/home/magali.egger/shared-projects/mice_UNIL/Data/df_filter.pkl', 'rb') as f:\n",
    "    df_simplify = pickle.load(f)\n",
    "\n",
    "# get the df_nofilter\n",
    "with open('/home/magali.egger/shared-projects/mice_UNIL/Data/df_full_noFilter.pkl', 'rb') as f:\n",
    "    df_nofilter = pickle.load(f)\n",
    "\n",
    "# get the df_labels\n",
    "with open('/home/magali.egger/shared-projects/mice_UNIL/Data/df_labels.pkl', 'rb') as f:\n",
    "    df_labels = pickle.load(f)"
   ]
  },
  {
   "cell_type": "code",
   "execution_count": 9,
   "metadata": {},
   "outputs": [],
   "source": [
    "df_simplify = df_simplify[df_simplify['mouse'].isin(mice_annotated)]\n",
    "df_nofilter = df_nofilter[df_nofilter['mouse'].isin(mice_annotated)]"
   ]
  },
  {
   "cell_type": "code",
   "execution_count": 10,
   "metadata": {},
   "outputs": [],
   "source": [
    "df_simplify_labels = pd.merge(df_simplify, df_labels, on=['mouse', 'epoch'])\n",
    "df_nofilter_labels = pd.merge(df_nofilter, df_labels, on=['mouse', 'epoch'])"
   ]
  },
  {
   "cell_type": "code",
   "execution_count": 11,
   "metadata": {},
   "outputs": [],
   "source": [
    "# test if the merge worked by comparing the values of the labels \n",
    "# with the ones of the rawState on the third day\n",
    "df_simplify_labels_day2 = df_simplify_labels[df_simplify_labels['day'] == 2]\n",
    "for index, row in df_simplify_labels_day2.iterrows():\n",
    "    if row['label'] != row['rawState']:\n",
    "        print(row['mouse'], row['epoch'], row['label'], row['rawState'])"
   ]
  },
  {
   "cell_type": "code",
   "execution_count": 12,
   "metadata": {},
   "outputs": [
    {
     "data": {
      "text/html": [
       "<div>\n",
       "<style scoped>\n",
       "    .dataframe tbody tr th:only-of-type {\n",
       "        vertical-align: middle;\n",
       "    }\n",
       "\n",
       "    .dataframe tbody tr th {\n",
       "        vertical-align: top;\n",
       "    }\n",
       "\n",
       "    .dataframe thead th {\n",
       "        text-align: right;\n",
       "    }\n",
       "</style>\n",
       "<table border=\"1\" class=\"dataframe\">\n",
       "  <thead>\n",
       "    <tr style=\"text-align: right;\">\n",
       "      <th></th>\n",
       "      <th>Unnamed: 0</th>\n",
       "      <th>rawState</th>\n",
       "      <th>state</th>\n",
       "      <th>EEGv</th>\n",
       "      <th>EMGv</th>\n",
       "      <th>epoch</th>\n",
       "      <th>day</th>\n",
       "      <th>spectral_flatness</th>\n",
       "      <th>spectral_centroid</th>\n",
       "      <th>spectral_entropy</th>\n",
       "      <th>...</th>\n",
       "      <th>EEGv_log</th>\n",
       "      <th>EMGv_log</th>\n",
       "      <th>bias</th>\n",
       "      <th>EEGv^2</th>\n",
       "      <th>EEGv^3</th>\n",
       "      <th>EMGv^2</th>\n",
       "      <th>EMGv^3</th>\n",
       "      <th>mouse</th>\n",
       "      <th>breed</th>\n",
       "      <th>label</th>\n",
       "    </tr>\n",
       "  </thead>\n",
       "  <tbody>\n",
       "    <tr>\n",
       "      <th>0</th>\n",
       "      <td>99</td>\n",
       "      <td>n</td>\n",
       "      <td>n</td>\n",
       "      <td>7.116438e-09</td>\n",
       "      <td>2.315795e-10</td>\n",
       "      <td>99</td>\n",
       "      <td>0</td>\n",
       "      <td>0.054175</td>\n",
       "      <td>9.400168</td>\n",
       "      <td>-5.994889</td>\n",
       "      <td>...</td>\n",
       "      <td>-18.760859</td>\n",
       "      <td>-22.186098</td>\n",
       "      <td>1</td>\n",
       "      <td>5.064369e-17</td>\n",
       "      <td>3.604026e-25</td>\n",
       "      <td>5.362906e-20</td>\n",
       "      <td>1.241939e-29</td>\n",
       "      <td>09003</td>\n",
       "      <td>bxd_090</td>\n",
       "      <td>n</td>\n",
       "    </tr>\n",
       "    <tr>\n",
       "      <th>1</th>\n",
       "      <td>100</td>\n",
       "      <td>n</td>\n",
       "      <td>n</td>\n",
       "      <td>6.789003e-09</td>\n",
       "      <td>1.883032e-10</td>\n",
       "      <td>100</td>\n",
       "      <td>0</td>\n",
       "      <td>0.075867</td>\n",
       "      <td>9.576805</td>\n",
       "      <td>-5.910677</td>\n",
       "      <td>...</td>\n",
       "      <td>-18.807962</td>\n",
       "      <td>-22.392967</td>\n",
       "      <td>1</td>\n",
       "      <td>4.609056e-17</td>\n",
       "      <td>3.129089e-25</td>\n",
       "      <td>3.545811e-20</td>\n",
       "      <td>6.676878e-30</td>\n",
       "      <td>09003</td>\n",
       "      <td>bxd_090</td>\n",
       "      <td>n</td>\n",
       "    </tr>\n",
       "    <tr>\n",
       "      <th>2</th>\n",
       "      <td>101</td>\n",
       "      <td>n</td>\n",
       "      <td>n</td>\n",
       "      <td>5.345885e-09</td>\n",
       "      <td>1.965400e-10</td>\n",
       "      <td>101</td>\n",
       "      <td>0</td>\n",
       "      <td>0.082830</td>\n",
       "      <td>10.181243</td>\n",
       "      <td>-5.931538</td>\n",
       "      <td>...</td>\n",
       "      <td>-19.046939</td>\n",
       "      <td>-22.350155</td>\n",
       "      <td>1</td>\n",
       "      <td>2.857849e-17</td>\n",
       "      <td>1.527773e-25</td>\n",
       "      <td>3.862797e-20</td>\n",
       "      <td>7.591942e-30</td>\n",
       "      <td>09003</td>\n",
       "      <td>bxd_090</td>\n",
       "      <td>n</td>\n",
       "    </tr>\n",
       "    <tr>\n",
       "      <th>3</th>\n",
       "      <td>102</td>\n",
       "      <td>n</td>\n",
       "      <td>n</td>\n",
       "      <td>8.861552e-09</td>\n",
       "      <td>1.982735e-10</td>\n",
       "      <td>102</td>\n",
       "      <td>0</td>\n",
       "      <td>0.052586</td>\n",
       "      <td>7.561301</td>\n",
       "      <td>-5.506340</td>\n",
       "      <td>...</td>\n",
       "      <td>-18.541544</td>\n",
       "      <td>-22.341374</td>\n",
       "      <td>1</td>\n",
       "      <td>7.852710e-17</td>\n",
       "      <td>6.958720e-25</td>\n",
       "      <td>3.931238e-20</td>\n",
       "      <td>7.794603e-30</td>\n",
       "      <td>09003</td>\n",
       "      <td>bxd_090</td>\n",
       "      <td>n</td>\n",
       "    </tr>\n",
       "    <tr>\n",
       "      <th>4</th>\n",
       "      <td>103</td>\n",
       "      <td>n</td>\n",
       "      <td>n</td>\n",
       "      <td>6.617297e-09</td>\n",
       "      <td>2.121310e-10</td>\n",
       "      <td>103</td>\n",
       "      <td>0</td>\n",
       "      <td>0.068133</td>\n",
       "      <td>8.691670</td>\n",
       "      <td>-5.728127</td>\n",
       "      <td>...</td>\n",
       "      <td>-18.833579</td>\n",
       "      <td>-22.273817</td>\n",
       "      <td>1</td>\n",
       "      <td>4.378862e-17</td>\n",
       "      <td>2.897624e-25</td>\n",
       "      <td>4.499956e-20</td>\n",
       "      <td>9.545802e-30</td>\n",
       "      <td>09003</td>\n",
       "      <td>bxd_090</td>\n",
       "      <td>n</td>\n",
       "    </tr>\n",
       "  </tbody>\n",
       "</table>\n",
       "<p>5 rows × 89 columns</p>\n",
       "</div>"
      ],
      "text/plain": [
       "   Unnamed: 0 rawState state          EEGv          EMGv epoch  day  \\\n",
       "0          99        n     n  7.116438e-09  2.315795e-10    99    0   \n",
       "1         100        n     n  6.789003e-09  1.883032e-10   100    0   \n",
       "2         101        n     n  5.345885e-09  1.965400e-10   101    0   \n",
       "3         102        n     n  8.861552e-09  1.982735e-10   102    0   \n",
       "4         103        n     n  6.617297e-09  2.121310e-10   103    0   \n",
       "\n",
       "   spectral_flatness  spectral_centroid  spectral_entropy  ...   EEGv_log  \\\n",
       "0           0.054175           9.400168         -5.994889  ... -18.760859   \n",
       "1           0.075867           9.576805         -5.910677  ... -18.807962   \n",
       "2           0.082830          10.181243         -5.931538  ... -19.046939   \n",
       "3           0.052586           7.561301         -5.506340  ... -18.541544   \n",
       "4           0.068133           8.691670         -5.728127  ... -18.833579   \n",
       "\n",
       "    EMGv_log  bias        EEGv^2        EEGv^3        EMGv^2        EMGv^3  \\\n",
       "0 -22.186098     1  5.064369e-17  3.604026e-25  5.362906e-20  1.241939e-29   \n",
       "1 -22.392967     1  4.609056e-17  3.129089e-25  3.545811e-20  6.676878e-30   \n",
       "2 -22.350155     1  2.857849e-17  1.527773e-25  3.862797e-20  7.591942e-30   \n",
       "3 -22.341374     1  7.852710e-17  6.958720e-25  3.931238e-20  7.794603e-30   \n",
       "4 -22.273817     1  4.378862e-17  2.897624e-25  4.499956e-20  9.545802e-30   \n",
       "\n",
       "   mouse    breed  label  \n",
       "0  09003  bxd_090      n  \n",
       "1  09003  bxd_090      n  \n",
       "2  09003  bxd_090      n  \n",
       "3  09003  bxd_090      n  \n",
       "4  09003  bxd_090      n  \n",
       "\n",
       "[5 rows x 89 columns]"
      ]
     },
     "execution_count": 12,
     "metadata": {},
     "output_type": "execute_result"
    }
   ],
   "source": [
    "df_nofilter_labels.head()"
   ]
  },
  {
   "cell_type": "code",
   "execution_count": 13,
   "metadata": {},
   "outputs": [],
   "source": [
    "# test if the merge worked by comparing the values of the labels\n",
    "# with the ones of the rawState on the third day\n",
    "df_nofilter_labels_day2 = df_nofilter_labels[df_nofilter_labels['day'] == 2]\n",
    "for index, row in df_nofilter_labels_day2.iterrows():\n",
    "    if row['label'] != row['rawState']:\n",
    "        print(row['mouse'], row['epoch'], row['label'], row['rawState'])"
   ]
  },
  {
   "cell_type": "code",
   "execution_count": 15,
   "metadata": {},
   "outputs": [],
   "source": [
    "with open('/home/magali.egger/shared-projects/mice_UNIL/Data/df_simplify_labels.pkl', 'wb') as f:\n",
    "    pickle.dump(df_simplify_labels, f)\n",
    "\n",
    "with open('/home/magali.egger/shared-projects/mice_UNIL/Data/df_nofilter_labels.pkl', 'wb') as f:\n",
    "    pickle.dump(df_nofilter_labels, f)"
   ]
  },
  {
   "cell_type": "code",
   "execution_count": 5,
   "metadata": {},
   "outputs": [],
   "source": [
    "with open('/home/magali.egger/workspace/TBproject/Travail_Bachelor/Data/df_simplify_labels.pkl', 'rb') as f:\n",
    "    df_simplify_labels = pickle.load(f)"
   ]
  },
  {
   "cell_type": "code",
   "execution_count": 8,
   "metadata": {},
   "outputs": [],
   "source": [
    "# compare df_simplify with df_simplify_labels\n",
    "df_simplify = df_simplify[df_simplify['mouse'].isin(mice_annotated)]\n"
   ]
  },
  {
   "cell_type": "code",
   "execution_count": null,
   "metadata": {},
   "outputs": [],
   "source": [
    "# compare df_simplify with df_simplify_labels\n",
    "\n",
    "\n",
    "(df_simplify['EEGv']).equals(df_simplify_labels['EEGv'])\n",
    "\n",
    "for index, row in df_simplify.iterrows():\n",
    "    if row['EEGv'] != df_simplify_labels.iloc[index]['EEGv']:\n",
    "        print(row['mouse'], row['epoch'], row['EEGv'], df_simplify_labels.iloc[index]['EEGv'])"
   ]
  },
  {
   "cell_type": "code",
   "execution_count": null,
   "metadata": {},
   "outputs": [],
   "source": []
  }
 ],
 "metadata": {
  "kernelspec": {
   "display_name": "tb",
   "language": "python",
   "name": "tb"
  },
  "language_info": {
   "codemirror_mode": {
    "name": "ipython",
    "version": 3
   },
   "file_extension": ".py",
   "mimetype": "text/x-python",
   "name": "python",
   "nbconvert_exporter": "python",
   "pygments_lexer": "ipython3",
   "version": "3.10.9"
  },
  "orig_nbformat": 4
 },
 "nbformat": 4,
 "nbformat_minor": 2
}
