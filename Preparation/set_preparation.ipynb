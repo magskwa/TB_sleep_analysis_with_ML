{
 "cells": [
  {
   "attachments": {},
   "cell_type": "markdown",
   "metadata": {},
   "source": [
    "## Preparation of the different data sets"
   ]
  },
  {
   "attachments": {},
   "cell_type": "markdown",
   "metadata": {},
   "source": [
    "The goal of this notebook is to prepare the different data sets for the training of the model. The data sets are the following :\n",
    "- full data set\n",
    "- full data set (removing unexpected labels -> a,j,s,7,8)\n",
    "- artifact free data set (same as before is 1,2,3)\n",
    "- df_simplify labels (4 and 9-> w, 5-> n, 6-> r)\n",
    "- df_simplify_day3 (keeps only third day)\n"
   ]
  },
  {
   "cell_type": "code",
   "execution_count": 1,
   "metadata": {},
   "outputs": [
    {
     "name": "stderr",
     "output_type": "stream",
     "text": [
      "2023-07-23 17:01:54.765262: I tensorflow/tsl/cuda/cudart_stub.cc:28] Could not find cuda drivers on your machine, GPU will not be used.\n",
      "2023-07-23 17:01:54.838930: I tensorflow/tsl/cuda/cudart_stub.cc:28] Could not find cuda drivers on your machine, GPU will not be used.\n",
      "2023-07-23 17:01:56.054204: W tensorflow/compiler/tf2tensorrt/utils/py_utils.cc:38] TF-TRT Warning: Could not find TensorRT\n",
      "Intel(R) Extension for Scikit-learn* enabled (https://github.com/intel/scikit-learn-intelex)\n"
     ]
    },
    {
     "data": {
      "text/plain": [
       "<module 'splitData' from '/mnt/remote/workspaces/magali.egger/TBproject/Travail_Bachelor/Preparation/../Library/splitData.py'>"
      ]
     },
     "execution_count": 1,
     "metadata": {},
     "output_type": "execute_result"
    }
   ],
   "source": [
    "import pandas as pd\n",
    "import numpy as np\n",
    "import matplotlib.pyplot as plt\n",
    "import seaborn as sns\n",
    "import pickle\n",
    "\n",
    "import sys\n",
    "sys.path.append('../Library')\n",
    "\n",
    "import breedManip as breedManip\n",
    "import dataProcessing as dataProcessing\n",
    "import breeds as breeds\n",
    "import splitData as splitData\n",
    "\n",
    "import os\n",
    "import importlib\n",
    "\n",
    "importlib.reload(splitData)"
   ]
  },
  {
   "cell_type": "code",
   "execution_count": 2,
   "metadata": {},
   "outputs": [],
   "source": [
    "def addTemporalityInfo(df):\n",
    "    df1 = df.copy()\n",
    "    df1['hour'] = df1.index // 900\n",
    "    df1['minute'] = df1.index // 15"
   ]
  },
  {
   "cell_type": "code",
   "execution_count": 3,
   "metadata": {},
   "outputs": [],
   "source": [
    "input_folder = '/home/magali.egger/shared-projects/mice_UNIL/BXD envoie/Prep_files/'\n",
    "files = [file for file in os.listdir(input_folder)]\n",
    "\n",
    "df = pd.DataFrame()\n",
    "\n",
    "for file in files :\n",
    "    file_name = file.split('.')[0]\n",
    "\n",
    "    # add the mouse name\n",
    "    df = pd.concat([df,pd.read_csv(input_folder + file).assign(mouse=file_name)])\n",
    "    \n",
    "    # add the breed\n",
    "    df.loc[df['mouse'] == file_name, 'breed'] = breedManip.getBreedOfMouse(file_name)"
   ]
  },
  {
   "attachments": {},
   "cell_type": "markdown",
   "metadata": {},
   "source": [
    "First data set to be stored is the full data set (no filter). The data set is stored in the folder \"data\" by the library pickle."
   ]
  },
  {
   "cell_type": "code",
   "execution_count": 6,
   "metadata": {},
   "outputs": [],
   "source": [
    "with open('/home/magali.egger/workspace/TBproject/Travail_Bachelor/Data/df_full_noFilter.pkl', 'wb') as f:\n",
    "    pickle.dump(df, f)"
   ]
  },
  {
   "cell_type": "code",
   "execution_count": 4,
   "metadata": {},
   "outputs": [
    {
     "data": {
      "text/plain": [
       "252"
      ]
     },
     "execution_count": 4,
     "metadata": {},
     "output_type": "execute_result"
    }
   ],
   "source": [
    "len(df['mouse'].unique())"
   ]
  },
  {
   "cell_type": "code",
   "execution_count": 5,
   "metadata": {},
   "outputs": [
    {
     "data": {
      "text/plain": [
       "21314412"
      ]
     },
     "execution_count": 5,
     "metadata": {},
     "output_type": "execute_result"
    }
   ],
   "source": [
    "len(df.index)\n",
    "# should be 21'314'412"
   ]
  },
  {
   "cell_type": "code",
   "execution_count": 7,
   "metadata": {},
   "outputs": [
    {
     "name": "stdout",
     "output_type": "stream",
     "text": [
      "w    10800193\n",
      "n     8812707\n",
      "r     1181364\n",
      "1      448785\n",
      "2       46969\n",
      "3       15120\n",
      "5        3819\n",
      "4        3401\n",
      "8         784\n",
      "6         729\n",
      "s         329\n",
      "9         208\n",
      "a           3\n",
      "j           1\n",
      "Name: rawState, dtype: int64\n",
      "w    11252379\n",
      "n     8863495\n",
      "r     1197213\n",
      "8         784\n",
      "s         329\n",
      "9         208\n",
      "a           3\n",
      "j           1\n",
      "Name: state, dtype: int64\n"
     ]
    }
   ],
   "source": [
    "print(df['rawState'].value_counts())\n",
    "print(df['state'].value_counts())"
   ]
  },
  {
   "attachments": {},
   "cell_type": "markdown",
   "metadata": {},
   "source": [
    "Second data set is the data set with the filter of the unexpected labels. The lines containing unexpected labels are removed. Unexpected labels are the following : a,j,s,7,8."
   ]
  },
  {
   "cell_type": "code",
   "execution_count": 8,
   "metadata": {},
   "outputs": [],
   "source": [
    "df_filter = df.copy()\n",
    "labels_to_keep = ['1', '2', '3', '4', '5', '6', '9', 'n', 'r', 'w']\n",
    "df_filter = df_filter[df_filter['rawState'].isin(labels_to_keep)]"
   ]
  },
  {
   "cell_type": "code",
   "execution_count": 9,
   "metadata": {},
   "outputs": [
    {
     "name": "stdout",
     "output_type": "stream",
     "text": [
      "w    10800193\n",
      "n     8812707\n",
      "r     1181364\n",
      "1      448785\n",
      "2       46969\n",
      "3       15120\n",
      "5        3819\n",
      "4        3401\n",
      "6         729\n",
      "9         208\n",
      "Name: rawState, dtype: int64\n"
     ]
    }
   ],
   "source": [
    "print(df_filter['rawState'].value_counts())"
   ]
  },
  {
   "cell_type": "code",
   "execution_count": 10,
   "metadata": {},
   "outputs": [
    {
     "name": "stdout",
     "output_type": "stream",
     "text": [
      "21313295\n"
     ]
    }
   ],
   "source": [
    "print(len(df_filter.index))\n",
    "# should be 21'313'295"
   ]
  },
  {
   "cell_type": "code",
   "execution_count": 11,
   "metadata": {},
   "outputs": [],
   "source": [
    "with open('/home/magali.egger/workspace/TBproject/Travail_Bachelor/Data/df_filter.pkl', 'wb') as f:\n",
    "    pickle.dump(df_filter, f)"
   ]
  },
  {
   "attachments": {},
   "cell_type": "markdown",
   "metadata": {},
   "source": [
    "Third data set is the data set without the artifacts. The artifacts are the labels 1,2,3."
   ]
  },
  {
   "cell_type": "code",
   "execution_count": 12,
   "metadata": {},
   "outputs": [],
   "source": [
    "df_artifacts_free = df_filter.copy()\n",
    "labels_artifacts_free = ['4', '5', '6', '9', 'n', 'r', 'w']\n",
    "df_artifacts_free = df_artifacts_free[df_artifacts_free['rawState'].isin(labels_artifacts_free)]"
   ]
  },
  {
   "cell_type": "code",
   "execution_count": 13,
   "metadata": {},
   "outputs": [
    {
     "data": {
      "text/plain": [
       "20802421"
      ]
     },
     "execution_count": 13,
     "metadata": {},
     "output_type": "execute_result"
    }
   ],
   "source": [
    "len(df_artifacts_free.index)\n",
    "# should be 20'802'421"
   ]
  },
  {
   "cell_type": "code",
   "execution_count": 14,
   "metadata": {},
   "outputs": [],
   "source": [
    "with open('/home/magali.egger/workspace/TBproject/Travail_Bachelor/Data/df_artifacts_free.pkl', 'wb') as f:\n",
    "    pickle.dump(df_artifacts_free, f)"
   ]
  },
  {
   "attachments": {},
   "cell_type": "markdown",
   "metadata": {},
   "source": [
    "Fourth data set is the data set with the simplified labels. The labels 4 and 9 are replaced by w, 5 by n and 6 by r."
   ]
  },
  {
   "cell_type": "code",
   "execution_count": 15,
   "metadata": {},
   "outputs": [],
   "source": [
    "df_simplify = df_artifacts_free.copy()\n",
    "df_simplify['rawState'] = df_simplify['rawState'].replace(['4','9'], 'w')\n",
    "df_simplify['rawState'] = df_simplify['rawState'].replace(['5'], 'n')\n",
    "df_simplify['rawState'] = df_simplify['rawState'].replace(['6'], 'r')"
   ]
  },
  {
   "cell_type": "code",
   "execution_count": 16,
   "metadata": {},
   "outputs": [
    {
     "data": {
      "text/plain": [
       "0"
      ]
     },
     "execution_count": 16,
     "metadata": {},
     "output_type": "execute_result"
    }
   ],
   "source": [
    "len(df_simplify.index) - len(df_artifacts_free.index)\n",
    "# should be 0"
   ]
  },
  {
   "cell_type": "code",
   "execution_count": 17,
   "metadata": {},
   "outputs": [],
   "source": [
    "with open('/home/magali.egger/workspace/TBproject/Travail_Bachelor/Data/df_simplify.pkl', 'wb') as f:\n",
    "    pickle.dump(df_simplify, f)"
   ]
  },
  {
   "attachments": {},
   "cell_type": "markdown",
   "metadata": {},
   "source": [
    "The last df is the df simplified with only the third day."
   ]
  },
  {
   "cell_type": "code",
   "execution_count": 18,
   "metadata": {},
   "outputs": [],
   "source": [
    "df_simplify_day3 = df_simplify.copy()\n",
    "df_simplify_day3 = df_simplify_day3[df_simplify_day3['day'] == 2]"
   ]
  },
  {
   "cell_type": "code",
   "execution_count": 19,
   "metadata": {},
   "outputs": [],
   "source": [
    "with open('/home/magali.egger/workspace/TBproject/Travail_Bachelor/Data/df_simplify_day3.pkl', 'wb') as f:\n",
    "    pickle.dump(df_simplify_day3, f)"
   ]
  },
  {
   "attachments": {},
   "cell_type": "markdown",
   "metadata": {},
   "source": [
    "#### Loading the data frames"
   ]
  },
  {
   "cell_type": "code",
   "execution_count": 20,
   "metadata": {},
   "outputs": [],
   "source": [
    "with open('/home/magali.egger/workspace/TBproject/Travail_Bachelor/Data/df_simplify_day3.pkl', 'rb') as f:\n",
    "    df_simplify_day3 = pickle.load(f)"
   ]
  },
  {
   "cell_type": "code",
   "execution_count": 21,
   "metadata": {},
   "outputs": [],
   "source": [
    "with open('/home/magali.egger/workspace/TBproject/Travail_Bachelor/Data/df_artifacts_free.pkl', 'rb') as f:\n",
    "    df_artifacts_free = pickle.load(f)\n",
    "\n",
    "with open('/home/magali.egger/workspace/TBproject/Travail_Bachelor/Data/df_simplify.pkl', 'rb') as f:\n",
    "    df_simplify = pickle.load(f)"
   ]
  },
  {
   "cell_type": "code",
   "execution_count": 40,
   "metadata": {},
   "outputs": [
    {
     "name": "stdout",
     "output_type": "stream",
     "text": [
      "4919666\n"
     ]
    }
   ],
   "source": [
    "with open('/home/magali.egger/workspace/TBproject/Travail_Bachelor/Data/df_simplify_day3.pkl', 'rb') as f:\n",
    "    df_simplify_day3 = pickle.load(f)"
   ]
  },
  {
   "cell_type": "code",
   "execution_count": null,
   "metadata": {},
   "outputs": [],
   "source": [
    "# get the different df\n",
    "\"\"\"\n",
    "with open('/home/magali.egger/workspace/TBproject/Travail_Bachelor/Data/df_full_noFilter.pkl', 'rb') as f:\n",
    "    df = pickle.load(f)\n",
    "\n",
    "with open('/home/magali.egger/workspace/TBproject/Travail_Bachelor/Data/df_filter.pkl', 'rb') as f:\n",
    "    df_filter = pickle.load(f)\n",
    "\n",
    "with open('/home/magali.egger/workspace/TBproject/Travail_Bachelor/Data/df_artifacts_free.pkl', 'rb') as f:\n",
    "    df_artifacts_free = pickle.load(f)\n",
    "\n",
    "with open('/home/magali.egger/workspace/TBproject/Travail_Bachelor/Data/df_simplify.pkl', 'rb') as f:\n",
    "    df_simplify = pickle.load(f)\n",
    "\n",
    "with open('/home/magali.egger/workspace/TBproject/Travail_Bachelor/Data/df_simplify_day3.pkl', 'rb') as f:\n",
    "    df_simplify_day3 = pickle.load(f)\n",
    "\"\"\""
   ]
  },
  {
   "attachments": {},
   "cell_type": "markdown",
   "metadata": {},
   "source": [
    "### Preparation for the train and the test set"
   ]
  },
  {
   "attachments": {},
   "cell_type": "markdown",
   "metadata": {},
   "source": [
    "There's different step to follow in order to prepare correctly the train and test set.\n",
    "- The train and the tests set are created based on the third day  \n",
    "- The mouse from the breeds smaller than 4 aren't kept\n",
    "- The test set is composed of one mouse from each breed\n",
    "- The train set is composed of the rest of the mice."
   ]
  },
  {
   "cell_type": "code",
   "execution_count": 22,
   "metadata": {},
   "outputs": [],
   "source": [
    "with open('/home/magali.egger/workspace/TBproject/Travail_Bachelor/Data/df_simplify_day3.pkl', 'rb') as f:\n",
    "    df1 = pickle.load(f)"
   ]
  },
  {
   "cell_type": "code",
   "execution_count": 23,
   "metadata": {},
   "outputs": [],
   "source": [
    "selected_breeds = breedManip.selectAllBreedsOfSizeNOrMore(4)\n",
    "#id_selected_breeds = [breedManip.getBreedIndex(breed) for breed in selected_breeds]\n",
    "df1 = df1[df1['breed'].isin(selected_breeds)]"
   ]
  },
  {
   "cell_type": "code",
   "execution_count": 24,
   "metadata": {},
   "outputs": [
    {
     "data": {
      "text/plain": [
       "39"
      ]
     },
     "execution_count": 24,
     "metadata": {},
     "output_type": "execute_result"
    }
   ],
   "source": [
    "len(selected_breeds)"
   ]
  },
  {
   "cell_type": "code",
   "execution_count": 25,
   "metadata": {},
   "outputs": [
    {
     "data": {
      "text/html": [
       "<div>\n",
       "<style scoped>\n",
       "    .dataframe tbody tr th:only-of-type {\n",
       "        vertical-align: middle;\n",
       "    }\n",
       "\n",
       "    .dataframe tbody tr th {\n",
       "        vertical-align: top;\n",
       "    }\n",
       "\n",
       "    .dataframe thead th {\n",
       "        text-align: right;\n",
       "    }\n",
       "</style>\n",
       "<table border=\"1\" class=\"dataframe\">\n",
       "  <thead>\n",
       "    <tr style=\"text-align: right;\">\n",
       "      <th></th>\n",
       "      <th>Unnamed: 0</th>\n",
       "      <th>rawState</th>\n",
       "      <th>state</th>\n",
       "      <th>EEGv</th>\n",
       "      <th>EMGv</th>\n",
       "      <th>epoch</th>\n",
       "      <th>day</th>\n",
       "      <th>spectral_flatness</th>\n",
       "      <th>spectral_centroid</th>\n",
       "      <th>spectral_entropy</th>\n",
       "      <th>...</th>\n",
       "      <th>EMGv_max100</th>\n",
       "      <th>EEGv_log</th>\n",
       "      <th>EMGv_log</th>\n",
       "      <th>bias</th>\n",
       "      <th>EEGv^2</th>\n",
       "      <th>EEGv^3</th>\n",
       "      <th>EMGv^2</th>\n",
       "      <th>EMGv^3</th>\n",
       "      <th>mouse</th>\n",
       "      <th>breed</th>\n",
       "    </tr>\n",
       "  </thead>\n",
       "  <tbody>\n",
       "    <tr>\n",
       "      <th>42018</th>\n",
       "      <td>43200</td>\n",
       "      <td>w</td>\n",
       "      <td>w</td>\n",
       "      <td>2.561793e-09</td>\n",
       "      <td>2.476193e-10</td>\n",
       "      <td>43200</td>\n",
       "      <td>2</td>\n",
       "      <td>0.156645</td>\n",
       "      <td>15.654199</td>\n",
       "      <td>-6.416485</td>\n",
       "      <td>...</td>\n",
       "      <td>6.798730e-10</td>\n",
       "      <td>-19.782559</td>\n",
       "      <td>-22.119129</td>\n",
       "      <td>1</td>\n",
       "      <td>6.562781e-18</td>\n",
       "      <td>1.681248e-26</td>\n",
       "      <td>6.131530e-20</td>\n",
       "      <td>1.518285e-29</td>\n",
       "      <td>09003</td>\n",
       "      <td>bxd_090</td>\n",
       "    </tr>\n",
       "    <tr>\n",
       "      <th>42019</th>\n",
       "      <td>43201</td>\n",
       "      <td>w</td>\n",
       "      <td>w</td>\n",
       "      <td>2.890715e-09</td>\n",
       "      <td>1.768662e-10</td>\n",
       "      <td>43201</td>\n",
       "      <td>2</td>\n",
       "      <td>0.146992</td>\n",
       "      <td>15.432471</td>\n",
       "      <td>-5.647920</td>\n",
       "      <td>...</td>\n",
       "      <td>6.798730e-10</td>\n",
       "      <td>-19.661762</td>\n",
       "      <td>-22.455627</td>\n",
       "      <td>1</td>\n",
       "      <td>8.356233e-18</td>\n",
       "      <td>2.415549e-26</td>\n",
       "      <td>3.128167e-20</td>\n",
       "      <td>5.532671e-30</td>\n",
       "      <td>09003</td>\n",
       "      <td>bxd_090</td>\n",
       "    </tr>\n",
       "    <tr>\n",
       "      <th>42020</th>\n",
       "      <td>43202</td>\n",
       "      <td>w</td>\n",
       "      <td>w</td>\n",
       "      <td>2.657057e-09</td>\n",
       "      <td>1.719997e-10</td>\n",
       "      <td>43202</td>\n",
       "      <td>2</td>\n",
       "      <td>0.096660</td>\n",
       "      <td>11.455600</td>\n",
       "      <td>-5.618493</td>\n",
       "      <td>...</td>\n",
       "      <td>6.798730e-10</td>\n",
       "      <td>-19.746047</td>\n",
       "      <td>-22.483528</td>\n",
       "      <td>1</td>\n",
       "      <td>7.059955e-18</td>\n",
       "      <td>1.875871e-26</td>\n",
       "      <td>2.958391e-20</td>\n",
       "      <td>5.088426e-30</td>\n",
       "      <td>09003</td>\n",
       "      <td>bxd_090</td>\n",
       "    </tr>\n",
       "    <tr>\n",
       "      <th>42021</th>\n",
       "      <td>43203</td>\n",
       "      <td>w</td>\n",
       "      <td>w</td>\n",
       "      <td>3.102465e-09</td>\n",
       "      <td>1.463278e-10</td>\n",
       "      <td>43203</td>\n",
       "      <td>2</td>\n",
       "      <td>0.085641</td>\n",
       "      <td>10.517584</td>\n",
       "      <td>-5.388146</td>\n",
       "      <td>...</td>\n",
       "      <td>6.798730e-10</td>\n",
       "      <td>-19.591069</td>\n",
       "      <td>-22.645172</td>\n",
       "      <td>1</td>\n",
       "      <td>9.625289e-18</td>\n",
       "      <td>2.986212e-26</td>\n",
       "      <td>2.141181e-20</td>\n",
       "      <td>3.133143e-30</td>\n",
       "      <td>09003</td>\n",
       "      <td>bxd_090</td>\n",
       "    </tr>\n",
       "    <tr>\n",
       "      <th>42022</th>\n",
       "      <td>43204</td>\n",
       "      <td>w</td>\n",
       "      <td>w</td>\n",
       "      <td>3.150835e-09</td>\n",
       "      <td>1.709445e-10</td>\n",
       "      <td>43204</td>\n",
       "      <td>2</td>\n",
       "      <td>0.098589</td>\n",
       "      <td>10.449326</td>\n",
       "      <td>-5.478330</td>\n",
       "      <td>...</td>\n",
       "      <td>6.798730e-10</td>\n",
       "      <td>-19.575598</td>\n",
       "      <td>-22.489682</td>\n",
       "      <td>1</td>\n",
       "      <td>9.927761e-18</td>\n",
       "      <td>3.128074e-26</td>\n",
       "      <td>2.922202e-20</td>\n",
       "      <td>4.995344e-30</td>\n",
       "      <td>09003</td>\n",
       "      <td>bxd_090</td>\n",
       "    </tr>\n",
       "  </tbody>\n",
       "</table>\n",
       "<p>5 rows × 88 columns</p>\n",
       "</div>"
      ],
      "text/plain": [
       "       Unnamed: 0 rawState state          EEGv          EMGv  epoch  day  \\\n",
       "42018       43200        w     w  2.561793e-09  2.476193e-10  43200    2   \n",
       "42019       43201        w     w  2.890715e-09  1.768662e-10  43201    2   \n",
       "42020       43202        w     w  2.657057e-09  1.719997e-10  43202    2   \n",
       "42021       43203        w     w  3.102465e-09  1.463278e-10  43203    2   \n",
       "42022       43204        w     w  3.150835e-09  1.709445e-10  43204    2   \n",
       "\n",
       "       spectral_flatness  spectral_centroid  spectral_entropy  ...  \\\n",
       "42018           0.156645          15.654199         -6.416485  ...   \n",
       "42019           0.146992          15.432471         -5.647920  ...   \n",
       "42020           0.096660          11.455600         -5.618493  ...   \n",
       "42021           0.085641          10.517584         -5.388146  ...   \n",
       "42022           0.098589          10.449326         -5.478330  ...   \n",
       "\n",
       "        EMGv_max100   EEGv_log   EMGv_log  bias        EEGv^2        EEGv^3  \\\n",
       "42018  6.798730e-10 -19.782559 -22.119129     1  6.562781e-18  1.681248e-26   \n",
       "42019  6.798730e-10 -19.661762 -22.455627     1  8.356233e-18  2.415549e-26   \n",
       "42020  6.798730e-10 -19.746047 -22.483528     1  7.059955e-18  1.875871e-26   \n",
       "42021  6.798730e-10 -19.591069 -22.645172     1  9.625289e-18  2.986212e-26   \n",
       "42022  6.798730e-10 -19.575598 -22.489682     1  9.927761e-18  3.128074e-26   \n",
       "\n",
       "             EMGv^2        EMGv^3  mouse    breed  \n",
       "42018  6.131530e-20  1.518285e-29  09003  bxd_090  \n",
       "42019  3.128167e-20  5.532671e-30  09003  bxd_090  \n",
       "42020  2.958391e-20  5.088426e-30  09003  bxd_090  \n",
       "42021  2.141181e-20  3.133143e-30  09003  bxd_090  \n",
       "42022  2.922202e-20  4.995344e-30  09003  bxd_090  \n",
       "\n",
       "[5 rows x 88 columns]"
      ]
     },
     "execution_count": 25,
     "metadata": {},
     "output_type": "execute_result"
    }
   ],
   "source": [
    "df1.head()"
   ]
  },
  {
   "cell_type": "code",
   "execution_count": 26,
   "metadata": {},
   "outputs": [],
   "source": [
    "seed = 24\n",
    "df_train, df_test = splitData.split_data_breeds(df1,seed)"
   ]
  },
  {
   "cell_type": "code",
   "execution_count": 27,
   "metadata": {},
   "outputs": [
    {
     "name": "stdout",
     "output_type": "stream",
     "text": [
      "206\n",
      "39\n"
     ]
    }
   ],
   "source": [
    "print(len(df_train['mouse'].unique()))\n",
    "print(len(df_test['mouse'].unique()))"
   ]
  },
  {
   "cell_type": "code",
   "execution_count": 28,
   "metadata": {},
   "outputs": [],
   "source": [
    "with open('/home/magali.egger/workspace/TBproject/Travail_Bachelor/Data/df_train.pkl', 'wb') as f:\n",
    "    pickle.dump(df_train, f)\n",
    "\n",
    "with open('/home/magali.egger/workspace/TBproject/Travail_Bachelor/Data/df_test.pkl', 'wb') as f:\n",
    "    pickle.dump(df_test, f)"
   ]
  },
  {
   "cell_type": "code",
   "execution_count": 29,
   "metadata": {},
   "outputs": [
    {
     "name": "stdout",
     "output_type": "stream",
     "text": [
      "['09003' '09806' '08405' '00503' '29T01' '09504' '07303' '06408' '10010'\n",
      " 'BDF02' '09701' '06605' '07501' '1D203' '06504' '06703' '08102' '06308'\n",
      " '05505' 'BL614' '05107' '05001' '04805' '07005' '06111' '08701' '04903'\n",
      " '04407' '03207' '05603' '08306' '071S2' '04505' '10302' 'DBF02' '09607'\n",
      " '08910' '04304' '02902']\n"
     ]
    }
   ],
   "source": [
    "print(df_test['mouse'].unique())"
   ]
  },
  {
   "cell_type": "code",
   "execution_count": 30,
   "metadata": {},
   "outputs": [
    {
     "name": "stdout",
     "output_type": "stream",
     "text": [
      "['043S5' '06403' '06110' '10301' '06404' '02901' '03205' '09509' '04309'\n",
      " '29T06' 'BDF06' '02910' '04508' '08404' '08108' '00506' '09803' '08106'\n",
      " '07007' 'DBA13' '04901' '07006' '2D203' '1D204' '06603' '51G10' '09708'\n",
      " '10009' 'DBF01' 'BL6V3' '04806' 'BL611' '08314' '05502' '06405' '07004'\n",
      " 'BL6V2' '10304' '05602' '09006' '10004' '06505' 'BL606' '10306' '09808'\n",
      " '08911' '10002' '05501' '05604' '02905' '07106' '03206' '07305' 'BDF04'\n",
      " '08112' '06105' 'DBA12' '04405' '07502' '29T10' '06306' '04403' 'DBF06'\n",
      " '08706' '07105' '08707' '06707' '05002' '06109' '09807' 'BL601' '09702'\n",
      " '1D206' '04501' '04906' 'BL6V1' '09506' '04308' '05606' 'DBF04' '00505'\n",
      " '06705' '08311' '09604' '02909' '04306' '02903' '06303' 'BL610' '03208'\n",
      " '08903' '09602' '051G9' '07505' '09505' '04402' '10003' '00504' '09005'\n",
      " '07302' 'DBF07' '00501' '05004' '06601' '05101' 'BL609' '08904' '08401'\n",
      " 'DBA14' '09501' '09709' '06702' '09601' '07503' '04504' '04902' '02907'\n",
      " '06307' '09508' '08705' '05108' 'DBA11' 'DBF05' '04802' '05506' '06706'\n",
      " '03201' '10303' '08313' '08312' '09703' '06507' '04803' 'BL616' 'DBA10'\n",
      " '06704' 'DBA15' '06604' '04804' '10307' '07306' '10006' '09802' 'BDF09'\n",
      " '09605' '00502' '06302' '09503' '04801' '10008' '06503' '06304' '09007'\n",
      " '06103' 'BL602' '09608' '08901' '06506' '06608' 'DBFM3' '09706' '08406'\n",
      " '075G8' '08305' '04907' '05103' '08710' '07109' '07507' '07504' '06106'\n",
      " '08403' '08902' '03202' '04905' '09606' '29T08' '07304' '02908' '03204'\n",
      " '08113' 'BDF08' '05605' '09004' '05601' '06410' '05003' '29T09' '05504'\n",
      " '08103' '04506' '09801' '06607' 'BL612' '29T05' '09001' '07301' '05102'\n",
      " '04310' '07001' '08709' '06407' '04406' '05607' '07108' '04502']\n"
     ]
    }
   ],
   "source": [
    "print(df_train['mouse'].unique())"
   ]
  },
  {
   "cell_type": "code",
   "execution_count": 31,
   "metadata": {},
   "outputs": [
    {
     "name": "stdout",
     "output_type": "stream",
     "text": [
      "206\n"
     ]
    }
   ],
   "source": [
    "print(len(df_train['mouse'].unique()))"
   ]
  },
  {
   "cell_type": "code",
   "execution_count": 32,
   "metadata": {},
   "outputs": [
    {
     "name": "stdout",
     "output_type": "stream",
     "text": [
      "39\n"
     ]
    }
   ],
   "source": [
    "print(len(df_test['mouse'].unique()))"
   ]
  },
  {
   "cell_type": "code",
   "execution_count": null,
   "metadata": {},
   "outputs": [],
   "source": []
  }
 ],
 "metadata": {
  "kernelspec": {
   "display_name": "tb",
   "language": "python",
   "name": "tb"
  },
  "language_info": {
   "codemirror_mode": {
    "name": "ipython",
    "version": 3
   },
   "file_extension": ".py",
   "mimetype": "text/x-python",
   "name": "python",
   "nbconvert_exporter": "python",
   "pygments_lexer": "ipython3",
   "version": "3.10.9"
  },
  "orig_nbformat": 4
 },
 "nbformat": 4,
 "nbformat_minor": 2
}
