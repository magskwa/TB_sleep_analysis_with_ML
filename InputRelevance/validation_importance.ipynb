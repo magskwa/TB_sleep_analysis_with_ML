{
 "cells": [
  {
   "attachments": {},
   "cell_type": "markdown",
   "metadata": {},
   "source": [
    "## Experience of classification with only with a few features"
   ]
  },
  {
   "attachments": {},
   "cell_type": "markdown",
   "metadata": {},
   "source": [
    "In this experience a random forest classifier will be trained only on 4 features :\n",
    "- spectral flatness\n",
    "- spectral roll-off 0.9\n",
    "- EEGv_max 2\n",
    "- EMGv log\n",
    "\n",
    "All the mice will be uses for this experience, only the data of the third day are kept and one mouse of each breed will be used as the test set. (the train set and the test set are the same as the one from the classification experience)"
   ]
  },
  {
   "cell_type": "code",
   "execution_count": 1,
   "metadata": {},
   "outputs": [
    {
     "name": "stderr",
     "output_type": "stream",
     "text": [
      "2023-07-27 11:00:19.295445: I tensorflow/tsl/cuda/cudart_stub.cc:28] Could not find cuda drivers on your machine, GPU will not be used.\n",
      "2023-07-27 11:00:19.367508: I tensorflow/tsl/cuda/cudart_stub.cc:28] Could not find cuda drivers on your machine, GPU will not be used.\n",
      "2023-07-27 11:00:20.529823: W tensorflow/compiler/tf2tensorrt/utils/py_utils.cc:38] TF-TRT Warning: Could not find TensorRT\n",
      "Intel(R) Extension for Scikit-learn* enabled (https://github.com/intel/scikit-learn-intelex)\n"
     ]
    }
   ],
   "source": [
    "import pandas as pd\n",
    "import numpy as np\n",
    "import matplotlib.pyplot as plt\n",
    "import seaborn as sns\n",
    "import tensorflow as tf\n",
    "import pickle\n",
    "import os\n",
    "from imblearn.ensemble import BalancedRandomForestClassifier\n",
    "\n",
    "import sys\n",
    "sys.path.append('../Library')\n",
    "\n",
    "import breedManip as breedManip\n",
    "import dataProcessing as dataProcessing\n",
    "import breeds as breeds\n",
    "import splitData as splitData\n",
    "\n",
    "import importlib\n",
    "importlib.reload(dataProcessing)\n",
    "importlib.reload(splitData)\n",
    "\n",
    "import warnings\n",
    "warnings.filterwarnings('ignore')"
   ]
  },
  {
   "cell_type": "code",
   "execution_count": 2,
   "metadata": {},
   "outputs": [],
   "source": [
    "# read the df_train from pickle\n",
    "with open('/home/magali.egger/shared-projects/mice_UNIL/Data/df_train.pkl', 'rb') as f:\n",
    "    df_train = pickle.load(f)\n",
    "\n",
    "# read the df_test from pickle\n",
    "with open('/home/magali.egger/shared-projects/mice_UNIL/Data/df_test.pkl', 'rb') as f:\n",
    "    df_test = pickle.load(f)"
   ]
  },
  {
   "cell_type": "code",
   "execution_count": 3,
   "metadata": {},
   "outputs": [
    {
     "data": {
      "text/html": [
       "<div>\n",
       "<style scoped>\n",
       "    .dataframe tbody tr th:only-of-type {\n",
       "        vertical-align: middle;\n",
       "    }\n",
       "\n",
       "    .dataframe tbody tr th {\n",
       "        vertical-align: top;\n",
       "    }\n",
       "\n",
       "    .dataframe thead th {\n",
       "        text-align: right;\n",
       "    }\n",
       "</style>\n",
       "<table border=\"1\" class=\"dataframe\">\n",
       "  <thead>\n",
       "    <tr style=\"text-align: right;\">\n",
       "      <th></th>\n",
       "      <th>spectral_rolloff_0.9</th>\n",
       "      <th>spectral_flatness</th>\n",
       "      <th>EEGv_max2</th>\n",
       "      <th>EMGv_log</th>\n",
       "      <th>EMGv_max50</th>\n",
       "      <th>rawState</th>\n",
       "      <th>state</th>\n",
       "    </tr>\n",
       "  </thead>\n",
       "  <tbody>\n",
       "    <tr>\n",
       "      <th>42314</th>\n",
       "      <td>11.00</td>\n",
       "      <td>0.036518</td>\n",
       "      <td>3.980820e-09</td>\n",
       "      <td>-21.730842</td>\n",
       "      <td>8.146028e-09</td>\n",
       "      <td>w</td>\n",
       "      <td>w</td>\n",
       "    </tr>\n",
       "    <tr>\n",
       "      <th>42315</th>\n",
       "      <td>17.25</td>\n",
       "      <td>0.062002</td>\n",
       "      <td>2.985767e-09</td>\n",
       "      <td>-21.180370</td>\n",
       "      <td>8.146028e-09</td>\n",
       "      <td>w</td>\n",
       "      <td>w</td>\n",
       "    </tr>\n",
       "    <tr>\n",
       "      <th>42316</th>\n",
       "      <td>34.00</td>\n",
       "      <td>0.089685</td>\n",
       "      <td>2.640900e-09</td>\n",
       "      <td>-21.551424</td>\n",
       "      <td>8.146028e-09</td>\n",
       "      <td>w</td>\n",
       "      <td>w</td>\n",
       "    </tr>\n",
       "    <tr>\n",
       "      <th>42317</th>\n",
       "      <td>32.50</td>\n",
       "      <td>0.083383</td>\n",
       "      <td>3.147568e-09</td>\n",
       "      <td>-18.494858</td>\n",
       "      <td>9.285070e-09</td>\n",
       "      <td>w</td>\n",
       "      <td>w</td>\n",
       "    </tr>\n",
       "    <tr>\n",
       "      <th>42318</th>\n",
       "      <td>0.50</td>\n",
       "      <td>0.011221</td>\n",
       "      <td>3.599005e-09</td>\n",
       "      <td>-18.772852</td>\n",
       "      <td>9.285070e-09</td>\n",
       "      <td>w</td>\n",
       "      <td>w</td>\n",
       "    </tr>\n",
       "  </tbody>\n",
       "</table>\n",
       "</div>"
      ],
      "text/plain": [
       "       spectral_rolloff_0.9  spectral_flatness     EEGv_max2   EMGv_log  \\\n",
       "42314                 11.00           0.036518  3.980820e-09 -21.730842   \n",
       "42315                 17.25           0.062002  2.985767e-09 -21.180370   \n",
       "42316                 34.00           0.089685  2.640900e-09 -21.551424   \n",
       "42317                 32.50           0.083383  3.147568e-09 -18.494858   \n",
       "42318                  0.50           0.011221  3.599005e-09 -18.772852   \n",
       "\n",
       "         EMGv_max50 rawState state  \n",
       "42314  8.146028e-09        w     w  \n",
       "42315  8.146028e-09        w     w  \n",
       "42316  8.146028e-09        w     w  \n",
       "42317  9.285070e-09        w     w  \n",
       "42318  9.285070e-09        w     w  "
      ]
     },
     "execution_count": 3,
     "metadata": {},
     "output_type": "execute_result"
    }
   ],
   "source": [
    "# keep only the spectral_flatness, spectral_roll-off_0.9, EEGv_max 2 and EMGv log\n",
    "df_train = df_train[['spectral_rolloff_0.9', 'spectral_flatness', 'EEGv_max2', 'EMGv_log', 'EMGv_max50','rawState', 'state']]\n",
    "df_test = df_test[['spectral_rolloff_0.9', 'spectral_flatness', 'EEGv_max2' , 'EMGv_log', 'EMGv_max50','rawState', 'state']]\n",
    "df_train.head()"
   ]
  },
  {
   "cell_type": "code",
   "execution_count": 4,
   "metadata": {},
   "outputs": [],
   "source": [
    "df_train = dataProcessing.rebalance_state(df_train, 13)\n",
    "x_train, x_test, y_train, y_test, le = splitData.encode_scale_data(df_train, df_test, 13, cat_matrix=True)"
   ]
  },
  {
   "attachments": {},
   "cell_type": "markdown",
   "metadata": {},
   "source": [
    "#### Training of the random forest classifier"
   ]
  },
  {
   "cell_type": "code",
   "execution_count": 5,
   "metadata": {},
   "outputs": [],
   "source": [
    "rfc = BalancedRandomForestClassifier(random_state=23, n_jobs=-1, class_weight='balanced')\n",
    "rfc.fit(x_train, y_train)\n",
    "y_pred = rfc.predict(x_test)"
   ]
  },
  {
   "cell_type": "code",
   "execution_count": 6,
   "metadata": {},
   "outputs": [
    {
     "name": "stdout",
     "output_type": "stream",
     "text": [
      "[[238260  28177  12983]\n",
      " [  5570  28255   5948]\n",
      " [ 55612  25844 371285]]\n",
      "              precision    recall  f1-score   support\n",
      "\n",
      "           n       0.80      0.85      0.82    279420\n",
      "           r       0.34      0.71      0.46     39773\n",
      "           w       0.95      0.82      0.88    452741\n",
      "\n",
      "    accuracy                           0.83    771934\n",
      "   macro avg       0.70      0.79      0.72    771934\n",
      "weighted avg       0.86      0.83      0.84    771934\n",
      "\n"
     ]
    },
    {
     "data": {
      "image/png": "[encoded data removed]",
      "text/plain": [
       "<Figure size 640x480 with 2 Axes>"
      ]
     },
     "metadata": {},
     "output_type": "display_data"
    }
   ],
   "source": [
    "\n",
    "from sklearn.metrics import classification_report, confusion_matrix\n",
    "pred = np.argmax(y_pred, axis=1)\n",
    "test = np.argmax(y_test, axis=1)\n",
    "\n",
    "# plot the confusion matrix between predictions of the model and real values\n",
    "\n",
    "cm = np.array(confusion_matrix(test, pred))\n",
    "print(cm)\n",
    "\n",
    "cm = np.array(confusion_matrix(test, pred, normalize='true')) # normalize = 'true' or 'pred'\n",
    "confusion = pd.DataFrame(cm, index=le.classes_, columns=le.classes_ + ' (pred)')\n",
    "\n",
    "\n",
    "print(classification_report(test, pred, target_names=le.classes_, zero_division=0))\n",
    "\n",
    "sns.heatmap(confusion, annot=True, cmap=\"Blues\", fmt='.2f')\n",
    "plt.title(f'Confusion matrix (normalize = true)')\n",
    "plt.show()"
   ]
  },
  {
   "cell_type": "code",
   "execution_count": null,
   "metadata": {},
   "outputs": [],
   "source": []
  }
 ],
 "metadata": {
  "kernelspec": {
   "display_name": "tb",
   "language": "python",
   "name": "tb"
  },
  "language_info": {
   "codemirror_mode": {
    "name": "ipython",
    "version": 3
   },
   "file_extension": ".py",
   "mimetype": "text/x-python",
   "name": "python",
   "nbconvert_exporter": "python",
   "pygments_lexer": "ipython3",
   "version": "3.10.9"
  },
  "orig_nbformat": 4
 },
 "nbformat": 4,
 "nbformat_minor": 2
}
