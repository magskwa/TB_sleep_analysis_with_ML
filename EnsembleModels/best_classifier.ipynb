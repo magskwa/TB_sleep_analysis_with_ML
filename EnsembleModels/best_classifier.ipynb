{
 "cells": [
  {
   "attachments": {},
   "cell_type": "markdown",
   "metadata": {},
   "source": [
    "## Best classifier (Balanced Random forest classifier)"
   ]
  },
  {
   "attachments": {},
   "cell_type": "markdown",
   "metadata": {},
   "source": [
    "This notebook is used to train and test the best classifier found. It's a random forest classifier. It's trained on all the data of the third day of the experiment except the 42 mice that have been fully annotated. The 42 mice are used as test set."
   ]
  },
  {
   "cell_type": "code",
   "execution_count": 72,
   "metadata": {},
   "outputs": [
    {
     "data": {
      "text/plain": [
       "<module 'splitData' from '/mnt/remote/workspaces/magali.egger/TBproject/Travail_Bachelor/ClassificationSimple/../Library/splitData.py'>"
      ]
     },
     "execution_count": 72,
     "metadata": {},
     "output_type": "execute_result"
    }
   ],
   "source": [
    "import pandas as pd\n",
    "import numpy as np\n",
    "import matplotlib.pyplot as plt\n",
    "import seaborn as sns\n",
    "import tensorflow as tf\n",
    "import pickle\n",
    "import os\n",
    "from sklearn.preprocessing import StandardScaler, Normalizer \n",
    "from imblearn.ensemble import BalancedRandomForestClassifier\n",
    "\n",
    "import sys\n",
    "sys.path.append('../Library')\n",
    "\n",
    "import breedManip as breedManip\n",
    "import dataProcessing as dataProcessing\n",
    "import breeds as breeds\n",
    "import splitData as splitData\n",
    "\n",
    "import importlib\n",
    "importlib.reload(splitData)"
   ]
  },
  {
   "attachments": {},
   "cell_type": "markdown",
   "metadata": {},
   "source": [
    "#### Preparation of the data"
   ]
  },
  {
   "cell_type": "code",
   "execution_count": 73,
   "metadata": {},
   "outputs": [],
   "source": [
    "with open('/home/magali.egger/workspace/TBproject/Travail_Bachelor/Data/df_simplify_day3.pkl', 'rb') as f:\n",
    "    df = pickle.load(f)"
   ]
  },
  {
   "cell_type": "code",
   "execution_count": 74,
   "metadata": {},
   "outputs": [
    {
     "data": {
      "text/plain": [
       "253"
      ]
     },
     "execution_count": 74,
     "metadata": {},
     "output_type": "execute_result"
    }
   ],
   "source": [
    "len(df['mouse'].unique())"
   ]
  },
  {
   "attachments": {},
   "cell_type": "markdown",
   "metadata": {},
   "source": [
    "They are 252 mice in total in the dataframe. 42 mice were annotated but this include 2 new mice. Which means that in order to create the training set, we need to remove 40 mice from the df, which leaves 212 mice in the training set."
   ]
  },
  {
   "cell_type": "code",
   "execution_count": 75,
   "metadata": {},
   "outputs": [
    {
     "data": {
      "text/plain": [
       "213"
      ]
     },
     "execution_count": 75,
     "metadata": {},
     "output_type": "execute_result"
    }
   ],
   "source": [
    "# remove the mice that will be used for testing\n",
    "mice_test = ['BL601', 'BL602', 'BL606', 'BL609', '1D203', '2D203', '1D204', '1D206', '00505', '04501', '04502', '04504', '04505', '04506', '04508', '04801', '04802', '04803', '04804', '04805', '04806', '05001', '05002', '05003', '05004', '05005', '05006', '07901', '07902', '08405', '08502', '08503', '08901', '08902', '09001', '09003', '09004', '09005', '09006', '09007', '10101', '10102']\n",
    "df_train = df[~df['mouse'].isin(mice_test)]\n",
    "len(df_train['mouse'].unique())"
   ]
  },
  {
   "cell_type": "code",
   "execution_count": 76,
   "metadata": {},
   "outputs": [
    {
     "data": {
      "text/plain": [
       "40"
      ]
     },
     "execution_count": 76,
     "metadata": {},
     "output_type": "execute_result"
    }
   ],
   "source": [
    "df_test = df[df['mouse'].isin(mice_test)]\n",
    "len(df_test['mouse'].unique())"
   ]
  },
  {
   "attachments": {},
   "cell_type": "markdown",
   "metadata": {},
   "source": [
    "#### Training of the classifier"
   ]
  },
  {
   "attachments": {},
   "cell_type": "markdown",
   "metadata": {},
   "source": [
    "The training of the classifier is made on all the data from the third day except the 40 mice that have been annotated."
   ]
  },
  {
   "cell_type": "code",
   "execution_count": 77,
   "metadata": {},
   "outputs": [],
   "source": [
    "# drop the mouse column\n",
    "df_train = df_train.drop(columns=['mouse'])\n",
    "df_train = df_train.drop(columns=['breed'])"
   ]
  },
  {
   "cell_type": "code",
   "execution_count": 78,
   "metadata": {},
   "outputs": [],
   "source": [
    "# separate the data to get the features and the labels\n",
    "x_train, y_train_raw = splitData.split_labels(df_train)\n",
    "y_train, le = splitData.encode_labels(y_train_raw, cat_matrix=True)\n",
    "\n",
    "scaler = StandardScaler().fit(x_train)\n",
    "x_train = scaler.transform(x_train)"
   ]
  },
  {
   "cell_type": "code",
   "execution_count": 79,
   "metadata": {},
   "outputs": [],
   "source": [
    "with open('/home/magali.egger/workspace/TBproject/Travail_Bachelor/Data/scaler_best.pkl', 'wb') as f:\n",
    "    pickle.dump(scaler, f)"
   ]
  },
  {
   "cell_type": "code",
   "execution_count": 80,
   "metadata": {},
   "outputs": [
    {
     "data": {
      "text/html": [
       "<style>#sk-container-id-4 {color: black;background-color: white;}#sk-container-id-4 pre{padding: 0;}#sk-container-id-4 div.sk-toggleable {background-color: white;}#sk-container-id-4 label.sk-toggleable__label {cursor: pointer;display: block;width: 100%;margin-bottom: 0;padding: 0.3em;box-sizing: border-box;text-align: center;}#sk-container-id-4 label.sk-toggleable__label-arrow:before {content: \"▸\";float: left;margin-right: 0.25em;color: #696969;}#sk-container-id-4 label.sk-toggleable__label-arrow:hover:before {color: black;}#sk-container-id-4 div.sk-estimator:hover label.sk-toggleable__label-arrow:before {color: black;}#sk-container-id-4 div.sk-toggleable__content {max-height: 0;max-width: 0;overflow: hidden;text-align: left;background-color: #f0f8ff;}#sk-container-id-4 div.sk-toggleable__content pre {margin: 0.2em;color: black;border-radius: 0.25em;background-color: #f0f8ff;}#sk-container-id-4 input.sk-toggleable__control:checked~div.sk-toggleable__content {max-height: 200px;max-width: 100%;overflow: auto;}#sk-container-id-4 input.sk-toggleable__control:checked~label.sk-toggleable__label-arrow:before {content: \"▾\";}#sk-container-id-4 div.sk-estimator input.sk-toggleable__control:checked~label.sk-toggleable__label {background-color: #d4ebff;}#sk-container-id-4 div.sk-label input.sk-toggleable__control:checked~label.sk-toggleable__label {background-color: #d4ebff;}#sk-container-id-4 input.sk-hidden--visually {border: 0;clip: rect(1px 1px 1px 1px);clip: rect(1px, 1px, 1px, 1px);height: 1px;margin: -1px;overflow: hidden;padding: 0;position: absolute;width: 1px;}#sk-container-id-4 div.sk-estimator {font-family: monospace;background-color: #f0f8ff;border: 1px dotted black;border-radius: 0.25em;box-sizing: border-box;margin-bottom: 0.5em;}#sk-container-id-4 div.sk-estimator:hover {background-color: #d4ebff;}#sk-container-id-4 div.sk-parallel-item::after {content: \"\";width: 100%;border-bottom: 1px solid gray;flex-grow: 1;}#sk-container-id-4 div.sk-label:hover label.sk-toggleable__label {background-color: #d4ebff;}#sk-container-id-4 div.sk-serial::before {content: \"\";position: absolute;border-left: 1px solid gray;box-sizing: border-box;top: 0;bottom: 0;left: 50%;z-index: 0;}#sk-container-id-4 div.sk-serial {display: flex;flex-direction: column;align-items: center;background-color: white;padding-right: 0.2em;padding-left: 0.2em;position: relative;}#sk-container-id-4 div.sk-item {position: relative;z-index: 1;}#sk-container-id-4 div.sk-parallel {display: flex;align-items: stretch;justify-content: center;background-color: white;position: relative;}#sk-container-id-4 div.sk-item::before, #sk-container-id-4 div.sk-parallel-item::before {content: \"\";position: absolute;border-left: 1px solid gray;box-sizing: border-box;top: 0;bottom: 0;left: 50%;z-index: -1;}#sk-container-id-4 div.sk-parallel-item {display: flex;flex-direction: column;z-index: 1;position: relative;background-color: white;}#sk-container-id-4 div.sk-parallel-item:first-child::after {align-self: flex-end;width: 50%;}#sk-container-id-4 div.sk-parallel-item:last-child::after {align-self: flex-start;width: 50%;}#sk-container-id-4 div.sk-parallel-item:only-child::after {width: 0;}#sk-container-id-4 div.sk-dashed-wrapped {border: 1px dashed gray;margin: 0 0.4em 0.5em 0.4em;box-sizing: border-box;padding-bottom: 0.4em;background-color: white;}#sk-container-id-4 div.sk-label label {font-family: monospace;font-weight: bold;display: inline-block;line-height: 1.2em;}#sk-container-id-4 div.sk-label-container {text-align: center;}#sk-container-id-4 div.sk-container {/* jupyter's `normalize.less` sets `[hidden] { display: none; }` but bootstrap.min.css set `[hidden] { display: none !important; }` so we also need the `!important` here to be able to override the default hidden behavior on the sphinx rendered scikit-learn.org. See: https://github.com/scikit-learn/scikit-learn/issues/21755 */display: inline-block !important;position: relative;}#sk-container-id-4 div.sk-text-repr-fallback {display: none;}</style><div id=\"sk-container-id-4\" class=\"sk-top-container\"><div class=\"sk-text-repr-fallback\"><pre>BalancedRandomForestClassifier(class_weight=&#x27;balanced&#x27;, n_jobs=-1,\n",
       "                               random_state=23)</pre><b>In a Jupyter environment, please rerun this cell to show the HTML representation or trust the notebook. <br />On GitHub, the HTML representation is unable to render, please try loading this page with nbviewer.org.</b></div><div class=\"sk-container\" hidden><div class=\"sk-item\"><div class=\"sk-estimator sk-toggleable\"><input class=\"sk-toggleable__control sk-hidden--visually\" id=\"sk-estimator-id-4\" type=\"checkbox\" checked><label for=\"sk-estimator-id-4\" class=\"sk-toggleable__label sk-toggleable__label-arrow\">BalancedRandomForestClassifier</label><div class=\"sk-toggleable__content\"><pre>BalancedRandomForestClassifier(class_weight=&#x27;balanced&#x27;, n_jobs=-1,\n",
       "                               random_state=23)</pre></div></div></div></div></div>"
      ],
      "text/plain": [
       "BalancedRandomForestClassifier(class_weight='balanced', n_jobs=-1,\n",
       "                               random_state=23)"
      ]
     },
     "execution_count": 80,
     "metadata": {},
     "output_type": "execute_result"
    }
   ],
   "source": [
    "import warnings\n",
    "warnings.filterwarnings(\"ignore\")\n",
    "\n",
    "rfc = BalancedRandomForestClassifier(random_state=23, n_jobs=-1, class_weight='balanced')\n",
    "rfc.fit(x_train, y_train)"
   ]
  },
  {
   "cell_type": "code",
   "execution_count": 81,
   "metadata": {},
   "outputs": [],
   "source": [
    "with open('/home/magali.egger/workspace/TBproject/Travail_Bachelor/Data/rfc_best.pkl', 'wb') as f:\n",
    "    pickle.dump(rfc, f)"
   ]
  },
  {
   "attachments": {},
   "cell_type": "markdown",
   "metadata": {},
   "source": [
    "#### Computation of the predictions "
   ]
  },
  {
   "attachments": {},
   "cell_type": "markdown",
   "metadata": {},
   "source": [
    "The predictions are computed on the 42 mice that have been annotated on all the 4 days of the experiment."
   ]
  },
  {
   "cell_type": "code",
   "execution_count": 82,
   "metadata": {},
   "outputs": [],
   "source": [
    "with open('/home/magali.egger/workspace/TBproject/Travail_Bachelor/Data/df_simplify_labels.pkl', 'rb') as f:\n",
    "    df_simplify_labels = pickle.load(f)"
   ]
  },
  {
   "cell_type": "code",
   "execution_count": 83,
   "metadata": {},
   "outputs": [],
   "source": [
    "# remove wierd labels\n",
    "wierd_labels = ['a','8', 's', 'j', '1', '2', '3']\n",
    "df_simplify_labels = df_simplify_labels[~df_simplify_labels['label'].isin(wierd_labels)]"
   ]
  },
  {
   "cell_type": "code",
   "execution_count": 84,
   "metadata": {},
   "outputs": [
    {
     "data": {
      "text/html": [
       "<div>\n",
       "<style scoped>\n",
       "    .dataframe tbody tr th:only-of-type {\n",
       "        vertical-align: middle;\n",
       "    }\n",
       "\n",
       "    .dataframe tbody tr th {\n",
       "        vertical-align: top;\n",
       "    }\n",
       "\n",
       "    .dataframe thead th {\n",
       "        text-align: right;\n",
       "    }\n",
       "</style>\n",
       "<table border=\"1\" class=\"dataframe\">\n",
       "  <thead>\n",
       "    <tr style=\"text-align: right;\">\n",
       "      <th></th>\n",
       "      <th>Unnamed: 0</th>\n",
       "      <th>rawState</th>\n",
       "      <th>state</th>\n",
       "      <th>EEGv</th>\n",
       "      <th>EMGv</th>\n",
       "      <th>epoch</th>\n",
       "      <th>day</th>\n",
       "      <th>spectral_flatness</th>\n",
       "      <th>spectral_centroid</th>\n",
       "      <th>spectral_entropy</th>\n",
       "      <th>...</th>\n",
       "      <th>EEGv_log</th>\n",
       "      <th>EMGv_log</th>\n",
       "      <th>bias</th>\n",
       "      <th>EEGv^2</th>\n",
       "      <th>EEGv^3</th>\n",
       "      <th>EMGv^2</th>\n",
       "      <th>EMGv^3</th>\n",
       "      <th>mouse</th>\n",
       "      <th>breed</th>\n",
       "      <th>label</th>\n",
       "    </tr>\n",
       "  </thead>\n",
       "  <tbody>\n",
       "    <tr>\n",
       "      <th>0</th>\n",
       "      <td>99</td>\n",
       "      <td>n</td>\n",
       "      <td>n</td>\n",
       "      <td>7.116438e-09</td>\n",
       "      <td>2.315795e-10</td>\n",
       "      <td>99</td>\n",
       "      <td>0</td>\n",
       "      <td>0.054175</td>\n",
       "      <td>9.400168</td>\n",
       "      <td>-5.994889</td>\n",
       "      <td>...</td>\n",
       "      <td>-18.760859</td>\n",
       "      <td>-22.186098</td>\n",
       "      <td>1</td>\n",
       "      <td>5.064369e-17</td>\n",
       "      <td>3.604026e-25</td>\n",
       "      <td>5.362906e-20</td>\n",
       "      <td>1.241939e-29</td>\n",
       "      <td>09003</td>\n",
       "      <td>bxd_090</td>\n",
       "      <td>n</td>\n",
       "    </tr>\n",
       "    <tr>\n",
       "      <th>1</th>\n",
       "      <td>100</td>\n",
       "      <td>n</td>\n",
       "      <td>n</td>\n",
       "      <td>6.789003e-09</td>\n",
       "      <td>1.883032e-10</td>\n",
       "      <td>100</td>\n",
       "      <td>0</td>\n",
       "      <td>0.075867</td>\n",
       "      <td>9.576805</td>\n",
       "      <td>-5.910677</td>\n",
       "      <td>...</td>\n",
       "      <td>-18.807962</td>\n",
       "      <td>-22.392967</td>\n",
       "      <td>1</td>\n",
       "      <td>4.609056e-17</td>\n",
       "      <td>3.129089e-25</td>\n",
       "      <td>3.545811e-20</td>\n",
       "      <td>6.676878e-30</td>\n",
       "      <td>09003</td>\n",
       "      <td>bxd_090</td>\n",
       "      <td>n</td>\n",
       "    </tr>\n",
       "    <tr>\n",
       "      <th>2</th>\n",
       "      <td>101</td>\n",
       "      <td>n</td>\n",
       "      <td>n</td>\n",
       "      <td>5.345885e-09</td>\n",
       "      <td>1.965400e-10</td>\n",
       "      <td>101</td>\n",
       "      <td>0</td>\n",
       "      <td>0.082830</td>\n",
       "      <td>10.181243</td>\n",
       "      <td>-5.931538</td>\n",
       "      <td>...</td>\n",
       "      <td>-19.046939</td>\n",
       "      <td>-22.350155</td>\n",
       "      <td>1</td>\n",
       "      <td>2.857849e-17</td>\n",
       "      <td>1.527773e-25</td>\n",
       "      <td>3.862797e-20</td>\n",
       "      <td>7.591942e-30</td>\n",
       "      <td>09003</td>\n",
       "      <td>bxd_090</td>\n",
       "      <td>n</td>\n",
       "    </tr>\n",
       "    <tr>\n",
       "      <th>3</th>\n",
       "      <td>102</td>\n",
       "      <td>n</td>\n",
       "      <td>n</td>\n",
       "      <td>8.861552e-09</td>\n",
       "      <td>1.982735e-10</td>\n",
       "      <td>102</td>\n",
       "      <td>0</td>\n",
       "      <td>0.052586</td>\n",
       "      <td>7.561301</td>\n",
       "      <td>-5.506340</td>\n",
       "      <td>...</td>\n",
       "      <td>-18.541544</td>\n",
       "      <td>-22.341374</td>\n",
       "      <td>1</td>\n",
       "      <td>7.852710e-17</td>\n",
       "      <td>6.958720e-25</td>\n",
       "      <td>3.931238e-20</td>\n",
       "      <td>7.794603e-30</td>\n",
       "      <td>09003</td>\n",
       "      <td>bxd_090</td>\n",
       "      <td>n</td>\n",
       "    </tr>\n",
       "    <tr>\n",
       "      <th>4</th>\n",
       "      <td>103</td>\n",
       "      <td>n</td>\n",
       "      <td>n</td>\n",
       "      <td>6.617297e-09</td>\n",
       "      <td>2.121310e-10</td>\n",
       "      <td>103</td>\n",
       "      <td>0</td>\n",
       "      <td>0.068133</td>\n",
       "      <td>8.691670</td>\n",
       "      <td>-5.728127</td>\n",
       "      <td>...</td>\n",
       "      <td>-18.833579</td>\n",
       "      <td>-22.273817</td>\n",
       "      <td>1</td>\n",
       "      <td>4.378862e-17</td>\n",
       "      <td>2.897624e-25</td>\n",
       "      <td>4.499956e-20</td>\n",
       "      <td>9.545802e-30</td>\n",
       "      <td>09003</td>\n",
       "      <td>bxd_090</td>\n",
       "      <td>n</td>\n",
       "    </tr>\n",
       "  </tbody>\n",
       "</table>\n",
       "<p>5 rows × 89 columns</p>\n",
       "</div>"
      ],
      "text/plain": [
       "   Unnamed: 0 rawState state          EEGv          EMGv epoch  day  \\\n",
       "0          99        n     n  7.116438e-09  2.315795e-10    99    0   \n",
       "1         100        n     n  6.789003e-09  1.883032e-10   100    0   \n",
       "2         101        n     n  5.345885e-09  1.965400e-10   101    0   \n",
       "3         102        n     n  8.861552e-09  1.982735e-10   102    0   \n",
       "4         103        n     n  6.617297e-09  2.121310e-10   103    0   \n",
       "\n",
       "   spectral_flatness  spectral_centroid  spectral_entropy  ...   EEGv_log  \\\n",
       "0           0.054175           9.400168         -5.994889  ... -18.760859   \n",
       "1           0.075867           9.576805         -5.910677  ... -18.807962   \n",
       "2           0.082830          10.181243         -5.931538  ... -19.046939   \n",
       "3           0.052586           7.561301         -5.506340  ... -18.541544   \n",
       "4           0.068133           8.691670         -5.728127  ... -18.833579   \n",
       "\n",
       "    EMGv_log  bias        EEGv^2        EEGv^3        EMGv^2        EMGv^3  \\\n",
       "0 -22.186098     1  5.064369e-17  3.604026e-25  5.362906e-20  1.241939e-29   \n",
       "1 -22.392967     1  4.609056e-17  3.129089e-25  3.545811e-20  6.676878e-30   \n",
       "2 -22.350155     1  2.857849e-17  1.527773e-25  3.862797e-20  7.591942e-30   \n",
       "3 -22.341374     1  7.852710e-17  6.958720e-25  3.931238e-20  7.794603e-30   \n",
       "4 -22.273817     1  4.378862e-17  2.897624e-25  4.499956e-20  9.545802e-30   \n",
       "\n",
       "   mouse    breed  label  \n",
       "0  09003  bxd_090      n  \n",
       "1  09003  bxd_090      n  \n",
       "2  09003  bxd_090      n  \n",
       "3  09003  bxd_090      n  \n",
       "4  09003  bxd_090      n  \n",
       "\n",
       "[5 rows x 89 columns]"
      ]
     },
     "execution_count": 84,
     "metadata": {},
     "output_type": "execute_result"
    }
   ],
   "source": [
    "df_simplify_labels.head()"
   ]
  },
  {
   "cell_type": "code",
   "execution_count": 85,
   "metadata": {},
   "outputs": [],
   "source": [
    "df_simplify_labels = df_simplify_labels.drop(columns=['mouse'])\n",
    "df_simplify_labels = df_simplify_labels.drop(columns=['breed'])"
   ]
  },
  {
   "cell_type": "code",
   "execution_count": 86,
   "metadata": {},
   "outputs": [],
   "source": [
    "x_test, y_test_raw = splitData.split_labels_annotated(df_simplify_labels)\n",
    "x_test = scaler.transform(x_test)"
   ]
  },
  {
   "cell_type": "code",
   "execution_count": 87,
   "metadata": {},
   "outputs": [
    {
     "data": {
      "text/plain": [
       "array(['n', 'w', 'r', '9', '5', '6', '4'], dtype=object)"
      ]
     },
     "execution_count": 87,
     "metadata": {},
     "output_type": "execute_result"
    }
   ],
   "source": [
    "y_test_raw.unique()"
   ]
  },
  {
   "cell_type": "code",
   "execution_count": 88,
   "metadata": {},
   "outputs": [],
   "source": [
    "def convert(states):\n",
    "    res = []\n",
    "    for state in states:\n",
    "        if state == 'n' or state == '5' or state=='2':\n",
    "            res.append(0)\n",
    "        elif state == 'r' or state=='6' or state=='3':\n",
    "            res.append(1)\n",
    "        elif state == 'w' or state=='4' or state=='1' or state=='9':\n",
    "            res.append(2)\n",
    "    return res"
   ]
  },
  {
   "cell_type": "code",
   "execution_count": 89,
   "metadata": {},
   "outputs": [],
   "source": [
    "y_test = convert(y_test_raw)"
   ]
  },
  {
   "cell_type": "code",
   "execution_count": 90,
   "metadata": {},
   "outputs": [],
   "source": [
    "y_pred = rfc.predict(x_test)"
   ]
  },
  {
   "cell_type": "code",
   "execution_count": 92,
   "metadata": {},
   "outputs": [
    {
     "name": "stdout",
     "output_type": "stream",
     "text": [
      "[[1256207   18577   67765]\n",
      " [  51948  100988   21211]\n",
      " [ 104899   13320 1414304]]\n",
      "              precision    recall  f1-score   support\n",
      "\n",
      "           n       0.89      0.94      0.91   1342549\n",
      "           r       0.76      0.58      0.66    174147\n",
      "           w       0.94      0.92      0.93   1532523\n",
      "\n",
      "    accuracy                           0.91   3049219\n",
      "   macro avg       0.86      0.81      0.83   3049219\n",
      "weighted avg       0.91      0.91      0.91   3049219\n",
      "\n"
     ]
    },
    {
     "data": {
      "image/png": "[encoded data removed]",
      "text/plain": [
       "<Figure size 640x480 with 2 Axes>"
      ]
     },
     "metadata": {},
     "output_type": "display_data"
    }
   ],
   "source": [
    "from sklearn.metrics import classification_report, confusion_matrix\n",
    "pred = np.argmax(y_pred, axis=1)\n",
    "test = y_test\n",
    "\n",
    "# plot the confusion matrix between predictions of the model and real values\n",
    "\n",
    "cm = np.array(confusion_matrix(test, pred))\n",
    "print(cm)\n",
    "\n",
    "cm = np.array(confusion_matrix(test, pred, normalize='true')) # normalize = 'true' or 'pred'\n",
    "confusion = pd.DataFrame(cm, index=le.classes_, columns=le.classes_ + ' (pred)')\n",
    "\n",
    "print(classification_report(test, pred, target_names=le.classes_, zero_division=0))\n",
    "\n",
    "sns.heatmap(confusion, annot=True, cmap=\"Blues\", fmt='.2f')\n",
    "plt.title(f'Confusion matrix (normalize = true)')\n",
    "plt.show()"
   ]
  },
  {
   "cell_type": "code",
   "execution_count": null,
   "metadata": {},
   "outputs": [],
   "source": []
  }
 ],
 "metadata": {
  "kernelspec": {
   "display_name": "tb",
   "language": "python",
   "name": "tb"
  },
  "language_info": {
   "codemirror_mode": {
    "name": "ipython",
    "version": 3
   },
   "file_extension": ".py",
   "mimetype": "text/x-python",
   "name": "python",
   "nbconvert_exporter": "python",
   "pygments_lexer": "ipython3",
   "version": "3.10.9"
  },
  "orig_nbformat": 4
 },
 "nbformat": 4,
 "nbformat_minor": 2
}
