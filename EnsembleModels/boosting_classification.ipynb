{
 "cells": [
  {
   "attachments": {},
   "cell_type": "markdown",
   "metadata": {},
   "source": [
    "## Easy Ensemble Classifier"
   ]
  },
  {
   "attachments": {},
   "cell_type": "markdown",
   "metadata": {},
   "source": [
    "This notebook is used to train a boosting classifier on the dataset. The train and test data set are directly loaded with pickle. "
   ]
  },
  {
   "cell_type": "code",
   "execution_count": 1,
   "metadata": {},
   "outputs": [
    {
     "name": "stderr",
     "output_type": "stream",
     "text": [
      "2023-07-06 16:12:24.855619: I tensorflow/tsl/cuda/cudart_stub.cc:28] Could not find cuda drivers on your machine, GPU will not be used.\n",
      "2023-07-06 16:12:24.950967: I tensorflow/tsl/cuda/cudart_stub.cc:28] Could not find cuda drivers on your machine, GPU will not be used.\n",
      "2023-07-06 16:12:26.302218: W tensorflow/compiler/tf2tensorrt/utils/py_utils.cc:38] TF-TRT Warning: Could not find TensorRT\n",
      "Intel(R) Extension for Scikit-learn* enabled (https://github.com/intel/scikit-learn-intelex)\n"
     ]
    },
    {
     "data": {
      "text/plain": [
       "<module 'splitData' from '/mnt/remote/workspaces/magali.egger/TBproject/Travail_Bachelor/ClassificationSimple/../Library/splitData.py'>"
      ]
     },
     "execution_count": 1,
     "metadata": {},
     "output_type": "execute_result"
    }
   ],
   "source": [
    "import pandas as pd\n",
    "import numpy as np\n",
    "import matplotlib.pyplot as plt\n",
    "import seaborn as sns\n",
    "import tensorflow as tf\n",
    "import pickle\n",
    "from imblearn.ensemble import EasyEnsembleClassifier\n",
    "\n",
    "import sys\n",
    "sys.path.append('../Library')\n",
    "\n",
    "import breedManip as breedManip\n",
    "import dataProcessing as dataProcessing\n",
    "import breeds as breeds\n",
    "import splitData as splitData\n",
    "\n",
    "import importlib\n",
    "importlib.reload(splitData)"
   ]
  },
  {
   "attachments": {},
   "cell_type": "markdown",
   "metadata": {},
   "source": [
    "#### Preparation of the data"
   ]
  },
  {
   "cell_type": "code",
   "execution_count": 2,
   "metadata": {},
   "outputs": [],
   "source": [
    "# get the df_train and df_test with pickle\n",
    "with open('/home/magali.egger/workspace/TBproject/Travail_Bachelor/Data/df_train.pkl', 'rb') as f:\n",
    "    df_train = pickle.load(f)\n",
    "\n",
    "with open('/home/magali.egger/workspace/TBproject/Travail_Bachelor/Data/df_test.pkl', 'rb') as f:\n",
    "    df_test = pickle.load(f)"
   ]
  },
  {
   "cell_type": "code",
   "execution_count": 3,
   "metadata": {},
   "outputs": [
    {
     "name": "stdout",
     "output_type": "stream",
     "text": [
      "['09003' '043S5' '06403' '06110' '10301' '02901' '03205' '09509' '29T06'\n",
      " '09806' 'BDF06' '04508' '08404' '08108' '00506' '07007' 'DBA13' '04901'\n",
      " '06603' '51G10' '09708' '10009' 'DBF01' 'BL6V3' '04806' '08314' '05502'\n",
      " '05602' '06505' '07303' '08911' '07106' '04405' '07502' '06306' '08706'\n",
      " '06707' '05002' '09604']\n"
     ]
    }
   ],
   "source": [
    "print(df_test['mouse'].unique())"
   ]
  },
  {
   "cell_type": "code",
   "execution_count": 4,
   "metadata": {},
   "outputs": [],
   "source": [
    "df_train = df_train.drop(columns=['mouse'])\n",
    "df_test = df_test.drop(columns=['mouse'])\n",
    "\n",
    "df_train = df_train.drop(columns=['breed'])\n",
    "df_test = df_test.drop(columns=['breed'])"
   ]
  },
  {
   "cell_type": "code",
   "execution_count": 5,
   "metadata": {},
   "outputs": [],
   "source": [
    "x_train, x_test, y_train, y_test, le = splitData.encode_scale_data(df_train, df_test, 13, cat_matrix=True)"
   ]
  },
  {
   "attachments": {},
   "cell_type": "markdown",
   "metadata": {},
   "source": [
    "#### Training of the easy ensemble classifier"
   ]
  },
  {
   "cell_type": "code",
   "execution_count": 11,
   "metadata": {},
   "outputs": [
    {
     "name": "stderr",
     "output_type": "stream",
     "text": [
      "Intel(R) Extension for Scikit-learn* enabled (https://github.com/intel/scikit-learn-intelex)\n",
      "Intel(R) Extension for Scikit-learn* enabled (https://github.com/intel/scikit-learn-intelex)\n",
      "Intel(R) Extension for Scikit-learn* enabled (https://github.com/intel/scikit-learn-intelex)\n",
      "Intel(R) Extension for Scikit-learn* enabled (https://github.com/intel/scikit-learn-intelex)\n",
      "Intel(R) Extension for Scikit-learn* enabled (https://github.com/intel/scikit-learn-intelex)\n",
      "Intel(R) Extension for Scikit-learn* enabled (https://github.com/intel/scikit-learn-intelex)\n",
      "Intel(R) Extension for Scikit-learn* enabled (https://github.com/intel/scikit-learn-intelex)\n",
      "Intel(R) Extension for Scikit-learn* enabled (https://github.com/intel/scikit-learn-intelex)\n",
      "Intel(R) Extension for Scikit-learn* enabled (https://github.com/intel/scikit-learn-intelex)\n",
      "Intel(R) Extension for Scikit-learn* enabled (https://github.com/intel/scikit-learn-intelex)\n"
     ]
    }
   ],
   "source": [
    "eec = EasyEnsembleClassifier(n_jobs=-1, random_state=13)\n",
    "y_train_raw = np.argmax(y_train, axis=1)\n",
    "eec.fit(x_train, y_train_raw)\n",
    "y_pred = eec.predict(x_test)"
   ]
  },
  {
   "cell_type": "code",
   "execution_count": 13,
   "metadata": {},
   "outputs": [],
   "source": [
    "with open('/home/magali.egger/workspace/TBproject/Travail_Bachelor/Data/rfc_easy_ensemble.pkl', 'wb') as f:\n",
    "    pickle.dump(eec, f)"
   ]
  },
  {
   "cell_type": "code",
   "execution_count": 15,
   "metadata": {},
   "outputs": [
    {
     "name": "stdout",
     "output_type": "stream",
     "text": [
      "[[261157  15294   5186]\n",
      " [  2254  36619    954]\n",
      " [ 17468  22098 401674]]\n"
     ]
    },
    {
     "name": "stdout",
     "output_type": "stream",
     "text": [
      "              precision    recall  f1-score   support\n",
      "\n",
      "           n       0.93      0.93      0.93    281637\n",
      "           r       0.49      0.92      0.64     39827\n",
      "           w       0.98      0.91      0.95    441240\n",
      "\n",
      "    accuracy                           0.92    762704\n",
      "   macro avg       0.80      0.92      0.84    762704\n",
      "weighted avg       0.94      0.92      0.92    762704\n",
      "\n"
     ]
    },
    {
     "data": {
      "image/png": "[encoded data removed]",
      "text/plain": [
       "<Figure size 640x480 with 2 Axes>"
      ]
     },
     "metadata": {},
     "output_type": "display_data"
    }
   ],
   "source": [
    "\n",
    "from sklearn.metrics import classification_report, confusion_matrix\n",
    "pred = y_pred\n",
    "test = np.argmax(y_test, axis=1)\n",
    "\n",
    "# plot the confusion matrix between predictions of the model and real values\n",
    "\n",
    "cm = np.array(confusion_matrix(test, pred))\n",
    "print(cm)\n",
    "\n",
    "cm = np.array(confusion_matrix(test, pred, normalize='true')) # normalize = 'true' or 'pred'\n",
    "confusion = pd.DataFrame(cm, index=le.classes_, columns=le.classes_ + ' (pred)')\n",
    "\n",
    "\n",
    "print(classification_report(test, pred, target_names=le.classes_, zero_division=0))\n",
    "\n",
    "sns.heatmap(confusion, annot=True, cmap=\"Blues\", fmt='.2f')\n",
    "plt.title(f'Confusion matrix (normalize = true)')\n",
    "plt.show()"
   ]
  },
  {
   "cell_type": "code",
   "execution_count": null,
   "metadata": {},
   "outputs": [],
   "source": []
  }
 ],
 "metadata": {
  "kernelspec": {
   "display_name": "tb",
   "language": "python",
   "name": "tb"
  },
  "language_info": {
   "codemirror_mode": {
    "name": "ipython",
    "version": 3
   },
   "file_extension": ".py",
   "mimetype": "text/x-python",
   "name": "python",
   "nbconvert_exporter": "python",
   "pygments_lexer": "ipython3",
   "version": "3.10.9"
  },
  "orig_nbformat": 4
 },
 "nbformat": 4,
 "nbformat_minor": 2
}
