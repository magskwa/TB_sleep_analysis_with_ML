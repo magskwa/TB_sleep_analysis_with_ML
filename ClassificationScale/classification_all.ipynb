{
 "cells": [
  {
   "attachments": {},
   "cell_type": "markdown",
   "metadata": {},
   "source": [
    "## Classification of all the mice from the third day of the experiment"
   ]
  },
  {
   "attachments": {},
   "cell_type": "markdown",
   "metadata": {},
   "source": [
    "In this experiment only the data from the third day will be consider. The model is tested on a pool of 40 mice each coming from different breeds."
   ]
  },
  {
   "cell_type": "code",
   "execution_count": 2,
   "metadata": {},
   "outputs": [
    {
     "name": "stderr",
     "output_type": "stream",
     "text": [
      "2023-07-12 11:31:57.334810: I tensorflow/tsl/cuda/cudart_stub.cc:28] Could not find cuda drivers on your machine, GPU will not be used.\n",
      "2023-07-12 11:31:57.422191: I tensorflow/tsl/cuda/cudart_stub.cc:28] Could not find cuda drivers on your machine, GPU will not be used.\n",
      "2023-07-12 11:32:00.878258: W tensorflow/compiler/tf2tensorrt/utils/py_utils.cc:38] TF-TRT Warning: Could not find TensorRT\n",
      "Intel(R) Extension for Scikit-learn* enabled (https://github.com/intel/scikit-learn-intelex)\n"
     ]
    },
    {
     "data": {
      "text/plain": [
       "<module 'splitData' from '/mnt/remote/workspaces/magali.egger/TBproject/Travail_Bachelor/ClassificationSimple/../Library/splitData.py'>"
      ]
     },
     "execution_count": 2,
     "metadata": {},
     "output_type": "execute_result"
    }
   ],
   "source": [
    "import pandas as pd\n",
    "import numpy as np\n",
    "import matplotlib.pyplot as plt\n",
    "import seaborn as sns\n",
    "import tensorflow as tf\n",
    "import pickle\n",
    "from sklearn.ensemble import RandomForestClassifier\n",
    "\n",
    "import sys\n",
    "sys.path.append('../Library')\n",
    "\n",
    "import breedManip as breedManip\n",
    "import dataProcessing as dataProcessing\n",
    "import breeds as breeds\n",
    "import splitData as splitData\n",
    "\n",
    "import importlib\n",
    "importlib.reload(splitData)"
   ]
  },
  {
   "attachments": {},
   "cell_type": "markdown",
   "metadata": {},
   "source": [
    "#### Preparation of the train and test set\n",
    "Only the mouse of breeds bigger than 3 are considered"
   ]
  },
  {
   "cell_type": "code",
   "execution_count": 3,
   "metadata": {},
   "outputs": [],
   "source": [
    "with open('/home/magali.egger/workspace/TBproject/Travail_Bachelor/Data/df_simplify_day3.pkl', 'rb') as f:\n",
    "    df = pickle.load(f)\n",
    "df['breed'] = df['mouse'].apply(lambda x: breedManip.getBreedIndex(breedManip.getBreedOfMouse(x)))"
   ]
  },
  {
   "cell_type": "code",
   "execution_count": 4,
   "metadata": {},
   "outputs": [
    {
     "data": {
      "text/plain": [
       "Index(['Unnamed: 0', 'rawState', 'state', 'EEGv', 'EMGv', 'epoch', 'day',\n",
       "       'spectral_flatness', 'spectral_centroid', 'spectral_entropy',\n",
       "       'spectral_rolloff_0.1', 'spectral_rolloff_0.2', 'spectral_rolloff_0.3',\n",
       "       'spectral_rolloff_0.4', 'spectral_rolloff_0.5', 'spectral_rolloff_0.6',\n",
       "       'spectral_rolloff_0.7', 'spectral_rolloff_0.8', 'spectral_rolloff_0.9',\n",
       "       'EEGv_mean2', 'EMGv_mean2', 'EEGv_median2', 'EMGv_median2', 'EEGv_var2',\n",
       "       'EMGv_var2', 'EEGv_min2', 'EMGv_min2', 'EEGv_max2', 'EMGv_max2',\n",
       "       'EEGv_mean5', 'EMGv_mean5', 'EEGv_median5', 'EMGv_median5', 'EEGv_var5',\n",
       "       'EMGv_var5', 'EEGv_min5', 'EMGv_min5', 'EEGv_max5', 'EMGv_max5',\n",
       "       'EEGv_mean10', 'EMGv_mean10', 'EEGv_median10', 'EMGv_median10',\n",
       "       'EEGv_var10', 'EMGv_var10', 'EEGv_min10', 'EMGv_min10', 'EEGv_max10',\n",
       "       'EMGv_max10', 'EEGv_mean20', 'EMGv_mean20', 'EEGv_median20',\n",
       "       'EMGv_median20', 'EEGv_var20', 'EMGv_var20', 'EEGv_min20', 'EMGv_min20',\n",
       "       'EEGv_max20', 'EMGv_max20', 'EEGv_mean50', 'EMGv_mean50',\n",
       "       'EEGv_median50', 'EMGv_median50', 'EEGv_var50', 'EMGv_var50',\n",
       "       'EEGv_min50', 'EMGv_min50', 'EEGv_max50', 'EMGv_max50', 'EEGv_mean100',\n",
       "       'EMGv_mean100', 'EEGv_median100', 'EMGv_median100', 'EEGv_var100',\n",
       "       'EMGv_var100', 'EEGv_min100', 'EMGv_min100', 'EEGv_max100',\n",
       "       'EMGv_max100', 'EEGv_log', 'EMGv_log', 'bias', 'EEGv^2', 'EEGv^3',\n",
       "       'EMGv^2', 'EMGv^3', 'mouse', 'breed'],\n",
       "      dtype='object')"
      ]
     },
     "execution_count": 4,
     "metadata": {},
     "output_type": "execute_result"
    }
   ],
   "source": [
    "df.columns"
   ]
  },
  {
   "cell_type": "code",
   "execution_count": 6,
   "metadata": {},
   "outputs": [
    {
     "data": {
      "text/plain": [
       "array(['w', 'n', 'r'], dtype=object)"
      ]
     },
     "execution_count": 6,
     "metadata": {},
     "output_type": "execute_result"
    }
   ],
   "source": [
    "df[\"rawState\"].unique()"
   ]
  },
  {
   "cell_type": "code",
   "execution_count": 7,
   "metadata": {},
   "outputs": [],
   "source": [
    "selected_breeds = breedManip.selectAllBreedsOfSizeNOrMore(4)\n",
    "id_selected_breeds = [breedManip.getBreedIndex(breed) for breed in selected_breeds]"
   ]
  },
  {
   "cell_type": "code",
   "execution_count": 8,
   "metadata": {},
   "outputs": [
    {
     "data": {
      "text/plain": [
       "['bxd_079', 'bxd_085', 'bxd_101']"
      ]
     },
     "execution_count": 8,
     "metadata": {},
     "output_type": "execute_result"
    }
   ],
   "source": [
    "breeds = breedManip.selectAllBreedsOfSizeNOrMore(0)\n",
    "unselected_breeds = [breed for breed in breeds if breed not in selected_breeds]\n",
    "unselected_breeds"
   ]
  },
  {
   "cell_type": "code",
   "execution_count": 9,
   "metadata": {},
   "outputs": [],
   "source": [
    "# keep only the selected breeds\n",
    "df = df[df['breed'].isin(id_selected_breeds)]"
   ]
  },
  {
   "cell_type": "code",
   "execution_count": 10,
   "metadata": {},
   "outputs": [
    {
     "data": {
      "text/html": [
       "<div>\n",
       "<style scoped>\n",
       "    .dataframe tbody tr th:only-of-type {\n",
       "        vertical-align: middle;\n",
       "    }\n",
       "\n",
       "    .dataframe tbody tr th {\n",
       "        vertical-align: top;\n",
       "    }\n",
       "\n",
       "    .dataframe thead th {\n",
       "        text-align: right;\n",
       "    }\n",
       "</style>\n",
       "<table border=\"1\" class=\"dataframe\">\n",
       "  <thead>\n",
       "    <tr style=\"text-align: right;\">\n",
       "      <th></th>\n",
       "      <th>Unnamed: 0</th>\n",
       "      <th>rawState</th>\n",
       "      <th>state</th>\n",
       "      <th>EEGv</th>\n",
       "      <th>EMGv</th>\n",
       "      <th>epoch</th>\n",
       "      <th>day</th>\n",
       "      <th>spectral_flatness</th>\n",
       "      <th>spectral_centroid</th>\n",
       "      <th>spectral_entropy</th>\n",
       "      <th>...</th>\n",
       "      <th>EMGv_max100</th>\n",
       "      <th>EEGv_log</th>\n",
       "      <th>EMGv_log</th>\n",
       "      <th>bias</th>\n",
       "      <th>EEGv^2</th>\n",
       "      <th>EEGv^3</th>\n",
       "      <th>EMGv^2</th>\n",
       "      <th>EMGv^3</th>\n",
       "      <th>mouse</th>\n",
       "      <th>breed</th>\n",
       "    </tr>\n",
       "  </thead>\n",
       "  <tbody>\n",
       "    <tr>\n",
       "      <th>42018</th>\n",
       "      <td>43200</td>\n",
       "      <td>w</td>\n",
       "      <td>w</td>\n",
       "      <td>2.561793e-09</td>\n",
       "      <td>2.476193e-10</td>\n",
       "      <td>43200</td>\n",
       "      <td>2</td>\n",
       "      <td>0.156645</td>\n",
       "      <td>15.654199</td>\n",
       "      <td>-6.416485</td>\n",
       "      <td>...</td>\n",
       "      <td>6.798730e-10</td>\n",
       "      <td>-19.782559</td>\n",
       "      <td>-22.119129</td>\n",
       "      <td>1</td>\n",
       "      <td>6.562781e-18</td>\n",
       "      <td>1.681248e-26</td>\n",
       "      <td>6.131530e-20</td>\n",
       "      <td>1.518285e-29</td>\n",
       "      <td>09003</td>\n",
       "      <td>34</td>\n",
       "    </tr>\n",
       "    <tr>\n",
       "      <th>42019</th>\n",
       "      <td>43201</td>\n",
       "      <td>w</td>\n",
       "      <td>w</td>\n",
       "      <td>2.890715e-09</td>\n",
       "      <td>1.768662e-10</td>\n",
       "      <td>43201</td>\n",
       "      <td>2</td>\n",
       "      <td>0.146992</td>\n",
       "      <td>15.432471</td>\n",
       "      <td>-5.647920</td>\n",
       "      <td>...</td>\n",
       "      <td>6.798730e-10</td>\n",
       "      <td>-19.661762</td>\n",
       "      <td>-22.455627</td>\n",
       "      <td>1</td>\n",
       "      <td>8.356233e-18</td>\n",
       "      <td>2.415549e-26</td>\n",
       "      <td>3.128167e-20</td>\n",
       "      <td>5.532671e-30</td>\n",
       "      <td>09003</td>\n",
       "      <td>34</td>\n",
       "    </tr>\n",
       "    <tr>\n",
       "      <th>42020</th>\n",
       "      <td>43202</td>\n",
       "      <td>w</td>\n",
       "      <td>w</td>\n",
       "      <td>2.657057e-09</td>\n",
       "      <td>1.719997e-10</td>\n",
       "      <td>43202</td>\n",
       "      <td>2</td>\n",
       "      <td>0.096660</td>\n",
       "      <td>11.455600</td>\n",
       "      <td>-5.618493</td>\n",
       "      <td>...</td>\n",
       "      <td>6.798730e-10</td>\n",
       "      <td>-19.746047</td>\n",
       "      <td>-22.483528</td>\n",
       "      <td>1</td>\n",
       "      <td>7.059955e-18</td>\n",
       "      <td>1.875871e-26</td>\n",
       "      <td>2.958391e-20</td>\n",
       "      <td>5.088426e-30</td>\n",
       "      <td>09003</td>\n",
       "      <td>34</td>\n",
       "    </tr>\n",
       "    <tr>\n",
       "      <th>42021</th>\n",
       "      <td>43203</td>\n",
       "      <td>w</td>\n",
       "      <td>w</td>\n",
       "      <td>3.102465e-09</td>\n",
       "      <td>1.463278e-10</td>\n",
       "      <td>43203</td>\n",
       "      <td>2</td>\n",
       "      <td>0.085641</td>\n",
       "      <td>10.517584</td>\n",
       "      <td>-5.388146</td>\n",
       "      <td>...</td>\n",
       "      <td>6.798730e-10</td>\n",
       "      <td>-19.591069</td>\n",
       "      <td>-22.645172</td>\n",
       "      <td>1</td>\n",
       "      <td>9.625289e-18</td>\n",
       "      <td>2.986212e-26</td>\n",
       "      <td>2.141181e-20</td>\n",
       "      <td>3.133143e-30</td>\n",
       "      <td>09003</td>\n",
       "      <td>34</td>\n",
       "    </tr>\n",
       "    <tr>\n",
       "      <th>42022</th>\n",
       "      <td>43204</td>\n",
       "      <td>w</td>\n",
       "      <td>w</td>\n",
       "      <td>3.150835e-09</td>\n",
       "      <td>1.709445e-10</td>\n",
       "      <td>43204</td>\n",
       "      <td>2</td>\n",
       "      <td>0.098589</td>\n",
       "      <td>10.449326</td>\n",
       "      <td>-5.478330</td>\n",
       "      <td>...</td>\n",
       "      <td>6.798730e-10</td>\n",
       "      <td>-19.575598</td>\n",
       "      <td>-22.489682</td>\n",
       "      <td>1</td>\n",
       "      <td>9.927761e-18</td>\n",
       "      <td>3.128074e-26</td>\n",
       "      <td>2.922202e-20</td>\n",
       "      <td>4.995344e-30</td>\n",
       "      <td>09003</td>\n",
       "      <td>34</td>\n",
       "    </tr>\n",
       "  </tbody>\n",
       "</table>\n",
       "<p>5 rows × 88 columns</p>\n",
       "</div>"
      ],
      "text/plain": [
       "       Unnamed: 0 rawState state          EEGv          EMGv  epoch  day  \\\n",
       "42018       43200        w     w  2.561793e-09  2.476193e-10  43200    2   \n",
       "42019       43201        w     w  2.890715e-09  1.768662e-10  43201    2   \n",
       "42020       43202        w     w  2.657057e-09  1.719997e-10  43202    2   \n",
       "42021       43203        w     w  3.102465e-09  1.463278e-10  43203    2   \n",
       "42022       43204        w     w  3.150835e-09  1.709445e-10  43204    2   \n",
       "\n",
       "       spectral_flatness  spectral_centroid  spectral_entropy  ...  \\\n",
       "42018           0.156645          15.654199         -6.416485  ...   \n",
       "42019           0.146992          15.432471         -5.647920  ...   \n",
       "42020           0.096660          11.455600         -5.618493  ...   \n",
       "42021           0.085641          10.517584         -5.388146  ...   \n",
       "42022           0.098589          10.449326         -5.478330  ...   \n",
       "\n",
       "        EMGv_max100   EEGv_log   EMGv_log  bias        EEGv^2        EEGv^3  \\\n",
       "42018  6.798730e-10 -19.782559 -22.119129     1  6.562781e-18  1.681248e-26   \n",
       "42019  6.798730e-10 -19.661762 -22.455627     1  8.356233e-18  2.415549e-26   \n",
       "42020  6.798730e-10 -19.746047 -22.483528     1  7.059955e-18  1.875871e-26   \n",
       "42021  6.798730e-10 -19.591069 -22.645172     1  9.625289e-18  2.986212e-26   \n",
       "42022  6.798730e-10 -19.575598 -22.489682     1  9.927761e-18  3.128074e-26   \n",
       "\n",
       "             EMGv^2        EMGv^3  mouse  breed  \n",
       "42018  6.131530e-20  1.518285e-29  09003     34  \n",
       "42019  3.128167e-20  5.532671e-30  09003     34  \n",
       "42020  2.958391e-20  5.088426e-30  09003     34  \n",
       "42021  2.141181e-20  3.133143e-30  09003     34  \n",
       "42022  2.922202e-20  4.995344e-30  09003     34  \n",
       "\n",
       "[5 rows x 88 columns]"
      ]
     },
     "execution_count": 10,
     "metadata": {},
     "output_type": "execute_result"
    }
   ],
   "source": [
    "df.head()"
   ]
  },
  {
   "attachments": {},
   "cell_type": "markdown",
   "metadata": {},
   "source": [
    "Split the dataset into train and test set"
   ]
  },
  {
   "cell_type": "code",
   "execution_count": 12,
   "metadata": {},
   "outputs": [],
   "source": [
    "df_train, df_test = splitData.split_data_breeds(df, 30)"
   ]
  },
  {
   "cell_type": "code",
   "execution_count": 13,
   "metadata": {},
   "outputs": [
    {
     "name": "stdout",
     "output_type": "stream",
     "text": [
      "['09003' '10301' '29T06' 'BDF06' '08404' '07006' '2D203' '51G10' '00503'\n",
      " '06405' '07303' '08911' '07106' '08112' '06306' '06109' '09701' '08311'\n",
      " '02903' '06504' 'DBF07' '09501' '05001' '08705' '04802' '05506' '03207'\n",
      " '06704' '06604' '09605' '10008' 'BL602' '07504' '04905' '05605' '04506'\n",
      " '09801' '04310' '04406']\n"
     ]
    }
   ],
   "source": [
    "print(df_test['mouse'].unique())"
   ]
  },
  {
   "cell_type": "code",
   "execution_count": 14,
   "metadata": {},
   "outputs": [
    {
     "name": "stdout",
     "output_type": "stream",
     "text": [
      "['043S5' '06403' '06110' '06404' '02901' '03205' '09509' '04309' '09806'\n",
      " '02910' '04508' '08108' '00506' '09803' '08106' '07007' 'DBA13' '04901'\n",
      " '1D204' '06603' '09708' '10009' 'DBF01' 'BL6V3' '04806' '08405' 'BL611'\n",
      " '08314' '05502' '07004' 'BL6V2' '10304' '05602' '09006' '10004' '06505'\n",
      " 'BL606' '10306' '29T01' '09808' '09504' '10002' '05501' '05604' '02905'\n",
      " '03206' '07305' 'BDF04' '06105' 'DBA12' '04405' '07502' '29T10' '04403'\n",
      " '06408' 'DBF06' '10010' '08706' 'BDF02' '07105' '08707' '06707' '05002'\n",
      " '09807' 'BL601' '09702' '1D206' '04501' '04906' '06605' 'BL6V1' '09506'\n",
      " '04308' '05606' 'DBF04' '07501' '00505' '06705' '1D203' '09604' '02909'\n",
      " '04306' '06303' 'BL610' '06703' '03208' '08903' '09602' '051G9' '07505'\n",
      " '08102' '09505' '04402' '10003' '06308' '00504' '09005' '07302' '00501'\n",
      " '05004' '06601' '05101' 'BL609' '08904' '08401' 'DBA14' '05505' 'BL614'\n",
      " '05107' '09709' '06702' '09601' '07503' '04504' '04902' '02907' '04805'\n",
      " '06307' '09508' '07005' '05108' '06111' 'DBA11' 'DBF05' '06706' '03201'\n",
      " '10303' '08313' '08312' '09703' '06507' '08701' '04803' 'BL616' 'DBA10'\n",
      " '04903' '04407' 'DBA15' '04804' '05603' '10307' '07306' '10006' '09802'\n",
      " 'BDF09' '00502' '06302' '09503' '04801' '08306' '06503' '06304' '09007'\n",
      " '06103' '09608' '08901' '071S2' '06506' '06608' 'DBFM3' '09706' '08406'\n",
      " '075G8' '08305' '04907' '05103' '08710' '07109' '07507' '06106' '08403'\n",
      " '08902' '03202' '04505' '09606' '29T08' '07304' '02908' '03204' '10302'\n",
      " '08113' 'BDF08' 'DBF02' '09004' '05601' '06410' '05003' '29T09' '05504'\n",
      " '09607' '08910' '08103' '06501' '06607' 'BL612' '29T05' '09001' '07301'\n",
      " '05102' '07001' '08709' '04304' '06407' '02902' '05607' '07108' '04502']\n"
     ]
    }
   ],
   "source": [
    "print(df_train['mouse'].unique())"
   ]
  },
  {
   "attachments": {},
   "cell_type": "markdown",
   "metadata": {},
   "source": [
    "Alternative: use the train and test set from the folder Data"
   ]
  },
  {
   "cell_type": "code",
   "execution_count": 3,
   "metadata": {},
   "outputs": [],
   "source": [
    "# get the df_train and df_test with pickle\n",
    "with open('/home/magali.egger/workspace/TBproject/Travail_Bachelor/Data/df_train.pkl', 'rb') as f:\n",
    "    df_train = pickle.load(f)\n",
    "\n",
    "with open('/home/magali.egger/workspace/TBproject/Travail_Bachelor/Data/df_test.pkl', 'rb') as f:\n",
    "    df_test = pickle.load(f)"
   ]
  },
  {
   "cell_type": "code",
   "execution_count": 6,
   "metadata": {},
   "outputs": [
    {
     "data": {
      "text/plain": [
       "207"
      ]
     },
     "execution_count": 6,
     "metadata": {},
     "output_type": "execute_result"
    }
   ],
   "source": [
    "len(df_train['mouse'].unique())"
   ]
  },
  {
   "cell_type": "code",
   "execution_count": 15,
   "metadata": {},
   "outputs": [
    {
     "name": "stdout",
     "output_type": "stream",
     "text": [
      "['043S5' '06403' '06110' '06404' '02901' '03205' '09509' '04309' '09806'\n",
      " '02910' '04508' '08108' '00506' '09803' '08106' '07007' 'DBA13' '04901'\n",
      " '1D204' '06603' '09708' '10009' 'DBF01' 'BL6V3' '04806' '08405' 'BL611'\n",
      " '08314' '05502' '07004' 'BL6V2' '10304' '05602' '09006' '10004' '06505'\n",
      " 'BL606' '10306' '29T01' '09808' '09504' '10002' '05501' '05604' '02905'\n",
      " '03206' '07305' 'BDF04' '06105' 'DBA12' '04405' '07502' '29T10' '04403'\n",
      " '06408' 'DBF06' '10010' '08706' 'BDF02' '07105' '08707' '06707' '05002'\n",
      " '09807' 'BL601' '09702' '1D206' '04501' '04906' '06605' 'BL6V1' '09506'\n",
      " '04308' '05606' 'DBF04' '07501' '00505' '06705' '1D203' '09604' '02909'\n",
      " '04306' '06303' 'BL610' '06703' '03208' '08903' '09602' '051G9' '07505'\n",
      " '08102' '09505' '04402' '10003' '06308' '00504' '09005' '07302' '00501'\n",
      " '05004' '06601' '05101' 'BL609' '08904' '08401' 'DBA14' '05505' 'BL614'\n",
      " '05107' '09709' '06702' '09601' '07503' '04504' '04902' '02907' '04805'\n",
      " '06307' '09508' '07005' '05108' '06111' 'DBA11' 'DBF05' '06706' '03201'\n",
      " '10303' '08313' '08312' '09703' '06507' '08701' '04803' 'BL616' 'DBA10'\n",
      " '04903' '04407' 'DBA15' '04804' '05603' '10307' '07306' '10006' '09802'\n",
      " 'BDF09' '00502' '06302' '09503' '04801' '08306' '06503' '06304' '09007'\n",
      " '06103' '09608' '08901' '071S2' '06506' '06608' 'DBFM3' '09706' '08406'\n",
      " '075G8' '08305' '04907' '05103' '08710' '07109' '07507' '06106' '08403'\n",
      " '08902' '03202' '04505' '09606' '29T08' '07304' '02908' '03204' '10302'\n",
      " '08113' 'BDF08' 'DBF02' '09004' '05601' '06410' '05003' '29T09' '05504'\n",
      " '09607' '08910' '08103' '06501' '06607' 'BL612' '29T05' '09001' '07301'\n",
      " '05102' '07001' '08709' '04304' '06407' '02902' '05607' '07108' '04502']\n"
     ]
    }
   ],
   "source": [
    "print(df_train['mouse'].unique())"
   ]
  },
  {
   "cell_type": "code",
   "execution_count": 16,
   "metadata": {},
   "outputs": [
    {
     "name": "stdout",
     "output_type": "stream",
     "text": [
      "['09003' '10301' '29T06' 'BDF06' '08404' '07006' '2D203' '51G10' '00503'\n",
      " '06405' '07303' '08911' '07106' '08112' '06306' '06109' '09701' '08311'\n",
      " '02903' '06504' 'DBF07' '09501' '05001' '08705' '04802' '05506' '03207'\n",
      " '06704' '06604' '09605' '10008' 'BL602' '07504' '04905' '05605' '04506'\n",
      " '09801' '04310' '04406']\n"
     ]
    }
   ],
   "source": [
    "print(df_test['mouse'].unique())"
   ]
  },
  {
   "cell_type": "code",
   "execution_count": 5,
   "metadata": {},
   "outputs": [],
   "source": [
    "df_train = df_train.drop(columns=['mouse'])\n",
    "df_test = df_test.drop(columns=['mouse'])\n",
    "\n",
    "df_train = df_train.drop(columns=['breed'])\n",
    "df_test = df_test.drop(columns=['breed'])"
   ]
  },
  {
   "cell_type": "code",
   "execution_count": 6,
   "metadata": {},
   "outputs": [],
   "source": [
    "x_train, x_test, y_train, y_test, le = splitData.encode_scale_data(df_train, df_test, 13, cat_matrix=True)"
   ]
  },
  {
   "cell_type": "code",
   "execution_count": 15,
   "metadata": {},
   "outputs": [
    {
     "name": "stdout",
     "output_type": "stream",
     "text": [
      "[2 1 0]\n",
      "['n' 'r' 'w']\n"
     ]
    }
   ],
   "source": [
    "print(le.transform(['w', 'r','n']))\n",
    "print(le.classes_)"
   ]
  },
  {
   "attachments": {},
   "cell_type": "markdown",
   "metadata": {},
   "source": [
    "#### Training of the model"
   ]
  },
  {
   "attachments": {},
   "cell_type": "markdown",
   "metadata": {},
   "source": [
    "Those weights come from the notebook : exploration_OneMouse and are based mouse 06705\n",
    "\n",
    "- Ratio wake :  0.65\n",
    "- Ratio NREM :  0.30\n",
    "- Ratio REM :  0.05"
   ]
  },
  {
   "cell_type": "code",
   "execution_count": 11,
   "metadata": {},
   "outputs": [],
   "source": [
    "\"\"\"\n",
    "class_weights = [{0: 0.033, 1: 0.2, 2: 0.015},   \n",
    "                 {0: 0.033, 1: 0.2, 2: 0.015},   \n",
    "                 {0: 0.033, 1: 0.2, 2: 0.015}]\n",
    "\"\"\""
   ]
  },
  {
   "attachments": {},
   "cell_type": "markdown",
   "metadata": {},
   "source": [
    "The “balanced” mode uses the values of y to automatically adjust weights inversely proportional to class frequencies in the input data as n_samples / (n_classes * np.bincount(y))"
   ]
  },
  {
   "cell_type": "code",
   "execution_count": 21,
   "metadata": {},
   "outputs": [],
   "source": [
    "rfc = RandomForestClassifier(random_state=13, class_weight=\"balanced\", n_jobs=-1)\n",
    "rfc.fit(x_train, y_train)\n",
    "y_pred = rfc.predict(x_test)"
   ]
  },
  {
   "cell_type": "code",
   "execution_count": 23,
   "metadata": {},
   "outputs": [],
   "source": [
    "# stock the rfc model with pickle\n",
    "with open('/home/magali.egger/workspace/TBproject/Travail_Bachelor/Data/rfc_class_all.pkl', 'wb') as f:\n",
    "    pickle.dump(rfc, f)"
   ]
  },
  {
   "cell_type": "code",
   "execution_count": 22,
   "metadata": {},
   "outputs": [
    {
     "name": "stdout",
     "output_type": "stream",
     "text": [
      "[[266800   1185   7875]\n",
      " [  8336  27776   2068]\n",
      " [ 15168   1172 430858]]\n"
     ]
    },
    {
     "name": "stdout",
     "output_type": "stream",
     "text": [
      "              precision    recall  f1-score   support\n",
      "\n",
      "           n       0.92      0.97      0.94    275860\n",
      "           r       0.92      0.73      0.81     38180\n",
      "           w       0.98      0.96      0.97    447198\n",
      "\n",
      "    accuracy                           0.95    761238\n",
      "   macro avg       0.94      0.89      0.91    761238\n",
      "weighted avg       0.95      0.95      0.95    761238\n",
      "\n"
     ]
    },
    {
     "data": {
      "image/png": "[encoded data removed]",
      "text/plain": [
       "<Figure size 640x480 with 2 Axes>"
      ]
     },
     "metadata": {},
     "output_type": "display_data"
    }
   ],
   "source": [
    "\n",
    "from sklearn.metrics import classification_report, confusion_matrix\n",
    "pred = np.argmax(y_pred, axis=1)\n",
    "test = np.argmax(y_test, axis=1)\n",
    "\n",
    "# plot the confusion matrix between predictions of the model and real values\n",
    "\n",
    "cm = np.array(confusion_matrix(test, pred))\n",
    "print(cm)\n",
    "\n",
    "cm = np.array(confusion_matrix(test, pred, normalize='true')) # normalize = 'true' or 'pred'\n",
    "confusion = pd.DataFrame(cm, index=le.classes_, columns=le.classes_ + ' (pred)')\n",
    "\n",
    "print(classification_report(test, pred, target_names=le.classes_, zero_division=0))\n",
    "\n",
    "sns.heatmap(confusion, annot=True, cmap=\"Blues\", fmt='.2f')\n",
    "plt.title(f'Confusion matrix (normalize = true)')\n",
    "plt.show()"
   ]
  },
  {
   "cell_type": "code",
   "execution_count": null,
   "metadata": {},
   "outputs": [],
   "source": []
  }
 ],
 "metadata": {
  "kernelspec": {
   "display_name": "tb",
   "language": "python",
   "name": "tb"
  },
  "language_info": {
   "codemirror_mode": {
    "name": "ipython",
    "version": 3
   },
   "file_extension": ".py",
   "mimetype": "text/x-python",
   "name": "python",
   "nbconvert_exporter": "python",
   "pygments_lexer": "ipython3",
   "version": "3.10.9"
  },
  "orig_nbformat": 4
 },
 "nbformat": 4,
 "nbformat_minor": 2
}
