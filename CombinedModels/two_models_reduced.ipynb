{
 "cells": [
  {
   "cell_type": "markdown",
   "metadata": {},
   "source": [
    "## Two models combined with reduced features"
   ]
  },
  {
   "cell_type": "markdown",
   "metadata": {},
   "source": [
    "This notebook is used to combine two models with two different tasks. The first one is the classification of wake vs sleep and will be trained only on EMGv features, the second one is the classification of the sleep stages and will be trained only on EEGv features."
   ]
  },
  {
   "cell_type": "code",
   "execution_count": 1,
   "metadata": {},
   "outputs": [
    {
     "name": "stderr",
     "output_type": "stream",
     "text": [
      "2023-07-25 14:01:48.360252: I tensorflow/tsl/cuda/cudart_stub.cc:28] Could not find cuda drivers on your machine, GPU will not be used.\n",
      "2023-07-25 14:01:48.442657: I tensorflow/tsl/cuda/cudart_stub.cc:28] Could not find cuda drivers on your machine, GPU will not be used.\n",
      "2023-07-25 14:01:49.668245: W tensorflow/compiler/tf2tensorrt/utils/py_utils.cc:38] TF-TRT Warning: Could not find TensorRT\n",
      "Intel(R) Extension for Scikit-learn* enabled (https://github.com/intel/scikit-learn-intelex)\n"
     ]
    },
    {
     "data": {
      "text/plain": [
       "<module 'splitData' from '/mnt/remote/workspaces/magali.egger/TBproject/Travail_Bachelor/ClassificationSimple/../Library/splitData.py'>"
      ]
     },
     "execution_count": 1,
     "metadata": {},
     "output_type": "execute_result"
    }
   ],
   "source": [
    "import pandas as pd\n",
    "import numpy as np\n",
    "import matplotlib.pyplot as plt\n",
    "import seaborn as sns\n",
    "import tensorflow as tf\n",
    "import pickle\n",
    "import os\n",
    "from sklearn.preprocessing import StandardScaler, Normalizer \n",
    "from sklearn.ensemble import RandomForestClassifier\n",
    "# from imblearn.ensemble import BalancedRandomForestClassifier\n",
    "\n",
    "import sys\n",
    "sys.path.append('../Library')\n",
    "\n",
    "import breedManip as breedManip\n",
    "import dataProcessing as dataProcessing\n",
    "import breeds as breeds\n",
    "import splitData as splitData\n",
    "\n",
    "import importlib\n",
    "importlib.reload(splitData)\n"
   ]
  },
  {
   "cell_type": "markdown",
   "metadata": {},
   "source": [
    "Data preparation"
   ]
  },
  {
   "cell_type": "code",
   "execution_count": 2,
   "metadata": {},
   "outputs": [],
   "source": [
    "with open('/home/magali.egger/shared-projects/mice_UNIL/Data/df_simplify_day3.pkl', 'rb') as f:\n",
    "    df = pickle.load(f)"
   ]
  },
  {
   "cell_type": "code",
   "execution_count": 3,
   "metadata": {},
   "outputs": [],
   "source": [
    "mice_test = ['BL601', 'BL602', 'BL606', 'BL609', '1D203', '2D203', '1D204', '1D206', '00505', '04501', '04502', '04504', '04505', '04506', '04508', '04801', '04802', '04803', '04804', '04805', '04806', '05001', '05002', '05003', '05004', '05005', '05006', '07901', '07902', '08405', '08502', '08503', '08901', '08902', '09001', '09003', '09004', '09005', '09006', '09007', '10101', '10102']\n",
    "df = df[~df['mouse'].isin(mice_test)]"
   ]
  },
  {
   "cell_type": "code",
   "execution_count": 4,
   "metadata": {},
   "outputs": [],
   "source": [
    "df_train, df_test = splitData.split_data_breeds(df, 30)"
   ]
  },
  {
   "cell_type": "code",
   "execution_count": 5,
   "metadata": {},
   "outputs": [],
   "source": [
    "df_train = df_train.drop(columns=['mouse'])\n",
    "df_train = df_train.drop(columns=['breed'])\n",
    "df_test = df_test.drop(columns=['mouse'])\n",
    "df_test = df_test.drop(columns=['breed'])"
   ]
  },
  {
   "cell_type": "markdown",
   "metadata": {},
   "source": [
    "Specific preparation for wake versus sleep classification"
   ]
  },
  {
   "cell_type": "code",
   "execution_count": 6,
   "metadata": {},
   "outputs": [],
   "source": [
    "# df for the model wake/sleep needs labels 'n' and 'r' to be changed in 's'\n",
    "df_train_ws= df_train.copy()\n",
    "df_train_ws['rawState'] = df_train_ws['rawState'].replace(['n', 'r'], 's')\n",
    "df_test_ws= df_test.copy()\n",
    "df_test_ws['rawState'] = df_test_ws['rawState'].replace(['n', 'r'], 's')"
   ]
  },
  {
   "cell_type": "code",
   "execution_count": 47,
   "metadata": {},
   "outputs": [
    {
     "name": "stdout",
     "output_type": "stream",
     "text": [
      "['rawState', 'state', 'EMGv', 'EMGv_mean2', 'EMGv_median2', 'EMGv_var2', 'EMGv_min2', 'EMGv_max2', 'EMGv_mean5', 'EMGv_median5', 'EMGv_var5', 'EMGv_min5', 'EMGv_max5', 'EMGv_mean10', 'EMGv_median10', 'EMGv_var10', 'EMGv_min10', 'EMGv_max10', 'EMGv_mean20', 'EMGv_median20', 'EMGv_var20', 'EMGv_min20', 'EMGv_max20', 'EMGv_mean50', 'EMGv_median50', 'EMGv_var50', 'EMGv_min50', 'EMGv_max50', 'EMGv_mean100', 'EMGv_median100', 'EMGv_var100', 'EMGv_min100', 'EMGv_max100', 'EMGv_log', 'EMGv^2', 'EMGv^3']\n"
     ]
    }
   ],
   "source": [
    "# keeps only the EMG features\n",
    "emg_columns = ['rawState', 'state']\n",
    "# add the columns that contain the EEG\n",
    "emg_columns.extend([col for col in df_train.columns if 'EMG' in col])\n",
    "print(emg_columns)\n",
    "\n",
    "df_train_ws = df_train_ws[emg_columns]\n",
    "df_test_ws = df_test_ws[emg_columns]"
   ]
  },
  {
   "cell_type": "code",
   "execution_count": 12,
   "metadata": {},
   "outputs": [],
   "source": [
    "x_train_ws, y_train_ws_raw = splitData.split_labels(df_train_ws)\n",
    "y_train_ws, le_ws = splitData.encode_labels(y_train_ws_raw, cat_matrix=True)\n",
    "\n",
    "scaler_ws = StandardScaler().fit(x_train_ws)\n",
    "x_train_ws = scaler_ws.transform(x_train_ws)"
   ]
  },
  {
   "cell_type": "code",
   "execution_count": 13,
   "metadata": {},
   "outputs": [],
   "source": [
    "x_test_ws, y_test_ws_raw = splitData.split_labels(df_test_ws)\n",
    "\n",
    "y_test_ws = le_ws.transform(y_test_ws_raw)\n",
    "y_test_ws = tf.keras.utils.to_categorical(y_test_ws)\n",
    "\n",
    "x_test_ws = scaler_ws.transform(x_test_ws)"
   ]
  },
  {
   "cell_type": "markdown",
   "metadata": {},
   "source": [
    "Specific preparation for sleep stages classification"
   ]
  },
  {
   "cell_type": "code",
   "execution_count": 14,
   "metadata": {},
   "outputs": [],
   "source": [
    "# df for the model rem/nrem needs to remove the 'w' label\n",
    "df_train_sleep = df_train.copy()\n",
    "df_train_sleep = df_train_sleep[df_train_sleep['rawState'] != 'w']\n",
    "df_test_sleep = df_test.copy()\n",
    "df_test_sleep = df_test_sleep[df_test_sleep['rawState'] != 'w']"
   ]
  },
  {
   "cell_type": "code",
   "execution_count": 46,
   "metadata": {},
   "outputs": [
    {
     "name": "stdout",
     "output_type": "stream",
     "text": [
      "['rawState', 'state', 'EEGv', 'spectral_flatness', 'spectral_centroid', 'spectral_entropy', 'spectral_rolloff_0.1', 'spectral_rolloff_0.2', 'spectral_rolloff_0.3', 'spectral_rolloff_0.4', 'spectral_rolloff_0.5', 'spectral_rolloff_0.6', 'spectral_rolloff_0.7', 'spectral_rolloff_0.8', 'spectral_rolloff_0.9', 'EEGv', 'EEGv_mean2', 'EEGv_median2', 'EEGv_var2', 'EEGv_min2', 'EEGv_max2', 'EEGv_mean5', 'EEGv_median5', 'EEGv_var5', 'EEGv_min5', 'EEGv_max5', 'EEGv_mean10', 'EEGv_median10', 'EEGv_var10', 'EEGv_min10', 'EEGv_max10', 'EEGv_mean20', 'EEGv_median20', 'EEGv_var20', 'EEGv_min20', 'EEGv_max20', 'EEGv_mean50', 'EEGv_median50', 'EEGv_var50', 'EEGv_min50', 'EEGv_max50', 'EEGv_mean100', 'EEGv_median100', 'EEGv_var100', 'EEGv_min100', 'EEGv_max100', 'EEGv_log', 'EEGv^2', 'EEGv^3']\n"
     ]
    }
   ],
   "source": [
    "eeg_columns = ['rawState', 'state', 'EEGv', 'spectral_flatness', 'spectral_centroid', 'spectral_entropy','spectral_rolloff_0.1', 'spectral_rolloff_0.2', 'spectral_rolloff_0.3', 'spectral_rolloff_0.4', 'spectral_rolloff_0.5', 'spectral_rolloff_0.6', 'spectral_rolloff_0.7', 'spectral_rolloff_0.8', 'spectral_rolloff_0.9' ]\n",
    "# add the columns that contain the EMG \n",
    "eeg_columns.extend([col for col in df_train.columns if 'EEG' in col])\n",
    "print(eeg_columns)\n",
    "\n",
    "df_train_sleep = df_train_sleep[eeg_columns]\n",
    "df_test_sleep = df_test_sleep[eeg_columns]"
   ]
  },
  {
   "cell_type": "code",
   "execution_count": 16,
   "metadata": {},
   "outputs": [],
   "source": [
    "x_train_sleep, y_train_sleep_raw = splitData.split_labels(df_train_sleep)\n",
    "y_train_sleep, le_sleep = splitData.encode_labels(y_train_sleep_raw, cat_matrix=True)\n",
    "\n",
    "scaler_sleep = StandardScaler().fit(x_train_sleep)\n",
    "x_train_sleep = scaler_sleep.transform(x_train_sleep)"
   ]
  },
  {
   "cell_type": "code",
   "execution_count": 17,
   "metadata": {},
   "outputs": [],
   "source": [
    "x_test_sleep, y_test_sleep_raw = splitData.split_labels(df_test_sleep)\n",
    "\n",
    "y_test_sleep = le_sleep.transform(y_test_sleep_raw)\n",
    "y_test_sleep = tf.keras.utils.to_categorical(y_test_sleep)\n",
    "\n",
    "x_test_sleep = scaler_sleep.transform(x_test_sleep)"
   ]
  },
  {
   "cell_type": "markdown",
   "metadata": {},
   "source": [
    "Training of sleep versus wake model"
   ]
  },
  {
   "cell_type": "code",
   "execution_count": 18,
   "metadata": {},
   "outputs": [
    {
     "data": {
      "text/html": [
       "<style>#sk-container-id-1 {color: black;background-color: white;}#sk-container-id-1 pre{padding: 0;}#sk-container-id-1 div.sk-toggleable {background-color: white;}#sk-container-id-1 label.sk-toggleable__label {cursor: pointer;display: block;width: 100%;margin-bottom: 0;padding: 0.3em;box-sizing: border-box;text-align: center;}#sk-container-id-1 label.sk-toggleable__label-arrow:before {content: \"▸\";float: left;margin-right: 0.25em;color: #696969;}#sk-container-id-1 label.sk-toggleable__label-arrow:hover:before {color: black;}#sk-container-id-1 div.sk-estimator:hover label.sk-toggleable__label-arrow:before {color: black;}#sk-container-id-1 div.sk-toggleable__content {max-height: 0;max-width: 0;overflow: hidden;text-align: left;background-color: #f0f8ff;}#sk-container-id-1 div.sk-toggleable__content pre {margin: 0.2em;color: black;border-radius: 0.25em;background-color: #f0f8ff;}#sk-container-id-1 input.sk-toggleable__control:checked~div.sk-toggleable__content {max-height: 200px;max-width: 100%;overflow: auto;}#sk-container-id-1 input.sk-toggleable__control:checked~label.sk-toggleable__label-arrow:before {content: \"▾\";}#sk-container-id-1 div.sk-estimator input.sk-toggleable__control:checked~label.sk-toggleable__label {background-color: #d4ebff;}#sk-container-id-1 div.sk-label input.sk-toggleable__control:checked~label.sk-toggleable__label {background-color: #d4ebff;}#sk-container-id-1 input.sk-hidden--visually {border: 0;clip: rect(1px 1px 1px 1px);clip: rect(1px, 1px, 1px, 1px);height: 1px;margin: -1px;overflow: hidden;padding: 0;position: absolute;width: 1px;}#sk-container-id-1 div.sk-estimator {font-family: monospace;background-color: #f0f8ff;border: 1px dotted black;border-radius: 0.25em;box-sizing: border-box;margin-bottom: 0.5em;}#sk-container-id-1 div.sk-estimator:hover {background-color: #d4ebff;}#sk-container-id-1 div.sk-parallel-item::after {content: \"\";width: 100%;border-bottom: 1px solid gray;flex-grow: 1;}#sk-container-id-1 div.sk-label:hover label.sk-toggleable__label {background-color: #d4ebff;}#sk-container-id-1 div.sk-serial::before {content: \"\";position: absolute;border-left: 1px solid gray;box-sizing: border-box;top: 0;bottom: 0;left: 50%;z-index: 0;}#sk-container-id-1 div.sk-serial {display: flex;flex-direction: column;align-items: center;background-color: white;padding-right: 0.2em;padding-left: 0.2em;position: relative;}#sk-container-id-1 div.sk-item {position: relative;z-index: 1;}#sk-container-id-1 div.sk-parallel {display: flex;align-items: stretch;justify-content: center;background-color: white;position: relative;}#sk-container-id-1 div.sk-item::before, #sk-container-id-1 div.sk-parallel-item::before {content: \"\";position: absolute;border-left: 1px solid gray;box-sizing: border-box;top: 0;bottom: 0;left: 50%;z-index: -1;}#sk-container-id-1 div.sk-parallel-item {display: flex;flex-direction: column;z-index: 1;position: relative;background-color: white;}#sk-container-id-1 div.sk-parallel-item:first-child::after {align-self: flex-end;width: 50%;}#sk-container-id-1 div.sk-parallel-item:last-child::after {align-self: flex-start;width: 50%;}#sk-container-id-1 div.sk-parallel-item:only-child::after {width: 0;}#sk-container-id-1 div.sk-dashed-wrapped {border: 1px dashed gray;margin: 0 0.4em 0.5em 0.4em;box-sizing: border-box;padding-bottom: 0.4em;background-color: white;}#sk-container-id-1 div.sk-label label {font-family: monospace;font-weight: bold;display: inline-block;line-height: 1.2em;}#sk-container-id-1 div.sk-label-container {text-align: center;}#sk-container-id-1 div.sk-container {/* jupyter's `normalize.less` sets `[hidden] { display: none; }` but bootstrap.min.css set `[hidden] { display: none !important; }` so we also need the `!important` here to be able to override the default hidden behavior on the sphinx rendered scikit-learn.org. See: https://github.com/scikit-learn/scikit-learn/issues/21755 */display: inline-block !important;position: relative;}#sk-container-id-1 div.sk-text-repr-fallback {display: none;}</style><div id=\"sk-container-id-1\" class=\"sk-top-container\"><div class=\"sk-text-repr-fallback\"><pre>RandomForestClassifier(class_weight=&#x27;balanced&#x27;, n_jobs=-1, random_state=23)</pre><b>In a Jupyter environment, please rerun this cell to show the HTML representation or trust the notebook. <br />On GitHub, the HTML representation is unable to render, please try loading this page with nbviewer.org.</b></div><div class=\"sk-container\" hidden><div class=\"sk-item\"><div class=\"sk-estimator sk-toggleable\"><input class=\"sk-toggleable__control sk-hidden--visually\" id=\"sk-estimator-id-1\" type=\"checkbox\" checked><label for=\"sk-estimator-id-1\" class=\"sk-toggleable__label sk-toggleable__label-arrow\">RandomForestClassifier</label><div class=\"sk-toggleable__content\"><pre>RandomForestClassifier(class_weight=&#x27;balanced&#x27;, n_jobs=-1, random_state=23)</pre></div></div></div></div></div>"
      ],
      "text/plain": [
       "RandomForestClassifier(class_weight='balanced', n_jobs=-1, random_state=23)"
      ]
     },
     "execution_count": 18,
     "metadata": {},
     "output_type": "execute_result"
    }
   ],
   "source": [
    "rfc_ws = RandomForestClassifier(random_state=23, n_jobs=-1, class_weight='balanced')\n",
    "rfc_ws.fit(x_train_ws, y_train_ws)"
   ]
  },
  {
   "cell_type": "code",
   "execution_count": 19,
   "metadata": {},
   "outputs": [],
   "source": [
    "y_pred_ws = rfc_ws.predict(x_test_ws)"
   ]
  },
  {
   "cell_type": "code",
   "execution_count": 20,
   "metadata": {},
   "outputs": [
    {
     "name": "stdout",
     "output_type": "stream",
     "text": [
      "[[266195  30630]\n",
      " [ 26342 380525]]\n",
      "              precision    recall  f1-score   support\n",
      "\n",
      "           s       0.91      0.90      0.90    296825\n",
      "           w       0.93      0.94      0.93    406867\n",
      "\n",
      "    accuracy                           0.92    703692\n",
      "   macro avg       0.92      0.92      0.92    703692\n",
      "weighted avg       0.92      0.92      0.92    703692\n",
      "\n"
     ]
    },
    {
     "data": {
      "image/png": "[encoded data removed]",
      "text/plain": [
       "<Figure size 640x480 with 2 Axes>"
      ]
     },
     "metadata": {},
     "output_type": "display_data"
    }
   ],
   "source": [
    "from sklearn.metrics import classification_report, confusion_matrix\n",
    "pred = np.argmax(y_pred_ws, axis=1)\n",
    "test = np.argmax(y_test_ws, axis=1)\n",
    "\n",
    "# plot the confusion matrix between predictions of the model and real values\n",
    "\n",
    "cm = np.array(confusion_matrix(test, pred))\n",
    "print(cm)\n",
    "\n",
    "cm = np.array(confusion_matrix(test, pred, normalize='true')) # normalize = 'true' or 'pred'\n",
    "confusion = pd.DataFrame(cm, index=le_ws.classes_, columns=le_ws.classes_ + ' (pred)')\n",
    "\n",
    "print(classification_report(test, pred, target_names=le_ws.classes_, zero_division=0))\n",
    "\n",
    "sns.heatmap(confusion, annot=True, cmap=\"Blues\", fmt='.2f')\n",
    "plt.title(f'Confusion matrix (normalize = true)')\n",
    "plt.show()"
   ]
  },
  {
   "cell_type": "markdown",
   "metadata": {},
   "source": [
    "Training of sleep stages model"
   ]
  },
  {
   "cell_type": "code",
   "execution_count": 21,
   "metadata": {},
   "outputs": [
    {
     "data": {
      "text/html": [
       "<style>#sk-container-id-2 {color: black;background-color: white;}#sk-container-id-2 pre{padding: 0;}#sk-container-id-2 div.sk-toggleable {background-color: white;}#sk-container-id-2 label.sk-toggleable__label {cursor: pointer;display: block;width: 100%;margin-bottom: 0;padding: 0.3em;box-sizing: border-box;text-align: center;}#sk-container-id-2 label.sk-toggleable__label-arrow:before {content: \"▸\";float: left;margin-right: 0.25em;color: #696969;}#sk-container-id-2 label.sk-toggleable__label-arrow:hover:before {color: black;}#sk-container-id-2 div.sk-estimator:hover label.sk-toggleable__label-arrow:before {color: black;}#sk-container-id-2 div.sk-toggleable__content {max-height: 0;max-width: 0;overflow: hidden;text-align: left;background-color: #f0f8ff;}#sk-container-id-2 div.sk-toggleable__content pre {margin: 0.2em;color: black;border-radius: 0.25em;background-color: #f0f8ff;}#sk-container-id-2 input.sk-toggleable__control:checked~div.sk-toggleable__content {max-height: 200px;max-width: 100%;overflow: auto;}#sk-container-id-2 input.sk-toggleable__control:checked~label.sk-toggleable__label-arrow:before {content: \"▾\";}#sk-container-id-2 div.sk-estimator input.sk-toggleable__control:checked~label.sk-toggleable__label {background-color: #d4ebff;}#sk-container-id-2 div.sk-label input.sk-toggleable__control:checked~label.sk-toggleable__label {background-color: #d4ebff;}#sk-container-id-2 input.sk-hidden--visually {border: 0;clip: rect(1px 1px 1px 1px);clip: rect(1px, 1px, 1px, 1px);height: 1px;margin: -1px;overflow: hidden;padding: 0;position: absolute;width: 1px;}#sk-container-id-2 div.sk-estimator {font-family: monospace;background-color: #f0f8ff;border: 1px dotted black;border-radius: 0.25em;box-sizing: border-box;margin-bottom: 0.5em;}#sk-container-id-2 div.sk-estimator:hover {background-color: #d4ebff;}#sk-container-id-2 div.sk-parallel-item::after {content: \"\";width: 100%;border-bottom: 1px solid gray;flex-grow: 1;}#sk-container-id-2 div.sk-label:hover label.sk-toggleable__label {background-color: #d4ebff;}#sk-container-id-2 div.sk-serial::before {content: \"\";position: absolute;border-left: 1px solid gray;box-sizing: border-box;top: 0;bottom: 0;left: 50%;z-index: 0;}#sk-container-id-2 div.sk-serial {display: flex;flex-direction: column;align-items: center;background-color: white;padding-right: 0.2em;padding-left: 0.2em;position: relative;}#sk-container-id-2 div.sk-item {position: relative;z-index: 1;}#sk-container-id-2 div.sk-parallel {display: flex;align-items: stretch;justify-content: center;background-color: white;position: relative;}#sk-container-id-2 div.sk-item::before, #sk-container-id-2 div.sk-parallel-item::before {content: \"\";position: absolute;border-left: 1px solid gray;box-sizing: border-box;top: 0;bottom: 0;left: 50%;z-index: -1;}#sk-container-id-2 div.sk-parallel-item {display: flex;flex-direction: column;z-index: 1;position: relative;background-color: white;}#sk-container-id-2 div.sk-parallel-item:first-child::after {align-self: flex-end;width: 50%;}#sk-container-id-2 div.sk-parallel-item:last-child::after {align-self: flex-start;width: 50%;}#sk-container-id-2 div.sk-parallel-item:only-child::after {width: 0;}#sk-container-id-2 div.sk-dashed-wrapped {border: 1px dashed gray;margin: 0 0.4em 0.5em 0.4em;box-sizing: border-box;padding-bottom: 0.4em;background-color: white;}#sk-container-id-2 div.sk-label label {font-family: monospace;font-weight: bold;display: inline-block;line-height: 1.2em;}#sk-container-id-2 div.sk-label-container {text-align: center;}#sk-container-id-2 div.sk-container {/* jupyter's `normalize.less` sets `[hidden] { display: none; }` but bootstrap.min.css set `[hidden] { display: none !important; }` so we also need the `!important` here to be able to override the default hidden behavior on the sphinx rendered scikit-learn.org. See: https://github.com/scikit-learn/scikit-learn/issues/21755 */display: inline-block !important;position: relative;}#sk-container-id-2 div.sk-text-repr-fallback {display: none;}</style><div id=\"sk-container-id-2\" class=\"sk-top-container\"><div class=\"sk-text-repr-fallback\"><pre>RandomForestClassifier(class_weight=&#x27;balanced&#x27;, n_jobs=-1, random_state=23)</pre><b>In a Jupyter environment, please rerun this cell to show the HTML representation or trust the notebook. <br />On GitHub, the HTML representation is unable to render, please try loading this page with nbviewer.org.</b></div><div class=\"sk-container\" hidden><div class=\"sk-item\"><div class=\"sk-estimator sk-toggleable\"><input class=\"sk-toggleable__control sk-hidden--visually\" id=\"sk-estimator-id-2\" type=\"checkbox\" checked><label for=\"sk-estimator-id-2\" class=\"sk-toggleable__label sk-toggleable__label-arrow\">RandomForestClassifier</label><div class=\"sk-toggleable__content\"><pre>RandomForestClassifier(class_weight=&#x27;balanced&#x27;, n_jobs=-1, random_state=23)</pre></div></div></div></div></div>"
      ],
      "text/plain": [
       "RandomForestClassifier(class_weight='balanced', n_jobs=-1, random_state=23)"
      ]
     },
     "execution_count": 21,
     "metadata": {},
     "output_type": "execute_result"
    }
   ],
   "source": [
    "rfc_sleep = RandomForestClassifier(random_state=23, n_jobs=-1, class_weight='balanced')\n",
    "rfc_sleep.fit(x_train_sleep, y_train_sleep)"
   ]
  },
  {
   "cell_type": "code",
   "execution_count": 22,
   "metadata": {},
   "outputs": [],
   "source": [
    "y_pred_sleep = rfc_sleep.predict(x_test_sleep)"
   ]
  },
  {
   "cell_type": "code",
   "execution_count": 23,
   "metadata": {},
   "outputs": [
    {
     "name": "stdout",
     "output_type": "stream",
     "text": [
      "[[256716   2185]\n",
      " [  7468  30456]]\n",
      "              precision    recall  f1-score   support\n",
      "\n",
      "           n       0.97      0.99      0.98    258901\n",
      "           r       0.93      0.80      0.86     37924\n",
      "\n",
      "    accuracy                           0.97    296825\n",
      "   macro avg       0.95      0.90      0.92    296825\n",
      "weighted avg       0.97      0.97      0.97    296825\n",
      "\n"
     ]
    },
    {
     "data": {
      "image/png": "[encoded data removed]",
      "text/plain": [
       "<Figure size 640x480 with 2 Axes>"
      ]
     },
     "metadata": {},
     "output_type": "display_data"
    }
   ],
   "source": [
    "from sklearn.metrics import classification_report, confusion_matrix\n",
    "pred = np.argmax(y_pred_sleep, axis=1)\n",
    "test = np.argmax(y_test_sleep, axis=1)\n",
    "\n",
    "# plot the confusion matrix between predictions of the model and real values\n",
    "\n",
    "cm = np.array(confusion_matrix(test, pred))\n",
    "print(cm)\n",
    "\n",
    "cm = np.array(confusion_matrix(test, pred, normalize='true')) # normalize = 'true' or 'pred'\n",
    "confusion = pd.DataFrame(cm, index=le_sleep.classes_, columns=le_sleep.classes_ + ' (pred)')\n",
    "\n",
    "print(classification_report(test, pred, target_names=le_sleep.classes_, zero_division=0))\n",
    "\n",
    "sns.heatmap(confusion, annot=True, cmap=\"Blues\", fmt='.2f')\n",
    "plt.title(f'Confusion matrix (normalize = true)')\n",
    "plt.show()"
   ]
  },
  {
   "cell_type": "markdown",
   "metadata": {},
   "source": [
    "Evaluation of the two models combined"
   ]
  },
  {
   "cell_type": "code",
   "execution_count": 48,
   "metadata": {},
   "outputs": [],
   "source": [
    "with open('/home/magali.egger/shared-projects/mice_UNIL/Data/df_simplify_labels.pkl', 'rb') as f:\n",
    "    df_simplify_labels = pickle.load(f)"
   ]
  },
  {
   "cell_type": "code",
   "execution_count": 49,
   "metadata": {},
   "outputs": [],
   "source": [
    "# remove wierd labels\n",
    "wierd_labels = ['a','8', 's', 'j', '1', '2', '3']\n",
    "df_simplify_labels = df_simplify_labels[~df_simplify_labels['label'].isin(wierd_labels)]"
   ]
  },
  {
   "cell_type": "code",
   "execution_count": 50,
   "metadata": {},
   "outputs": [],
   "source": [
    "df_simplify_labels = df_simplify_labels.drop(columns=['mouse'])\n",
    "df_simplify_labels = df_simplify_labels.drop(columns=['breed'])"
   ]
  },
  {
   "cell_type": "code",
   "execution_count": 62,
   "metadata": {},
   "outputs": [],
   "source": [
    "# emg_columns_train is the emg_columns but without the rawState and state columns\n",
    "\n",
    "emg_columns_train = ([col for col in df_simplify_labels.columns if 'EMG' in col])\n",
    "\n",
    "eeg_columns_train =['EEGv', 'spectral_flatness', 'spectral_centroid', 'spectral_entropy','spectral_rolloff_0.1', 'spectral_rolloff_0.2', 'spectral_rolloff_0.3', 'spectral_rolloff_0.4', 'spectral_rolloff_0.5', 'spectral_rolloff_0.6', 'spectral_rolloff_0.7', 'spectral_rolloff_0.8', 'spectral_rolloff_0.9' ]\n",
    "# add the columns that contain the EMG \n",
    "eeg_columns_train.extend([col for col in df_train.columns if 'EEG' in col])"
   ]
  },
  {
   "cell_type": "code",
   "execution_count": 64,
   "metadata": {},
   "outputs": [],
   "source": [
    "x_test, y_test_raw = splitData.split_labels_annotated(df_simplify_labels)\n",
    "\n",
    "x_test_ws = x_test[emg_columns_train]\n",
    "x_test_sleep = x_test[eeg_columns_train]"
   ]
  },
  {
   "cell_type": "code",
   "execution_count": 65,
   "metadata": {},
   "outputs": [],
   "source": [
    "\n",
    "\n",
    "x_test_ws = scaler_ws.transform(x_test_ws)\n",
    "x_test_sleep = scaler_sleep.transform(x_test_sleep)"
   ]
  },
  {
   "cell_type": "code",
   "execution_count": 66,
   "metadata": {},
   "outputs": [],
   "source": [
    "def convert(states):\n",
    "    res = []\n",
    "    for state in states:\n",
    "        if state == 'n' or state == '5' or state=='2':\n",
    "            res.append(0)\n",
    "        elif state == 'r' or state=='6' or state=='3':\n",
    "            res.append(1)\n",
    "        elif state == 'w' or state=='4' or state=='1' or state=='9':\n",
    "            res.append(2)\n",
    "    return res"
   ]
  },
  {
   "cell_type": "code",
   "execution_count": 67,
   "metadata": {},
   "outputs": [],
   "source": [
    "y_test = convert(y_test_raw)"
   ]
  },
  {
   "cell_type": "code",
   "execution_count": 68,
   "metadata": {},
   "outputs": [],
   "source": [
    "y_pred_ws = rfc_ws.predict(x_test_ws)\n",
    "y_pred_sleep = rfc_sleep.predict(x_test_sleep)"
   ]
  },
  {
   "cell_type": "code",
   "execution_count": 69,
   "metadata": {},
   "outputs": [],
   "source": [
    "pred_ws = np.argmax(y_pred_ws, axis=1)\n",
    "pred_sleep = np.argmax(y_pred_sleep, axis=1)"
   ]
  },
  {
   "cell_type": "code",
   "execution_count": 70,
   "metadata": {},
   "outputs": [],
   "source": [
    "result = []\n",
    "\n",
    "for i in range(len(pred_ws)):\n",
    "    if pred_ws[i] == 0:\n",
    "        if pred_sleep[i] == 0:\n",
    "            result.append(0)\n",
    "        else:\n",
    "            result.append(1)\n",
    "    else:\n",
    "        result.append(2)"
   ]
  },
  {
   "cell_type": "code",
   "execution_count": 71,
   "metadata": {},
   "outputs": [
    {
     "name": "stdout",
     "output_type": "stream",
     "text": [
      "[[1178392   11768  152389]\n",
      " [  38438  122494   13215]\n",
      " [ 158274   30976 1343273]]\n",
      "              precision    recall  f1-score   support\n",
      "\n",
      "           n       0.86      0.88      0.87   1342549\n",
      "           r       0.74      0.70      0.72    174147\n",
      "           w       0.89      0.88      0.88   1532523\n",
      "\n",
      "    accuracy                           0.87   3049219\n",
      "   macro avg       0.83      0.82      0.82   3049219\n",
      "weighted avg       0.87      0.87      0.87   3049219\n",
      "\n"
     ]
    },
    {
     "data": {
      "image/png": "[encoded data removed]",
      "text/plain": [
       "<Figure size 640x480 with 2 Axes>"
      ]
     },
     "metadata": {},
     "output_type": "display_data"
    }
   ],
   "source": [
    "from sklearn.metrics import classification_report, confusion_matrix\n",
    "pred = result\n",
    "test = y_test\n",
    "\n",
    "# plot the confusion matrix between predictions of the model and real values\n",
    "\n",
    "cm = np.array(confusion_matrix(test, pred))\n",
    "print(cm)\n",
    "\n",
    "cm = np.array(confusion_matrix(test, pred, normalize='true')) # normalize = 'true' or 'pred'\n",
    "confusion = pd.DataFrame(cm, index=['n', 'r', 'w'], columns=['n(pred)', 'r(pred)', 'w(pred)'])\n",
    "\n",
    "print(classification_report(test, pred, target_names=['n', 'r', 'w'], zero_division=0))\n",
    "\n",
    "sns.heatmap(confusion, annot=True, cmap=\"Blues\", fmt='.2f')\n",
    "plt.title(f'Confusion matrix (normalize = true)')\n",
    "plt.show()"
   ]
  },
  {
   "cell_type": "code",
   "execution_count": 73,
   "metadata": {},
   "outputs": [
    {
     "name": "stdout",
     "output_type": "stream",
     "text": [
      "['rawState', 'state', 'EEGv', 'spectral_flatness', 'spectral_centroid', 'spectral_entropy', 'spectral_rolloff_0.1', 'spectral_rolloff_0.2', 'spectral_rolloff_0.3', 'spectral_rolloff_0.4', 'spectral_rolloff_0.5', 'spectral_rolloff_0.6', 'spectral_rolloff_0.7', 'spectral_rolloff_0.8', 'spectral_rolloff_0.9', 'EEGv', 'EEGv_mean2', 'EEGv_median2', 'EEGv_var2', 'EEGv_min2', 'EEGv_max2', 'EEGv_mean5', 'EEGv_median5', 'EEGv_var5', 'EEGv_min5', 'EEGv_max5', 'EEGv_mean10', 'EEGv_median10', 'EEGv_var10', 'EEGv_min10', 'EEGv_max10', 'EEGv_mean20', 'EEGv_median20', 'EEGv_var20', 'EEGv_min20', 'EEGv_max20', 'EEGv_mean50', 'EEGv_median50', 'EEGv_var50', 'EEGv_min50', 'EEGv_max50', 'EEGv_mean100', 'EEGv_median100', 'EEGv_var100', 'EEGv_min100', 'EEGv_max100', 'EEGv_log', 'EEGv^2', 'EEGv^3']\n"
     ]
    }
   ],
   "source": [
    "print(eeg_columns)"
   ]
  },
  {
   "cell_type": "code",
   "execution_count": 74,
   "metadata": {},
   "outputs": [
    {
     "name": "stdout",
     "output_type": "stream",
     "text": [
      "['rawState', 'state', 'EMGv', 'EMGv_mean2', 'EMGv_median2', 'EMGv_var2', 'EMGv_min2', 'EMGv_max2', 'EMGv_mean5', 'EMGv_median5', 'EMGv_var5', 'EMGv_min5', 'EMGv_max5', 'EMGv_mean10', 'EMGv_median10', 'EMGv_var10', 'EMGv_min10', 'EMGv_max10', 'EMGv_mean20', 'EMGv_median20', 'EMGv_var20', 'EMGv_min20', 'EMGv_max20', 'EMGv_mean50', 'EMGv_median50', 'EMGv_var50', 'EMGv_min50', 'EMGv_max50', 'EMGv_mean100', 'EMGv_median100', 'EMGv_var100', 'EMGv_min100', 'EMGv_max100', 'EMGv_log', 'EMGv^2', 'EMGv^3']\n"
     ]
    }
   ],
   "source": [
    "print(emg_columns)"
   ]
  }
 ],
 "metadata": {
  "kernelspec": {
   "display_name": "tb",
   "language": "python",
   "name": "tb"
  },
  "language_info": {
   "codemirror_mode": {
    "name": "ipython",
    "version": 3
   },
   "file_extension": ".py",
   "mimetype": "text/x-python",
   "name": "python",
   "nbconvert_exporter": "python",
   "pygments_lexer": "ipython3",
   "version": "3.10.9"
  },
  "orig_nbformat": 4
 },
 "nbformat": 4,
 "nbformat_minor": 2
}
